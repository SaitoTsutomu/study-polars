{
 "cells": [
  {
   "cell_type": "code",
   "execution_count": 2,
   "id": "4fa7b10d-8345-4dc8-800a-b6e85875f823",
   "metadata": {
    "deletable": false,
    "editable": false,
    "frozen": false,
    "jupyter": {
     "source_hidden": true
    }
   },
   "outputs": [
    {
     "data": {
      "text/html": [
       "<style>\n",
       ".jp-Cell {\n",
       "    --jp-frozen-bg: #e8f4ff;\n",
       "    --jp-readonly-bg: #fff0b8;\n",
       "}\n",
       "</style>\n"
      ],
      "text/plain": [
       "<IPython.core.display.HTML object>"
      ]
     },
     "metadata": {},
     "output_type": "display_data"
    }
   ],
   "source": [
    "%%html\n",
    "<style>\n",
    ".jp-Cell {\n",
    "    --jp-frozen-bg: #e8f4ff;\n",
    "    --jp-readonly-bg: #fff0b8;\n",
    "}\n",
    "</style>"
   ]
  },
  {
   "cell_type": "markdown",
   "id": "4d01f4ae-904f-46e0-b6e5-fabb0995ac23",
   "metadata": {
    "deletable": false,
    "editable": false,
    "frozen": true
   },
   "source": [
    "# Polars入門\n",
    "\n",
    "## はじめに\n",
    "\n",
    "これはPolars 1.9.0学習用の教材です。\n",
    "\n",
    "https://polars-ja.github.io/docs-ja/\n",
    "\n",
    "※ 「データサイエンティスト協会スキル定義委員」の「データサイエンス100本ノック（構造化データ加工編）」を参考にしています。\n",
    "\n",
    "**学習手順**\n",
    "\n",
    "* 青いセルの説明を読む\n",
    "* 白いセルに問題の解答を書く\n",
    "* 黄色いセルを実行して確認する\n",
    "\n",
    "セル内でしか使わない変数は、`_`で始まります。\n",
    "\n",
    "## 基礎知識\n",
    "\n",
    "**特徴**\n",
    "\n",
    "* 高速性: Rustで実装されており、並列処理を活用して非常に高速なデータ処理を実現\n",
    "* メモリ効率: 列指向のストレージ形式を採用しており、大量のデータを効率的に扱える\n",
    "* 直感的なAPI: 意図した方法でクエリを書ける\n",
    "\n",
    "**インストール**\n",
    "\n",
    "```\n",
    "pip install polars\n",
    "```\n",
    "\n",
    "**インポート**\n",
    "\n",
    "```python\n",
    "import polars as pl\n",
    "import polars.selectors as cs\n",
    "```\n",
    "\n",
    "polarsモジュールを使ってDataFrameを作成したり、式を作成したりします。\n",
    "polars.selectorsは、列の選択などに使います。\n",
    "\n",
    "**主な型**\n",
    "\n",
    "* pl.DataFrame\n",
    "* pl.Series\n",
    "* 要素の型\n",
    "  * pl.Int8, pl.Int16, pl.Int32, pl.Int32: 整数\n",
    "  * pl.Float32, pl.Float64: 実数\n",
    "  * pl.Utf8: 文字列（pl.Stringの別名）\n",
    "  * pl.Date, pl.Datetime, pl.Duration: 日付や日時や時間間隔\n",
    "  * 文字列はstr属性、日付や日時や時間間隔はdt属性が使える\n",
    "\n",
    "※ pandasと違い、DataFrameはインデックスを持ちません。\n"
   ]
  },
  {
   "cell_type": "markdown",
   "id": "136d5ba1-3ca5-42e4-aac7-cf7b4f346063",
   "metadata": {
    "deletable": true,
    "editable": true,
    "frozen": false
   },
   "source": [
    "---"
   ]
  },
  {
   "cell_type": "markdown",
   "id": "bc787b22-0730-44a7-bb3f-a1cb0874f746",
   "metadata": {
    "deletable": false,
    "editable": false,
    "frozen": true
   },
   "source": [
    "### `問題A10`\n",
    "\n",
    "polarsとpolars.selectorsをそれぞれ、`pl`と`cs`としてインポートしてください。\n",
    "\n",
    "**解答欄**"
   ]
  },
  {
   "cell_type": "code",
   "execution_count": null,
   "id": "b7a3dd9b-b0d1-49ba-afb9-45139eb2bb6f",
   "metadata": {
    "deletable": true,
    "editable": true,
    "frozen": false
   },
   "outputs": [],
   "source": [
    "# ここから解答を作成してください\n"
   ]
  },
  {
   "cell_type": "markdown",
   "id": "88e47789-500d-4617-bab9-81bd543f18a4",
   "metadata": {
    "deletable": false,
    "editable": false,
    "frozen": true
   },
   "source": [
    "<details><summary>解答例</summary>\n",
    "<br>\n",
    "\n",
    "```python\n",
    "import polars as pl\n",
    "import polars.selectors as cs\n",
    "```\n",
    "</details>\n",
    "<br>\n",
    "\n",
    "**確認**"
   ]
  },
  {
   "cell_type": "code",
   "execution_count": null,
   "id": "c527945e-3e29-4546-ab1c-175e50fe50ff",
   "metadata": {
    "deletable": false,
    "editable": false,
    "frozen": false,
    "jupyter": {
     "source_hidden": true
    }
   },
   "outputs": [],
   "source": [
    "# このセルを実行してください\n",
    "try:\n",
    "    pl.col\n",
    "    cs.matches\n",
    "except NameError:\n",
    "    print(\"\\x1b[31mNG\\x1b[39m\")\n",
    "else:\n",
    "    print(\"\\x1b[32mOK\\x1b[39m\")"
   ]
  },
  {
   "cell_type": "markdown",
   "id": "68cc075d-9976-49b8-ac77-1ddaf7026283",
   "metadata": {
    "deletable": true,
    "editable": true,
    "frozen": false
   },
   "source": [
    "---"
   ]
  },
  {
   "cell_type": "markdown",
   "id": "b8516dcb-696f-4465-bb4b-e35e052ef31b",
   "metadata": {
    "deletable": false,
    "editable": false,
    "frozen": true
   },
   "source": [
    "## DataFrameの作成\n",
    "\n",
    "pandasのように列名をキーとする辞書から作成できます。\n",
    "\n",
    "```python\n",
    "df_store = pl.DataFrame(\n",
    "    {\n",
    "        \"cd\": [\"001\", \"002\"],\n",
    "        \"name\": [\"新宿店\", \"渋谷店\"],\n",
    "    }\n",
    ")\n",
    "```\n",
    "\n",
    "**CSVの読み込み**\n",
    "\n",
    "`read_csv()`でCSVファイルを読み込めます。\n",
    "\n",
    "```python\n",
    "df_category = pl.read_csv(ファイル名, オプション)\n",
    "```\n",
    "\n",
    "**主なオプション**\n",
    "\n",
    "* `schema`: 全ての列について、型を辞書で指定\n",
    "* `schema_overrides`: 一部の列について、型を辞書で指定\n",
    "* `encoding`: エンコーディングの指定\n",
    "\n",
    "**DataFrmaeの確認**\n",
    "\n",
    "`head(n)`で先頭`n`行を確認できます（`n`を省略すると5になります）。\n",
    "次のようにスライスも使えます。\n",
    "\n",
    "```python\n",
    "df_category.head(3)\n",
    "df_category[:3]  # df_category.head(3)と同じ\n",
    "```\n",
    "\n",
    "<div style=\"background: white;\"><small>shape: (3, 6)</small>\n",
    "<table border=\"1\" style=\"margin-left: 0;\"><thead>\n",
    "<tr><th>category_<br>major_cd</th><th>category_<br>major_name</th><th>category_<br>medium_cd</th><th>category_<br>medium_name</th><th>category_<br>small_cd</th><th>category_<br>small_name</th></tr>\n",
    "<tr><td>i64</td><td>str</td><td>i64</td><td>str</td><td>i64</td><td>str</td></tr>\n",
    "</thead><tbody>\n",
    "<tr><td>4</td><td>&quot;惣菜&quot;</td><td>401</td><td>&quot;御飯類&quot;</td><td>40101</td><td>&quot;弁当類&quot;</td></tr>\n",
    "<tr><td>4</td><td>&quot;惣菜&quot;</td><td>401</td><td>&quot;御飯類&quot;</td><td>40102</td><td>&quot;寿司類&quot;</td></tr>\n",
    "<tr><td>4</td><td>&quot;惣菜&quot;</td><td>402</td><td>&quot;佃煮類&quot;</td><td>40201</td><td>&quot;魚介佃煮類&quot;</td></tr>\n",
    "</tbody></table></div>\n"
   ]
  },
  {
   "cell_type": "markdown",
   "id": "17f16c71-15bf-48fb-8397-26e96cc9037f",
   "metadata": {
    "deletable": true,
    "editable": true,
    "frozen": false
   },
   "source": [
    "---"
   ]
  },
  {
   "cell_type": "markdown",
   "id": "c2a4da7b-18f1-4c4f-9b3c-88c72d66725a",
   "metadata": {
    "deletable": false,
    "editable": false,
    "frozen": true
   },
   "source": [
    "### `問題B10`\n",
    "\n",
    "辞書`_data`からDataFrameを作成し、`_df`に代入してください。\n",
    "\n",
    "**解答欄**"
   ]
  },
  {
   "cell_type": "code",
   "execution_count": null,
   "id": "12d23af1-d825-4388-b27f-d9ba22e146fa",
   "metadata": {
    "deletable": true,
    "editable": true,
    "frozen": false
   },
   "outputs": [],
   "source": [
    "_data = {\"id\": [\"001\", \"002\"], \"name\": [\"大野\", \"六角\"]}\n",
    "# ここから解答を作成してください\n"
   ]
  },
  {
   "cell_type": "markdown",
   "id": "f92bbf7e-8a75-42c5-b000-a3070cd86a7c",
   "metadata": {
    "deletable": false,
    "editable": false,
    "frozen": true
   },
   "source": [
    "<details><summary>解答例</summary>\n",
    "<br>\n",
    "\n",
    "```python\n",
    "_df = pl.DataFrame(_data)\n",
    "_df\n",
    "```\n",
    "</details>\n",
    "<br>\n",
    "\n",
    "**確認**"
   ]
  },
  {
   "cell_type": "code",
   "execution_count": null,
   "id": "3c0482c7-bf47-41c6-8a18-7a0ca9287e3f",
   "metadata": {
    "deletable": false,
    "editable": false,
    "frozen": false,
    "jupyter": {
     "source_hidden": true
    }
   },
   "outputs": [],
   "source": [
    "# このセルを実行してください\n",
    "try:\n",
    "    _ans = pl.DataFrame(_data)\n",
    "    assert _ans.equals(_df)\n",
    "except (AssertionError, NameError):\n",
    "    print(\"\\x1b[31mNG\\x1b[39m\")\n",
    "else:\n",
    "    print(\"\\x1b[32mOK\\x1b[39m\")"
   ]
  },
  {
   "cell_type": "markdown",
   "id": "754e8a9a-67c1-41e7-896b-0ea8c753b092",
   "metadata": {
    "deletable": true,
    "editable": true,
    "frozen": false
   },
   "source": [
    "---"
   ]
  },
  {
   "cell_type": "markdown",
   "id": "765af972-ba70-4220-9531-b275234ff9bd",
   "metadata": {
    "deletable": false,
    "editable": false,
    "frozen": true
   },
   "source": [
    "### `問題B12`\n",
    "\n",
    "ファイル`_file`からCSVを読み込み、`_df`に代入してください。\n",
    "`_df`の先頭の3行を表示してください。\n",
    "\n",
    "**解答欄**"
   ]
  },
  {
   "cell_type": "code",
   "execution_count": null,
   "id": "532ab9be-06ae-4ce4-ae88-f6511fabaef6",
   "metadata": {
    "deletable": true,
    "editable": true,
    "frozen": false
   },
   "outputs": [],
   "source": [
    "_file = \"../data/receipt.csv\"\n",
    "# ここから解答を作成してください\n"
   ]
  },
  {
   "cell_type": "markdown",
   "id": "d8308fc5-78ac-4e4c-9a89-30448e6abe2f",
   "metadata": {
    "deletable": false,
    "editable": false,
    "frozen": true
   },
   "source": [
    "<details><summary>解答例</summary>\n",
    "<br>\n",
    "\n",
    "```python\n",
    "_df = pl.read_csv(_file)\n",
    "_df.head(3)\n",
    "```\n",
    "</details>\n",
    "<br>\n",
    "\n",
    "**確認**"
   ]
  },
  {
   "cell_type": "code",
   "execution_count": null,
   "id": "4b506dd5-e80d-4bb7-a268-c6287ae95b33",
   "metadata": {
    "deletable": false,
    "editable": false,
    "frozen": false,
    "jupyter": {
     "source_hidden": true
    }
   },
   "outputs": [],
   "source": [
    "# このセルを実行してください\n",
    "import polars as pl\n",
    "try:\n",
    "    _ans = pl.read_csv(_file)\n",
    "    assert _ans.equals(_df)\n",
    "except (AssertionError, NameError):\n",
    "    print(\"\\x1b[31mNG\\x1b[39m\")\n",
    "else:\n",
    "    print(\"\\x1b[32mOK\\x1b[39m\")"
   ]
  },
  {
   "cell_type": "markdown",
   "id": "053c7f9e-a396-4be5-8e01-1c1293ba673f",
   "metadata": {
    "deletable": true,
    "editable": true,
    "frozen": false
   },
   "source": [
    "---"
   ]
  },
  {
   "cell_type": "markdown",
   "id": "fe287786-9e55-4435-b7b7-49b0ed7411b1",
   "metadata": {
    "deletable": false,
    "editable": false,
    "frozen": true
   },
   "source": [
    "### `問題B14`\n",
    "\n",
    "次の条件で、ファイル`_file`からCSVを読み込み、`df_receipt`に代入してください。\n",
    "* `schema_overrides`に`schema`を指定\n",
    "* `encoding`に`encoding`を指定\n",
    "\n",
    "`df_receipt`の先頭の3行を表示してください。\n",
    "\n",
    "**解答欄**"
   ]
  },
  {
   "cell_type": "code",
   "execution_count": null,
   "id": "267c69f7-ac90-432d-94ea-71a6966a0fc5",
   "metadata": {
    "deletable": true,
    "editable": true,
    "frozen": false
   },
   "outputs": [],
   "source": [
    "_file = \"../data/receipt.csv\"\n",
    "schema = {\"sales_ymd\": pl.Int64, \"store_cd\": pl.Utf8}\n",
    "encoding = \"utf-8\"\n",
    "# ここから解答を作成してください\n"
   ]
  },
  {
   "cell_type": "markdown",
   "id": "b582d617-784b-427b-b97d-e0710fd05ba0",
   "metadata": {
    "deletable": false,
    "editable": false,
    "frozen": true
   },
   "source": [
    "<details><summary>解答例</summary>\n",
    "<br>\n",
    "\n",
    "```python\n",
    "df_receipt = pl.read_csv(_file, schema_overrides=schema, encoding=encoding)\n",
    "df_receipt.head(3)\n",
    "```\n",
    "</details>\n",
    "<br>\n",
    "\n",
    "**確認**"
   ]
  },
  {
   "cell_type": "code",
   "execution_count": null,
   "id": "6af73a2d-d29f-4c87-9c4e-58e0c952c697",
   "metadata": {
    "deletable": false,
    "editable": false,
    "frozen": false,
    "jupyter": {
     "source_hidden": true
    }
   },
   "outputs": [],
   "source": [
    "# このセルを実行してください\n",
    "_ans = pl.read_csv(_file, schema_overrides=schema, encoding=encoding)\n",
    "try:\n",
    "    assert _ans.equals(df_receipt)\n",
    "except (AssertionError, NameError):\n",
    "    print(\"\\x1b[31mNG\\x1b[39m\")\n",
    "else:\n",
    "    print(\"\\x1b[32mOK\\x1b[39m\")"
   ]
  },
  {
   "cell_type": "markdown",
   "id": "7753b4ff-6923-4f43-a32e-a090de6531eb",
   "metadata": {
    "deletable": true,
    "editable": true,
    "frozen": false
   },
   "source": [
    "---"
   ]
  },
  {
   "cell_type": "markdown",
   "id": "ded6a3df-dae0-4b79-89ab-38c72ac27fea",
   "metadata": {
    "deletable": false,
    "editable": false,
    "frozen": true
   },
   "source": [
    "## DataFrameの列の選択・追加・更新\n",
    "\n",
    "DataFrameから列を選択するには、`select()`に選択する列を指定します。\n",
    "\n",
    "```python\n",
    "df_receipt.select(\"sales_ymd\", \"store_cd\")\n",
    "```\n",
    "\n",
    "<div style=\"background: white;\"><small>shape: (104_681, 2)</small>\n",
    "<table border=\"1\" style=\"margin-left: 0;\"><thead>\n",
    "<tr><th>sales_ymd</th><th>store_cd</th></tr><tr><td>i64</td><td>str</td></tr>\n",
    "</thead><tbody>\n",
    "<tr><td>20181103</td><td>&quot;S14006&quot;</td></tr>\n",
    "<tr><td>20181118</td><td>&quot;S13008&quot;</td></tr>\n",
    "<tr><td>20170712</td><td>&quot;S14028&quot;</td></tr>\n",
    "<tr><td>&hellip;</td><td>&hellip;</td></tr>\n",
    "<tr><td colspan=\"2\">以下略</td></tr>\n",
    "</tbody></table></div>\n",
    "\n",
    "引数には、列名だけでなく**エクスプレッション**を指定できます。\n",
    "列を表すエクスプレッションは、次のように`pl.col(列名)`と書きます。\n",
    "\n",
    "```python\n",
    "df_receipt.select(pl.col(\"sales_ymd\"), pl.col(\"store_cd\"))\n",
    "```\n",
    "\n",
    "エクスプレッションは、pl.Expr型のオブジェクトです。以降では**式**と呼ぶことにします。\n",
    "\n",
    "式を使うことで、さまざまな処理を記述できます。\n",
    "\n",
    "たとえば、`alias(列名)`を使うと列名を変更できます。\n",
    "\n",
    "```python\n",
    "df_receipt.select(pl.col(\"sales_ymd\").alias(\"date\"), pl.col(\"store_cd\").alias(\"cd\"))\n",
    "```\n",
    "\n",
    "<div style=\"background: white;\"><small>shape: (104_681, 2)</small>\n",
    "<table border=\"1\" style=\"margin-left: 0;\"><thead>\n",
    "<tr><th>date</th><th>cd</th></tr>\n",
    "<tr><td>i64</td><td>str</td></tr>\n",
    "</thead><tbody>\n",
    "<tr><td colspan=\"2\">以下略</td></tr>\n",
    "</tbody></table></div>\n",
    "\n",
    "式は、DataFrameと独立に作成できます。DataFrameの列そのものではなく、列に対する処理と考えてください。\n",
    "\n",
    "以降では、次のように変数`col`に列の式が入っているとします（後で作成します）。\n",
    "\n",
    "```python\n",
    "col.sales_ymd = pl.col(\"sales_ymd\")\n",
    "col.store_cd = pl.col(\"store_cd\")\n",
    "df_receipt.select(col.sales_ymd.alias(\"date\"), col.store_cd.alias(\"cd\"))\n",
    "```\n",
    "\n",
    "**列の追加・更新**\n",
    "\n",
    "次のように、列を追加できます。\n",
    "\n",
    "* 既存の列を残して追加する場合: `with_columns()`を使う\n",
    "* 一部の列を選択して追加する場合: `select()`を使う\n",
    "\n",
    "引数には式などを指定します。\n",
    "\n",
    "なお、同名の列がある場合には、追加ではなく更新になります。\n",
    "\n",
    "`df_receipt`の先頭3行に、列`id`として通し番号を追加するには、次のようにします。\n",
    "`pl.Series()`は実データなので、式ではありませんが指定できます。\n",
    "元の9列から10列に増えています。\n",
    "\n",
    "```python\n",
    "df_receipt.head(3).with_columns(pl.Series(name=\"id\", values=[0, 1, 2]))\n",
    "```\n",
    "\n",
    "<div style=\"background: white;\"><small>shape: (3, 10)</small>\n",
    "<table border=\"1\" style=\"margin-left: 0;\"><thead>\n",
    "<tr><th>sales_ymd</th><th>&hellip;</th><th>amount</th><th>id</th></tr>\n",
    "<tr><td>i64</td><td>&hellip;</td><td>i64</td><td>i64</td></tr>\n",
    "</thead><tbody>\n",
    "<tr><td>20181103</td><td>&hellip;</td><td>158</td><td>0</td></tr>\n",
    "<tr><td>20181118</td><td>&hellip;</td><td>81</td><td>1</td></tr>\n",
    "<tr><td>20170712</td><td>&hellip;</td><td>170</td><td>2</td></tr>\n",
    "</tbody></table></div>\n",
    "\n",
    "※ `with_row_index()`を使うとより簡単に記述できます。\n",
    "\n",
    "<br>\n",
    "\n",
    "式は、さまざまな演算ができます。たとえば、8桁の`col.sales_ymd`の上4桁を取得するには、`col.sales_ymd // 10000`とします。\n",
    "`col.sales_ymd`は、先程`pl.col(\"sales_ymd\")`と定義したものです。\n",
    "\n",
    "`df_receipt`の先頭3行に、列`year`として`col.sales_ymd`の上4桁を追加するには、次のようにします。\n",
    "\n",
    "```python\n",
    "df_receipt.head(3).with_columns((col.sales_ymd // 10000).alias(\"year\"))\n",
    "```\n",
    "\n",
    "<div style=\"background: white;\"><small>shape: (3, 10)</small>\n",
    "<table border=\"1\" style=\"margin-left: 0;\"><thead>\n",
    "<tr><th>sales_ymd</th><th>&hellip;</th><th>amount</th><th>year</th></tr>\n",
    "<tr><td>i64</td><td>&hellip;</td><td>i64</td><td>i64</td></tr>\n",
    "</thead><tbody>\n",
    "<tr><td>20181103</td><td>&hellip;</td><td>158</td><td>2018</td></tr>\n",
    "<tr><td>20181118</td><td>&hellip;</td><td>81</td><td>2018</td></tr>\n",
    "<tr><td>20170712</td><td>&hellip;</td><td>170</td><td>2017</td></tr>\n",
    "</tbody></table></div>\n",
    "\n",
    "列はいくつでも追加できます。\n",
    "\n",
    "また、`alias()`の代わりにキーワード引数も使えます。\n",
    "\n",
    "```python\n",
    "df_receipt.head(3).with_columns(\n",
    "    year=col.sales_ymd // 10000,\n",
    "    month=col.sales_ymd // 100 % 100,\n",
    "    day=col.sales_ymd % 100,\n",
    ")\n",
    "```\n",
    "\n",
    "<div style=\"background: white;\"><small>shape: (3, 12)</small>\n",
    "<table border=\"1\" style=\"margin-left: 0;\"><thead>\n",
    "<tr><th>sales_ymd</th><th>&hellip;</th><th>year</th><th>month</th><th>day</th></tr>\n",
    "<tr><td>i64</td><td>&hellip;</td><td>i64</td><td>i64</td><td>i64</td></tr>\n",
    "</thead><tbody>\n",
    "<tr><td>20181103</td><td>&hellip;</td><td>2018</td><td>11</td><td>3</td></tr>\n",
    "<tr><td>20181118</td><td>&hellip;</td><td>2018</td><td>11</td><td>18</td></tr>\n",
    "<tr><td>20170712</td><td>&hellip;</td><td>2017</td><td>7</td><td>12</td></tr>\n",
    "</tbody></table></div>\n",
    "\n",
    "`select()`を使うと指定した列だけになります。次のようにすると4列になります。\n",
    "\n",
    "```python\n",
    "df_receipt.head(3).select(\n",
    "    col.sales_ymd,\n",
    "    year=col.sales_ymd // 10000,\n",
    "    month=col.sales_ymd // 100 % 100,\n",
    "    day=col.sales_ymd % 100,\n",
    ")\n",
    "```\n",
    "\n",
    "<div style=\"background: white;\"><small>shape: (3, 4)</small>\n",
    "<table border=\"1\" style=\"margin-left: 0;\"><thead>\n",
    "<tr><th>sales_ymd</th><th>year</th><th>month</th><th>day</th></tr>\n",
    "<tr><td>i64</td><td>i64</td><td>i64</td><td>i64</td></tr>\n",
    "</thead><tbody>\n",
    "<tr><td>20181103</td><td>2018</td><td>11</td><td>3</td></tr>\n",
    "<tr><td>20181118</td><td>2018</td><td>11</td><td>18</td></tr>\n",
    "<tr><td>20170712</td><td>2017</td><td>7</td><td>12</td></tr>\n",
    "</tbody></table></div>\n"
   ]
  },
  {
   "cell_type": "markdown",
   "id": "570e16d6-9454-4c55-90c9-a7c70e855eb9",
   "metadata": {
    "deletable": true,
    "editable": true,
    "frozen": false
   },
   "source": [
    "---"
   ]
  },
  {
   "cell_type": "markdown",
   "id": "49edd3f8-0cfb-4abc-ac11-404c3992c404",
   "metadata": {
    "deletable": false,
    "editable": false,
    "frozen": true
   },
   "source": [
    "## 【重要】問題で使うDataFrameとExprの準備\n",
    "\n",
    "次のDataFrameを作成します。これらは、以降の問題で使います。\n",
    "\n",
    "* `df_customer`\n",
    "* `df_category`\n",
    "* `df_product`\n",
    "* `df_receipt`\n",
    "* `df_store`\n",
    "* `df_geocode`\n",
    "\n",
    "また、これらのDataFrameの**全列の式**を次のように変数`col`からアクセスできるようにします。\n",
    "\n",
    "```python\n",
    "col.sales_ymd = pl.col(\"sales_ymd\")\n",
    "```\n",
    "\n",
    "これにより、**`pl.col(\"sales_ymd\")`の代わりに`col.sales_ymd`が使えます**。\n",
    "\n",
    "途中の問題から始める場合も次のセルを実行してください。"
   ]
  },
  {
   "cell_type": "code",
   "execution_count": null,
   "id": "35434ef8-412c-4979-845b-6a0802081153",
   "metadata": {
    "deletable": false,
    "editable": false,
    "frozen": false
   },
   "outputs": [],
   "source": [
    "# このセルを実行してください\n",
    "import polars as pl\n",
    "import polars.selectors as cs\n",
    "\n",
    "_cs = [\"customer_id\", \"gender_cd\", \"postal_cd\", \"application_store_cd\", \"status_cd\"]\n",
    "_cs += [\"category_major_cd\", \"category_medium_cd\", \"category_small_cd\", \"product_cd\"]\n",
    "_cs += [\"store_cd\", \"prefecture_cd\", \"tel_no\", \"street\", \"application_date\"]\n",
    "schema = pl.Schema({\"birth_day\": pl.Date, **{c: pl.Utf8 for c in _cs}})\n",
    "kwargs = {\"schema_overrides\": schema, \"encoding\": \"utf-8-sig\"}\n",
    "df_customer = pl.read_csv(\"../data/customer.csv\", **kwargs)\n",
    "df_category = pl.read_csv(\"../data/category.csv\", **kwargs)\n",
    "df_product = pl.read_csv(\"../data/product.csv\", **kwargs)\n",
    "df_receipt = pl.read_csv(\"../data/receipt.csv\", **kwargs)\n",
    "df_store = pl.read_csv(\"../data/store.csv\", **kwargs)\n",
    "df_geocode = pl.read_csv(\"../data/geocode.csv\", **kwargs)\n",
    "\n",
    "class Col:\n",
    "    @classmethod\n",
    "    def from_dataframes(cls, *dfs: pl.DataFrame):\n",
    "        col = cls()\n",
    "        for df in dfs:\n",
    "            for column in df.columns:\n",
    "                setattr(col, column, pl.col(column))\n",
    "        return col\n",
    "\n",
    "# 列名にアクセスする変数を作成\n",
    "col = Col.from_dataframes(df_customer, df_category, df_product, df_receipt, df_store, df_geocode)\n",
    "\n",
    "print(f\"{pl.__version__ = }\")"
   ]
  },
  {
   "cell_type": "markdown",
   "id": "f622e1de-cc6a-4aa2-9d1f-7347d9c39e36",
   "metadata": {
    "deletable": true,
    "editable": true,
    "frozen": false
   },
   "source": [
    "---"
   ]
  },
  {
   "cell_type": "markdown",
   "id": "c08a04ef-4063-4251-a20b-fd6d9bbaa45c",
   "metadata": {
    "deletable": false,
    "editable": false,
    "frozen": true
   },
   "source": [
    "### `問題C10`\n",
    "\n",
    "レシート明細データ（`df_receipt`）から次の列を選択し、変数`_df`に入れてください。そして、`_df`の先頭の3行を表示してください。\n",
    "\n",
    "* 売上年月日（`sales_ymd`）\n",
    "* 顧客ID（`customer_id`）\n",
    "* 商品コード（`product_cd`）\n",
    "* 売上金額（`amount`）\n",
    "\n",
    "**解答欄**"
   ]
  },
  {
   "cell_type": "code",
   "execution_count": null,
   "id": "4d3fb0a3-2221-40d2-9305-54333e0c164c",
   "metadata": {
    "deletable": true,
    "editable": true,
    "frozen": false
   },
   "outputs": [],
   "source": [
    "# ここから解答を作成してください\n"
   ]
  },
  {
   "cell_type": "markdown",
   "id": "cc3119b6-7697-4071-850a-b11a7928d981",
   "metadata": {
    "deletable": false,
    "editable": false,
    "frozen": true
   },
   "source": [
    "<details><summary>解答例</summary>\n",
    "<br>\n",
    "\n",
    "```python\n",
    "_df = df_receipt.select(col.sales_ymd, col.customer_id, col.product_cd, col.amount)\n",
    "_df.head(3)\n",
    "```\n",
    "</details>\n",
    "<br>\n",
    "\n",
    "**確認**"
   ]
  },
  {
   "cell_type": "code",
   "execution_count": null,
   "id": "c29adc92-49dd-4233-9f7a-53cd4dbf086f",
   "metadata": {
    "deletable": false,
    "editable": false,
    "frozen": false,
    "jupyter": {
     "source_hidden": true
    }
   },
   "outputs": [],
   "source": [
    "# このセルを実行してください\n",
    "_ans = df_receipt.select(col.sales_ymd, col.customer_id, col.product_cd, col.amount)\n",
    "try:\n",
    "    assert _ans.equals(_df)\n",
    "except (AssertionError, NameError):\n",
    "    print(\"\\x1b[31mNG\\x1b[39m\")\n",
    "else:\n",
    "    print(\"\\x1b[32mOK\\x1b[39m\")"
   ]
  },
  {
   "cell_type": "markdown",
   "id": "24bd318e-d349-4a74-be83-1f5c84889c65",
   "metadata": {
    "deletable": true,
    "editable": true,
    "frozen": false
   },
   "source": [
    "---"
   ]
  },
  {
   "cell_type": "markdown",
   "id": "c6967592-ca39-4408-893c-cc7bf0699d27",
   "metadata": {
    "deletable": false,
    "editable": false,
    "frozen": true
   },
   "source": [
    "### `問題C12`\n",
    "\n",
    "レシート明細データ（`df_receipt`）から次の列を選択し、変数`_df`に入れてください。そして、`_df`の先頭の3行を表示してください。\n",
    "\n",
    "* 売上年月日（`sales_ymd`）: 列名を`sales_date`に変更すること\n",
    "* 顧客ID（`customer_id`）\n",
    "* 商品コード（`product_cd`）\n",
    "* 売上金額（`amount`）\n",
    "\n",
    "**解答欄**"
   ]
  },
  {
   "cell_type": "code",
   "execution_count": null,
   "id": "df120f91-2f38-439d-b06b-3f25801b623a",
   "metadata": {
    "deletable": true,
    "editable": true,
    "frozen": false
   },
   "outputs": [],
   "source": [
    "# ここから解答を作成してください\n"
   ]
  },
  {
   "cell_type": "markdown",
   "id": "64c0b62f-4b5f-4d30-9e99-c5c66611d37a",
   "metadata": {
    "deletable": false,
    "editable": false,
    "frozen": true
   },
   "source": [
    "<details><summary>解答例</summary>\n",
    "<br>\n",
    "\n",
    "```python\n",
    "_df = df_receipt.select(\n",
    "    col.sales_ymd.alias(\"sales_date\"),\n",
    "    col.customer_id,\n",
    "    col.product_cd,\n",
    "    col.amount,\n",
    ")\n",
    "_df.head(3)\n",
    "```\n",
    "第2引数以降が位置引数のため、第1引数に`sales_date=col.sales_ymd`とキーワード引数を書けません。そのため、`alias()`で列名を変更します。\n",
    "\n",
    "**別解**\n",
    "```python\n",
    "_df = df_receipt.select(col.sales_ymd, col.customer_id, col.product_cd, col.amount).rename(\n",
    "    {\"sales_ymd\": \"sales_date\"}\n",
    ")\n",
    "```\n",
    "</details>\n",
    "<br>\n",
    "\n",
    "**確認**"
   ]
  },
  {
   "cell_type": "code",
   "execution_count": null,
   "id": "48458c18-0453-4e25-900c-21befd047582",
   "metadata": {
    "deletable": false,
    "editable": false,
    "frozen": false,
    "jupyter": {
     "source_hidden": true
    }
   },
   "outputs": [],
   "source": [
    "# このセルを実行してください\n",
    "_ans = df_receipt.select(\n",
    "    col.sales_ymd.alias(\"sales_date\"),\n",
    "    col.customer_id,\n",
    "    col.product_cd,\n",
    "    col.amount,\n",
    ")\n",
    "try:\n",
    "    assert _ans.equals(_df)\n",
    "except (AssertionError, NameError):\n",
    "    print(\"\\x1b[31mNG\\x1b[39m\")\n",
    "else:\n",
    "    print(\"\\x1b[32mOK\\x1b[39m\")"
   ]
  },
  {
   "cell_type": "markdown",
   "id": "b409f79b-ca6b-4c9d-a0a1-099cfc8b1ebb",
   "metadata": {
    "deletable": true,
    "editable": true,
    "frozen": false
   },
   "source": [
    "---"
   ]
  },
  {
   "cell_type": "markdown",
   "id": "9311819b-2986-4e11-953a-dae588ed8416",
   "metadata": {
    "deletable": false,
    "editable": false,
    "frozen": true
   },
   "source": [
    "## DataFrameの行の抽出\n",
    "\n",
    "DataFrameから行を抽出するには、次のように`filter()`を使います。\n",
    "\n",
    "```python\n",
    "df_receipt.filter(col.store_cd == \"S13002\")\n",
    "```\n",
    "\n",
    "複数の条件を組み合わせるには次のようにします。\n",
    "\n",
    "```python\n",
    "df_receipt.filter((col.store_cd == \"S13002\") & (col.amount >= 100))\n",
    "```\n",
    "\n",
    "また、値がある範囲に入るかどうかは次のようにします。デフォルトでは両端の値も含みます。\n",
    "\n",
    "```python\n",
    "df_receipt.filter(col.amount.is_between(200, 400))\n",
    "```\n",
    "\n",
    "文字列の列に対しては、次のように`str`属性を使って条件を書けます。\n",
    "\n",
    "* `str.starts_with()`: 指定の文字列で始まるか\n",
    "* `str.ends_with()`: 指定の文字列で終わるか\n",
    "* `str.contains()`: 指定した正規表現の文字列を含むか\n",
    "\n",
    "行の抽出と列の選択をしたい場合には、次のようにします。\n",
    "\n",
    "```python\n",
    "df_receipt.filter(col.amount).select(col.amount >= 100)\n",
    "```\n",
    "&emsp;&emsp;または\n",
    "```python\n",
    "df_receipt.select(col.amount >= 100).filter(col.amount)\n",
    "```\n",
    "\n",
    "どちらも同じ結果になります。\n"
   ]
  },
  {
   "cell_type": "markdown",
   "id": "91b4102b-b7af-45f0-a4b3-12a077441d6d",
   "metadata": {
    "deletable": false,
    "editable": false,
    "frozen": true
   },
   "source": [
    "---"
   ]
  },
  {
   "cell_type": "markdown",
   "id": "bf0ce418-de87-40dc-96a9-74e8d1f1c852",
   "metadata": {
    "deletable": false,
    "editable": false,
    "frozen": true
   },
   "source": [
    "### `問題D10`\n",
    "\n",
    "レシート明細データ（`df_receipt`）から以下の手順で取得し、変数`_df`に入れてください。そして、`_df`の先頭の3行を表示してください。\n",
    "\n",
    "* 顧客ID（`customer_id`）が`\"CS018205000001\"`を抽出\n",
    "* 売上日（`sales_ymd`）、顧客ID（`customer_id`）、商品コード（`product_cd`）、売上金額（`amount`）を選択\n",
    "\n",
    "**解答欄**"
   ]
  },
  {
   "cell_type": "code",
   "execution_count": null,
   "id": "7d483774-8196-490f-a353-47b4ebde27d7",
   "metadata": {
    "deletable": true,
    "editable": true,
    "frozen": false
   },
   "outputs": [],
   "source": [
    "# ここから解答を作成してください\n"
   ]
  },
  {
   "cell_type": "markdown",
   "id": "e99cd11c-98f0-414d-ba7b-a4a90f847b29",
   "metadata": {
    "deletable": false,
    "editable": false,
    "frozen": true
   },
   "source": [
    "<details><summary>解答例</summary>\n",
    "<br>\n",
    "\n",
    "```python\n",
    "_df = df_receipt.filter(col.customer_id == \"CS018205000001\").select(\n",
    "    col.sales_ymd, col.customer_id, col.product_cd, col.amount\n",
    ")\n",
    "_df.head(3)\n",
    "```\n",
    "このようにメソッドをつなげることをメソッドチェーンといいます。\n",
    "\n",
    "Polarsは、DataFrameのメソッドチェーンと、列のメソッドチェーンを同時に書けるので、柔軟に処理できます。\n",
    "</details>\n",
    "<br>\n",
    "\n",
    "**確認**"
   ]
  },
  {
   "cell_type": "code",
   "execution_count": null,
   "id": "c78006fd-fcac-4c22-ada9-c8a0eb7833c6",
   "metadata": {
    "deletable": false,
    "editable": false,
    "frozen": false,
    "jupyter": {
     "source_hidden": true
    }
   },
   "outputs": [],
   "source": [
    "# このセルを実行してください\n",
    "_ans = df_receipt.filter(col.customer_id == \"CS018205000001\").select(\n",
    "    col.sales_ymd, col.customer_id, col.product_cd, col.amount\n",
    ")\n",
    "try:\n",
    "    assert _ans.equals(_df)\n",
    "except (AssertionError, NameError):\n",
    "    print(\"\\x1b[31mNG\\x1b[39m\")\n",
    "else:\n",
    "    print(\"\\x1b[32mOK\\x1b[39m\")"
   ]
  },
  {
   "cell_type": "markdown",
   "id": "813ebc8f-a7b9-4c48-8a57-425f0ca932bd",
   "metadata": {
    "deletable": true,
    "editable": true,
    "frozen": false
   },
   "source": [
    "---"
   ]
  },
  {
   "cell_type": "markdown",
   "id": "a879085d-66d9-4faf-b0b4-7064b7b1fd33",
   "metadata": {
    "deletable": false,
    "editable": false,
    "frozen": true
   },
   "source": [
    "### `問題D12`\n",
    "\n",
    "レシート明細データ（`df_receipt`）から以下の手順で取得し、変数`_df`に入れてください。そして、`_df`の先頭の3行を表示してください。\n",
    "\n",
    "* 以下の条件をANDで抽出\n",
    "    * 顧客ID（`customer_id`）が`\"CS018205000001\"`\n",
    "    * 売上金額（`amount`）が`1000`以上\n",
    "* 売上日（`sales_ymd`）、顧客ID（`customer_id`）、商品コード（`product_cd`）、売上金額（`amount`）を選択\n",
    "\n",
    "**解答欄**"
   ]
  },
  {
   "cell_type": "code",
   "execution_count": null,
   "id": "95f97aa8-6715-4017-81e8-ecfc36b0488a",
   "metadata": {
    "deletable": true,
    "editable": true,
    "frozen": false
   },
   "outputs": [],
   "source": [
    "# ここから解答を作成してください\n"
   ]
  },
  {
   "cell_type": "markdown",
   "id": "210c57b0-9959-4e88-a825-045f8540bed2",
   "metadata": {
    "deletable": false,
    "editable": false,
    "frozen": true
   },
   "source": [
    "<details><summary>解答例</summary>\n",
    "<br>\n",
    "\n",
    "```python\n",
    "_df = df_receipt.filter(\n",
    "    (col.customer_id == \"CS018205000001\") & (col.amount >= 1000)\n",
    ").select(col.sales_ymd, col.customer_id, col.product_cd, col.amount)\n",
    "_df.head(3)\n",
    "```\n",
    "複数の条件に対し、ビット演算子（`&`、`|`、`^`、`~`）が使えます。\n",
    "</details>\n",
    "<br>\n",
    "\n",
    "**確認**"
   ]
  },
  {
   "cell_type": "code",
   "execution_count": null,
   "id": "94f04c3d-cae6-4dd5-a783-cb7a8a1bbf4f",
   "metadata": {
    "deletable": false,
    "editable": false,
    "frozen": false,
    "jupyter": {
     "source_hidden": true
    }
   },
   "outputs": [],
   "source": [
    "# このセルを実行してください\n",
    "_ans = df_receipt.filter(\n",
    "    (col.customer_id == \"CS018205000001\") & (col.amount >= 1000)\n",
    ").select(col.sales_ymd, col.customer_id, col.product_cd, col.amount)\n",
    "try:\n",
    "    assert _ans.equals(_df)\n",
    "except (AssertionError, NameError):\n",
    "    print(\"\\x1b[31mNG\\x1b[39m\")\n",
    "else:\n",
    "    print(\"\\x1b[32mOK\\x1b[39m\")"
   ]
  },
  {
   "cell_type": "markdown",
   "id": "62820e00-283d-4329-8367-890a30076e9f",
   "metadata": {
    "deletable": true,
    "editable": true,
    "frozen": false
   },
   "source": [
    "---"
   ]
  },
  {
   "cell_type": "markdown",
   "id": "b24c95f2-6b02-4b5f-bdb4-1414b48950c7",
   "metadata": {
    "deletable": false,
    "editable": false,
    "frozen": true
   },
   "source": [
    "### `問題D14`\n",
    "\n",
    "レシート明細データ（`df_receipt`）から以下の手順で取得し、変数`_df`に入れてください。そして、`_df`の先頭の3行を表示してください。\n",
    "\n",
    "* 以下の条件をANDで抽出\n",
    "    * 顧客ID（`customer_id`）が`\"CS018205000001\"`\n",
    "    * 売上金額（`amount`）が`1000`以上、または、売上数量（`quantity`）が`5`以上\n",
    "* 売上日（`sales_ymd`）、顧客ID（`customer_id`）、商品コード（`product_cd`）、売上金額（`amount`）を選択\n",
    "\n",
    "**解答欄**"
   ]
  },
  {
   "cell_type": "code",
   "execution_count": null,
   "id": "4abba364-bd37-431b-859d-01a770b91d18",
   "metadata": {
    "deletable": true,
    "editable": true,
    "frozen": false
   },
   "outputs": [],
   "source": [
    "# ここから解答を作成してください\n"
   ]
  },
  {
   "cell_type": "markdown",
   "id": "22f4421b-d3dc-4344-b3da-cfdbe85d858f",
   "metadata": {
    "deletable": false,
    "editable": false,
    "frozen": true
   },
   "source": [
    "<details><summary>解答例</summary>\n",
    "<br>\n",
    "\n",
    "```python\n",
    "_df = df_receipt.filter(\n",
    "    (col.customer_id == \"CS018205000001\")\n",
    "    & ((col.amount >= 1000) | (col.quantity >= 5))\n",
    ").select(col.sales_ymd, col.customer_id, col.product_cd, col.amount)\n",
    "_df.head(3)\n",
    "```\n",
    "</details>\n",
    "<br>\n",
    "\n",
    "**確認**"
   ]
  },
  {
   "cell_type": "code",
   "execution_count": null,
   "id": "06a5b284-34c3-4d7f-a1b8-fbb7323841eb",
   "metadata": {
    "deletable": false,
    "editable": false,
    "frozen": false,
    "jupyter": {
     "source_hidden": true
    }
   },
   "outputs": [],
   "source": [
    "# このセルを実行してください\n",
    "_ans = df_receipt.filter(\n",
    "    (col.customer_id == \"CS018205000001\")\n",
    "    & ((col.amount >= 1000) | (col.quantity >= 5))\n",
    ").select(col.sales_ymd, col.customer_id, col.product_cd, col.amount)\n",
    "try:\n",
    "    assert _ans.equals(_df)\n",
    "except (AssertionError, NameError):\n",
    "    print(\"\\x1b[31mNG\\x1b[39m\")\n",
    "else:\n",
    "    print(\"\\x1b[32mOK\\x1b[39m\")"
   ]
  },
  {
   "cell_type": "markdown",
   "id": "27aee4f8-5d45-4c3f-992a-7a7198ab4ae1",
   "metadata": {
    "deletable": true,
    "editable": true,
    "frozen": false
   },
   "source": [
    "---"
   ]
  },
  {
   "cell_type": "markdown",
   "id": "6737b84f-84fa-4278-86fb-04b46b648aa0",
   "metadata": {
    "deletable": false,
    "editable": false,
    "frozen": true
   },
   "source": [
    "### `問題D16`\n",
    "\n",
    "レシート明細データ（`df_receipt`）から以下の手順で取得し、変数`_df`に入れてください。そして、`_df`の先頭の3行を表示してください。\n",
    "\n",
    "* 以下の条件をANDで抽出\n",
    "    * 顧客ID（`customer_id`）が`\"CS018205000001\"`\n",
    "    * 売上金額（`amount`）が`1000`以上`2000`以下\n",
    "* 売上日（`sales_ymd`）、顧客ID（`customer_id`）、商品コード（`product_cd`）、売上金額（`amount`）を選択\n",
    "\n",
    "**解答欄**"
   ]
  },
  {
   "cell_type": "code",
   "execution_count": null,
   "id": "e817d766-62f7-472d-8bfe-2154d88e32af",
   "metadata": {
    "deletable": true,
    "editable": true,
    "frozen": false
   },
   "outputs": [],
   "source": [
    "# ここから解答を作成してください\n"
   ]
  },
  {
   "cell_type": "markdown",
   "id": "74e8ebd6-f571-484f-8847-bb4725ad3160",
   "metadata": {
    "deletable": false,
    "editable": false,
    "frozen": true
   },
   "source": [
    "<details><summary>解答例</summary>\n",
    "<br>\n",
    "\n",
    "```python\n",
    "_df = df_receipt.filter(\n",
    "    (col.customer_id == \"CS018205000001\") & (col.amount.is_between(1000, 2000))\n",
    ").select(col.sales_ymd, col.customer_id, col.product_cd, col.amount)\n",
    "_df.head(3)\n",
    "```\n",
    "</details>\n",
    "<br>\n",
    "\n",
    "**確認**"
   ]
  },
  {
   "cell_type": "code",
   "execution_count": null,
   "id": "220911b4-a905-4ac8-9512-9a04f4babb9a",
   "metadata": {
    "deletable": false,
    "editable": false,
    "frozen": false,
    "jupyter": {
     "source_hidden": true
    }
   },
   "outputs": [],
   "source": [
    "# このセルを実行してください\n",
    "_ans = df_receipt.filter(\n",
    "    (col.customer_id == \"CS018205000001\") & (col.amount.is_between(1000, 2000))\n",
    ").select(col.sales_ymd, col.customer_id, col.product_cd, col.amount)\n",
    "try:\n",
    "    assert _ans.equals(_df)\n",
    "except (AssertionError, NameError):\n",
    "    print(\"\\x1b[31mNG\\x1b[39m\")\n",
    "else:\n",
    "    print(\"\\x1b[32mOK\\x1b[39m\")"
   ]
  },
  {
   "cell_type": "markdown",
   "id": "6e8d8daf-91f5-499a-b994-d2c0bf4e0f9d",
   "metadata": {
    "deletable": true,
    "editable": true,
    "frozen": false
   },
   "source": [
    "---"
   ]
  },
  {
   "cell_type": "markdown",
   "id": "ffbe214d-15cd-4ee1-99f3-c8498b202f7c",
   "metadata": {
    "deletable": false,
    "editable": false,
    "frozen": true
   },
   "source": [
    "### `問題D18`\n",
    "\n",
    "店舗データ（`df_store`）から、店舗コード（`store_cd`）が`\"S14\"`で始まるものだけ全項目抽出し、変数`_df`に入れてください。そして、`_df`の先頭の3行を表示してください。\n",
    "\n",
    "**解答欄**"
   ]
  },
  {
   "cell_type": "code",
   "execution_count": null,
   "id": "146440b9-8255-444c-8e93-48bbfeca407f",
   "metadata": {
    "deletable": true,
    "editable": true,
    "frozen": false
   },
   "outputs": [],
   "source": [
    "# ここから解答を作成してください\n"
   ]
  },
  {
   "cell_type": "markdown",
   "id": "77097515-43b8-4024-956e-79de3ac4f78c",
   "metadata": {
    "deletable": false,
    "editable": false,
    "frozen": true
   },
   "source": [
    "<details><summary>解答例</summary>\n",
    "<br>\n",
    "\n",
    "```python\n",
    "_df = df_store.filter(col.store_cd.str.starts_with(\"S14\"))\n",
    "_df.head(3)\n",
    "```\n",
    "</details>\n",
    "<br>\n",
    "\n",
    "**確認**"
   ]
  },
  {
   "cell_type": "code",
   "execution_count": null,
   "id": "031d2e09-50b4-4803-82f3-5e0a7b81c68e",
   "metadata": {
    "deletable": false,
    "editable": false,
    "frozen": false,
    "jupyter": {
     "source_hidden": true
    }
   },
   "outputs": [],
   "source": [
    "# このセルを実行してください\n",
    "_ans = df_store.filter(col.store_cd.str.starts_with(\"S14\"))\n",
    "try:\n",
    "    assert _ans.equals(_df)\n",
    "except (AssertionError, NameError):\n",
    "    print(\"\\x1b[31mNG\\x1b[39m\")\n",
    "else:\n",
    "    print(\"\\x1b[32mOK\\x1b[39m\")"
   ]
  },
  {
   "cell_type": "markdown",
   "id": "da4fb123-f77d-461f-a215-ca372bfa5cae",
   "metadata": {
    "deletable": true,
    "editable": true,
    "frozen": false
   },
   "source": [
    "---"
   ]
  },
  {
   "cell_type": "markdown",
   "id": "699a905f-ffce-49f3-bf7f-8d964c2e24ce",
   "metadata": {
    "deletable": false,
    "editable": false,
    "frozen": true
   },
   "source": [
    "### `問題D20`\n",
    "\n",
    "顧客データ（`df_customer`）から顧客ID（`customer_id`）の末尾が`1`のものだけ全項目抽出し、変数`_df`に入れてください。そして、`_df`の先頭の3行を表示してください。\n",
    "\n",
    "**解答欄**"
   ]
  },
  {
   "cell_type": "code",
   "execution_count": null,
   "id": "a8fa1ce6-16da-4410-b086-db1a60750d26",
   "metadata": {
    "deletable": true,
    "editable": true,
    "frozen": false
   },
   "outputs": [],
   "source": [
    "# ここから解答を作成してください\n"
   ]
  },
  {
   "cell_type": "markdown",
   "id": "db4ff6c0-b073-4585-af68-1fe90449afe9",
   "metadata": {
    "deletable": false,
    "editable": false,
    "frozen": true
   },
   "source": [
    "<details><summary>解答例</summary>\n",
    "<br>\n",
    "\n",
    "```python\n",
    "_df = df_customer.filter(col.customer_id.str.ends_with(\"1\"))\n",
    "_df.head(3)\n",
    "```\n",
    "</details>\n",
    "<br>\n",
    "\n",
    "**確認**"
   ]
  },
  {
   "cell_type": "code",
   "execution_count": null,
   "id": "fc0c08ec-c71f-432c-a730-78c71de16059",
   "metadata": {
    "deletable": false,
    "editable": false,
    "frozen": false,
    "jupyter": {
     "source_hidden": true
    }
   },
   "outputs": [],
   "source": [
    "# このセルを実行してください\n",
    "_ans = df_customer.filter(col.customer_id.str.ends_with(\"1\"))\n",
    "try:\n",
    "    assert _ans.equals(_df)\n",
    "except (AssertionError, NameError):\n",
    "    print(\"\\x1b[31mNG\\x1b[39m\")\n",
    "else:\n",
    "    print(\"\\x1b[32mOK\\x1b[39m\")"
   ]
  },
  {
   "cell_type": "markdown",
   "id": "e1032952-37cf-47eb-bae7-55e1e6fd4d6f",
   "metadata": {
    "deletable": true,
    "editable": true,
    "frozen": false
   },
   "source": [
    "---"
   ]
  },
  {
   "cell_type": "markdown",
   "id": "41c04426-dcac-45ce-bc84-24c88c885e0a",
   "metadata": {
    "deletable": false,
    "editable": false,
    "frozen": true
   },
   "source": [
    "### `問題D22`\n",
    "\n",
    "店舗データ（`df_store`）から、住所 (`address`) に`\"横浜市\"`が含まれるものだけ全項目抽出し、変数`_df`に入れてください。そして、`_df`の先頭の3行を表示してください。\n",
    "\n",
    "**解答欄**"
   ]
  },
  {
   "cell_type": "code",
   "execution_count": null,
   "id": "0802fc05-2e3d-48d9-9f59-5e5783e1c653",
   "metadata": {
    "deletable": true,
    "editable": true,
    "frozen": false
   },
   "outputs": [],
   "source": [
    "# ここから解答を作成してください\n"
   ]
  },
  {
   "cell_type": "markdown",
   "id": "57484aec-cc06-4207-b2d2-c607daf80987",
   "metadata": {
    "deletable": false,
    "editable": false,
    "frozen": true
   },
   "source": [
    "<details><summary>解答例</summary>\n",
    "<br>\n",
    "\n",
    "```python\n",
    "_df = df_store.filter(col.address.str.contains(\"横浜市\"))\n",
    "_df.head(3)\n",
    "```\n",
    "</details>\n",
    "<br>\n",
    "\n",
    "**確認**"
   ]
  },
  {
   "cell_type": "code",
   "execution_count": null,
   "id": "6230a143-1c7d-4582-a893-ca935ea836eb",
   "metadata": {
    "deletable": false,
    "editable": false,
    "frozen": false,
    "jupyter": {
     "source_hidden": true
    }
   },
   "outputs": [],
   "source": [
    "# このセルを実行してください\n",
    "_ans = df_store.filter(col.address.str.contains(\"横浜市\"))\n",
    "try:\n",
    "    assert _ans.equals(_df)\n",
    "except (AssertionError, NameError):\n",
    "    print(\"\\x1b[31mNG\\x1b[39m\")\n",
    "else:\n",
    "    print(\"\\x1b[32mOK\\x1b[39m\")"
   ]
  },
  {
   "cell_type": "markdown",
   "id": "7b0feee4-06a2-4e06-9081-02a4702baedd",
   "metadata": {
    "deletable": true,
    "editable": true,
    "frozen": false
   },
   "source": [
    "---"
   ]
  },
  {
   "cell_type": "markdown",
   "id": "592896e6-78cd-48ef-bace-90b51541aaf5",
   "metadata": {
    "deletable": false,
    "editable": false,
    "frozen": true
   },
   "source": [
    "### `問題D24`\n",
    "\n",
    "顧客データ（`df_customer`）から、ステータスコード（`status_cd`）の先頭がアルファベットのA〜Fで始まるデータを全項目抽出し、変数`_df`に入れてください。そして、`_df`の先頭の3行を表示してください。\n",
    "\n",
    "**解答欄**"
   ]
  },
  {
   "cell_type": "code",
   "execution_count": null,
   "id": "cc9a53a8-20ad-4652-92ed-950c751b7585",
   "metadata": {
    "deletable": true,
    "editable": true,
    "frozen": false
   },
   "outputs": [],
   "source": [
    "# ここから解答を作成してください\n"
   ]
  },
  {
   "cell_type": "markdown",
   "id": "31b1e4c4-71fa-4f1a-ad6f-eda2c293265b",
   "metadata": {
    "deletable": false,
    "editable": false,
    "frozen": true
   },
   "source": [
    "<details><summary>解答例</summary>\n",
    "<br>\n",
    "\n",
    "```python\n",
    "_df = df_customer.filter(col.status_cd.str.contains(\"^[A-F]\"))\n",
    "_df.head(3)\n",
    "```\n",
    "</details>\n",
    "<br>\n",
    "\n",
    "**確認**"
   ]
  },
  {
   "cell_type": "code",
   "execution_count": null,
   "id": "132ffd55-b578-47d6-a9b1-c7cc85c5c8b7",
   "metadata": {
    "deletable": false,
    "editable": false,
    "frozen": false,
    "jupyter": {
     "source_hidden": true
    }
   },
   "outputs": [],
   "source": [
    "# このセルを実行してください\n",
    "_ans = df_customer.filter(col.status_cd.str.contains(\"^[A-F]\"))\n",
    "try:\n",
    "    assert _ans.equals(_df)\n",
    "except (AssertionError, NameError):\n",
    "    print(\"\\x1b[31mNG\\x1b[39m\")\n",
    "else:\n",
    "    print(\"\\x1b[32mOK\\x1b[39m\")"
   ]
  },
  {
   "cell_type": "markdown",
   "id": "58c64c6d-8fe5-425b-88c1-91972a3c2376",
   "metadata": {
    "deletable": true,
    "editable": true,
    "frozen": false
   },
   "source": [
    "---"
   ]
  },
  {
   "cell_type": "markdown",
   "id": "2b27bedd-4f26-4091-91d4-226da72028b3",
   "metadata": {
    "deletable": false,
    "editable": false,
    "frozen": true
   },
   "source": [
    "### `問題D26`\n",
    "\n",
    "顧客データ（`df_customer`）から、ステータスコード（`status_cd`）の先頭がアルファベットのA〜Fで始まり、末尾が数字の1〜9で終わるデータを全項目抽出し、変数`_df`に入れてください。そして、`_df`の先頭の3行を表示してください。\n",
    "\n",
    "**解答欄**"
   ]
  },
  {
   "cell_type": "code",
   "execution_count": null,
   "id": "2cf5841c-2e81-4857-b2ef-fa4f65469d24",
   "metadata": {
    "deletable": true,
    "editable": true,
    "frozen": false
   },
   "outputs": [],
   "source": [
    "# ここから解答を作成してください\n"
   ]
  },
  {
   "cell_type": "markdown",
   "id": "5190705f-45c7-4ebd-86d6-986eca89fca2",
   "metadata": {
    "deletable": false,
    "editable": false,
    "frozen": true
   },
   "source": [
    "<details><summary>解答例</summary>\n",
    "<br>\n",
    "\n",
    "```python\n",
    "_df = df_customer.filter(col.status_cd.str.contains(\"^[A-F].*[1-9]$\"))\n",
    "_df.head(3)\n",
    "```\n",
    "</details>\n",
    "<br>\n",
    "\n",
    "**確認**"
   ]
  },
  {
   "cell_type": "code",
   "execution_count": null,
   "id": "cb81daee-fbd4-48fc-850a-facae9872e3d",
   "metadata": {
    "deletable": false,
    "editable": false,
    "frozen": false,
    "jupyter": {
     "source_hidden": true
    }
   },
   "outputs": [],
   "source": [
    "# このセルを実行してください\n",
    "_ans = df_customer.filter(col.status_cd.str.contains(\"^[A-F].*[1-9]$\"))\n",
    "try:\n",
    "    assert _ans.equals(_df)\n",
    "except (AssertionError, NameError):\n",
    "    print(\"\\x1b[31mNG\\x1b[39m\")\n",
    "else:\n",
    "    print(\"\\x1b[32mOK\\x1b[39m\")"
   ]
  },
  {
   "cell_type": "markdown",
   "id": "c6f676ac-a31e-4865-9110-ada501a700ec",
   "metadata": {
    "deletable": true,
    "editable": true,
    "frozen": false
   },
   "source": [
    "---"
   ]
  },
  {
   "cell_type": "markdown",
   "id": "31fd93e0-8c80-4328-9039-5117b242e17d",
   "metadata": {
    "deletable": false,
    "editable": false,
    "frozen": true
   },
   "source": [
    "### `問題D28`\n",
    "\n",
    "店舗データ（`df_store`）から、電話番号（`tel_no`）が`3桁-3桁-4桁`のデータを全項目抽出し、変数`_df`に入れてください。そして、`_df`の先頭の3行を表示してください。\n",
    "\n",
    "**解答欄**"
   ]
  },
  {
   "cell_type": "code",
   "execution_count": null,
   "id": "4ed9682d-d75e-482c-a634-c3022f03428e",
   "metadata": {
    "deletable": true,
    "editable": true,
    "frozen": false
   },
   "outputs": [],
   "source": [
    "# ここから解答を作成してください\n"
   ]
  },
  {
   "cell_type": "markdown",
   "id": "e306d047-78b6-4bde-89da-e3fd2091ad43",
   "metadata": {
    "deletable": false,
    "editable": false,
    "frozen": true
   },
   "source": [
    "<details><summary>解答例</summary>\n",
    "<br>\n",
    "\n",
    "```python\n",
    "_df = df_store.filter(col.tel_no.str.contains(r\"^\\d{3}-\\d{3}-\\d{4}$\"))\n",
    "_df.head(3)\n",
    "```\n",
    "</details>\n",
    "<br>\n",
    "\n",
    "**確認**"
   ]
  },
  {
   "cell_type": "code",
   "execution_count": null,
   "id": "513618d2-43d8-468d-b023-e90d63d6ebe3",
   "metadata": {
    "deletable": false,
    "editable": false,
    "frozen": false,
    "jupyter": {
     "source_hidden": true
    }
   },
   "outputs": [],
   "source": [
    "# このセルを実行してください\n",
    "_ans = df_store.filter(col.tel_no.str.contains(r\"^\\d{3}-\\d{3}-\\d{4}$\"))\n",
    "try:\n",
    "    assert _ans.equals(_df)\n",
    "except (AssertionError, NameError):\n",
    "    print(\"\\x1b[31mNG\\x1b[39m\")\n",
    "else:\n",
    "    print(\"\\x1b[32mOK\\x1b[39m\")"
   ]
  },
  {
   "cell_type": "markdown",
   "id": "b3ff384b-359c-4842-aa09-13ae6a3cec1e",
   "metadata": {
    "deletable": true,
    "editable": true,
    "frozen": false
   },
   "source": [
    "---"
   ]
  },
  {
   "cell_type": "markdown",
   "id": "00201e56-1e21-4f46-aa38-b650c86cf5dd",
   "metadata": {
    "deletable": false,
    "editable": false,
    "frozen": true
   },
   "source": [
    "## DataFrameの属性とメソッド\n",
    "\n",
    "**主な属性とメソッド**\n",
    "\n",
    "* `height`: 行数\n",
    "* `width`: 列数\n",
    "* `shape`: 行数と列数\n",
    "* `columns`: 列名のリスト\n",
    "* `rows()`: 行（タプル）のリスト\n",
    "* `sum()`: 列ごとの合計（非数値はnull）\n",
    "* `null_count()`: 列ごとのnullの数\n",
    "* `n_unique(項目1, 項目2, ...)`: ユニーク数\n",
    "\n",
    "※ 行数は`len(df)`でも取得できます。\n",
    "※ 列内の要素数は、式の`count()`でできます。\n",
    "※ `for`で各行を使うときは、`rows()`ではなく`iter_rows()`を使いましょう（ジェネレーターなので効率がよい）。\n",
    "※ Polarsではnullとnanは区別されることに注意してください。\n",
    "\n",
    "**`unique()`**\n",
    "\n",
    "次のようにして指定項目がユニークな行を抽出できます。項目は空や複数で指定できます。\n",
    "\n",
    "```\n",
    "df_store.unique(col.prefecture_cd)\n",
    "```\n",
    "\n",
    "**`describe()`**\n",
    "\n",
    "次のようにして基本統計量を確認できます。\n",
    "\n",
    "```python\n",
    "df_store.sort(col.store_cd)\n",
    "```\n",
    "\n",
    "<div style=\"background: white;\"><small>shape: (9, 11)</small>\n",
    "<table border=\"1\" style=\"margin-left: 0;\"><thead>\n",
    "<tr><th>statistic</th><th>store_cd</th><th>store_name</th><th>&hellip;</th><th>floor_area</th></tr>\n",
    "<tr><td>str</td><td>str</td><td>str</td><td>&hellip;</td><td>f64</td></tr>\n",
    "</thead><tbody>\n",
    "<tr><td>&quot;count&quot;</td><td>&quot;53&quot;</td><td>&quot;53&quot;</td><td>&hellip;</td><td>53.0</td></tr>\n",
    "<tr><td>&quot;null_count&quot;</td><td>&quot;0&quot;</td><td>&quot;0&quot;</td><td>&hellip;</td><td>0.0</td></tr>\n",
    "<tr><td>&quot;mean&quot;</td><td>null</td><td>null</td><td>&hellip;</td><td>1273.433962</td></tr>\n",
    "<tr><td>&quot;std&quot;</td><td>null</td><td>null</td><td>&hellip;</td><td>348.459164</td></tr>\n",
    "<tr><td>&quot;min&quot;</td><td>&quot;S12007&quot;</td><td>&quot;三田店&quot;</td><td>&hellip;</td><td>801.0</td></tr>\n",
    "<tr><td>&quot;25%&quot;</td><td>null</td><td>null</td><td>&hellip;</td><td>980.0</td></tr>\n",
    "<tr><td>&quot;50%&quot;</td><td>null</td><td>null</td><td>&hellip;</td><td>1220.0</td></tr>\n",
    "<tr><td>&quot;75%&quot;</td><td>null</td><td>null</td><td>&hellip;</td><td>1555.0</td></tr>\n",
    "<tr><td>&quot;max&quot;</td><td>&quot;S14050&quot;</td><td>&quot;鷺宮店&quot;</td><td>&hellip;</td><td>1895.0</td></tr>\n",
    "</tbody></table></div>\n",
    "\n",
    "**`sort()`**\n",
    "\n",
    "次のようにして指定した列で昇順にソートできます。\n",
    "\n",
    "```python\n",
    "df_store.describe()\n",
    "```\n",
    "\n",
    "<div style=\"background: white;\"><small>shape: (53, 10)</small>\n",
    "<table border=\"1\" style=\"margin-left: 0;\"><thead>\n",
    "<tr><th>store_cd</th><th>store_name</th><th>&hellip;</th><th>floor_area</th></tr>\n",
    "<tr><td>str</td><td>str</td><td>&hellip;</td><td>i64</td></tr>\n",
    "</thead><tbody>\n",
    "<tr><td>&quot;S12007&quot;</td><td>&quot;佐倉店&quot;</td><td>&hellip;</td><td>1895.0</td></tr>\n",
    "<tr><td>&quot;S12013&quot;</td><td>&quot;習志野店&quot;</td><td>&hellip;</td><td>808.0</td></tr>\n",
    "<tr><td>&quot;S12014&quot;</td><td>&quot;千草台店&quot;</td><td>&hellip;</td><td>1698.0</td></tr>\n",
    "<tr><td>&hellip;</td><td>&hellip;</td><td>&hellip;</td><td>&hellip;</td></tr>\n",
    "<tr><td colspan=\"4\">以下略</td></tr>\n",
    "</tbody></table></div>\n",
    "\n",
    "* 降順にソートするには、`descending=True`をつける\n",
    "* 複数の項目を指定するには、位置引数を順番に書く\n",
    "* 複数の項目ごとに、昇順と降順を切り替えるには、次のようにリストで指定する\n",
    "\n",
    "```python\n",
    "df_store.sort([col.prefecture_cd, col.store_cd], descending=[False, True])\n",
    "```\n"
   ]
  },
  {
   "cell_type": "markdown",
   "id": "35a376e6-e5da-4215-a565-f636e9299512",
   "metadata": {
    "deletable": true,
    "editable": true,
    "frozen": false
   },
   "source": [
    "---"
   ]
  },
  {
   "cell_type": "markdown",
   "id": "587b3deb-b89a-4e79-9aad-a647abd6dafd",
   "metadata": {
    "deletable": false,
    "editable": false,
    "frozen": true
   },
   "source": [
    "### `問題E10`\n",
    "\n",
    "顧客データ（`df_customer`）を生年月日（`birth_day`）で高齢順にソートし、変数`_df`に入れてください。そして、`_df`の先頭の3行を表示してください。\n",
    "\n",
    "**解答欄**"
   ]
  },
  {
   "cell_type": "code",
   "execution_count": null,
   "id": "13ed7b77-6f33-40d2-ab6d-250a70a1904b",
   "metadata": {
    "deletable": true,
    "editable": true,
    "frozen": false
   },
   "outputs": [],
   "source": [
    "# ここから解答を作成してください\n"
   ]
  },
  {
   "cell_type": "markdown",
   "id": "0ce43824-a5bc-4e19-a7df-2751f6eb19ff",
   "metadata": {
    "deletable": false,
    "editable": false,
    "frozen": true
   },
   "source": [
    "<details><summary>解答例</summary>\n",
    "<br>\n",
    "\n",
    "```python\n",
    "_df = df_customer.sort(col.birth_day)\n",
    "_df.head(3)\n",
    "```\n",
    "</details>\n",
    "<br>\n",
    "\n",
    "**確認**"
   ]
  },
  {
   "cell_type": "code",
   "execution_count": null,
   "id": "2b0ef593-8e5c-40a3-a677-cd173b106d74",
   "metadata": {
    "deletable": false,
    "editable": false,
    "frozen": false,
    "jupyter": {
     "source_hidden": true
    }
   },
   "outputs": [],
   "source": [
    "# このセルを実行してください\n",
    "_ans = df_customer.sort(col.birth_day)\n",
    "try:\n",
    "    assert _ans.equals(_df)\n",
    "except (AssertionError, NameError):\n",
    "    print(\"\\x1b[31mNG\\x1b[39m\")\n",
    "else:\n",
    "    print(\"\\x1b[32mOK\\x1b[39m\")"
   ]
  },
  {
   "cell_type": "markdown",
   "id": "bb9f7b72-cf41-410f-87dd-7ee03e7ed421",
   "metadata": {
    "deletable": true,
    "editable": true,
    "frozen": false
   },
   "source": [
    "---"
   ]
  },
  {
   "cell_type": "markdown",
   "id": "e55a8f66-5d2a-49b0-ae9d-6609c3b8d347",
   "metadata": {
    "deletable": false,
    "editable": false,
    "frozen": true
   },
   "source": [
    "### `問題E12`\n",
    "\n",
    "顧客データ（`df_customer`）を生年月日（`birth_day`）で若い順にソートし、変数`_df`に入れてください。そして、`_df`の先頭の3行を表示してください。\n",
    "\n",
    "**解答欄**"
   ]
  },
  {
   "cell_type": "code",
   "execution_count": null,
   "id": "46109006-379d-434c-8b36-8964dbe49770",
   "metadata": {
    "deletable": true,
    "editable": true,
    "frozen": false
   },
   "outputs": [],
   "source": [
    "# ここから解答を作成してください\n"
   ]
  },
  {
   "cell_type": "markdown",
   "id": "52bf0bb6-b55f-411a-98cc-897cd9d587eb",
   "metadata": {
    "deletable": false,
    "editable": false,
    "frozen": true
   },
   "source": [
    "<details><summary>解答例</summary>\n",
    "<br>\n",
    "\n",
    "```python\n",
    "_df = df_customer.sort(col.birth_day, descending=True)\n",
    "_df.head(3)\n",
    "```\n",
    "若い順にするには、生年月日の降順にします。降順のときは、`descending=True`を指定します。\n",
    "</details>\n",
    "<br>\n",
    "\n",
    "**確認**"
   ]
  },
  {
   "cell_type": "code",
   "execution_count": null,
   "id": "d90a7ea2-d430-4a36-bff1-6507e25a8e3a",
   "metadata": {
    "deletable": false,
    "editable": false,
    "frozen": false,
    "jupyter": {
     "source_hidden": true
    }
   },
   "outputs": [],
   "source": [
    "# このセルを実行してください\n",
    "_ans = df_customer.sort(col.birth_day, descending=True)\n",
    "try:\n",
    "    assert _ans.equals(_df)\n",
    "except (AssertionError, NameError):\n",
    "    print(\"\\x1b[31mNG\\x1b[39m\")\n",
    "else:\n",
    "    print(\"\\x1b[32mOK\\x1b[39m\")"
   ]
  },
  {
   "cell_type": "markdown",
   "id": "3aed96cd-56ed-47a7-a7cb-4b2654368694",
   "metadata": {
    "deletable": true,
    "editable": true,
    "frozen": false
   },
   "source": [
    "---"
   ]
  },
  {
   "cell_type": "markdown",
   "id": "b5d09b51-497d-4556-80e9-e3239aab1bc2",
   "metadata": {
    "deletable": false,
    "editable": false,
    "frozen": true
   },
   "source": [
    "### `問題E14`\n",
    "\n",
    "レシート明細データ（df_receipt）の件数を変数`_n`に入れてください。そして、`_n`を表示してください。\n",
    "\n",
    "**解答欄**"
   ]
  },
  {
   "cell_type": "code",
   "execution_count": null,
   "id": "288c0b84-a742-4d8c-86ad-a517dcb24a9d",
   "metadata": {
    "deletable": true,
    "editable": true,
    "frozen": false
   },
   "outputs": [],
   "source": [
    "# ここから解答を作成してください\n"
   ]
  },
  {
   "cell_type": "markdown",
   "id": "76dfa0c5-8b3e-423e-ba20-352e7bebc708",
   "metadata": {
    "deletable": false,
    "editable": false,
    "frozen": true
   },
   "source": [
    "<details><summary>解答例</summary>\n",
    "<br>\n",
    "\n",
    "```python\n",
    "_n = df_receipt.height\n",
    "_n\n",
    "```\n",
    "\n",
    "**別解**\n",
    "\n",
    "```python\n",
    "_n = len(df_receipt)\n",
    "```\n",
    "</details>\n",
    "<br>\n",
    "\n",
    "**確認**"
   ]
  },
  {
   "cell_type": "code",
   "execution_count": null,
   "id": "0ecdd862-481c-4be4-8921-6d5bc83eb505",
   "metadata": {
    "deletable": false,
    "editable": false,
    "frozen": false,
    "jupyter": {
     "source_hidden": true
    }
   },
   "outputs": [],
   "source": [
    "# このセルを実行してください\n",
    "_ans = df_receipt.height\n",
    "try:\n",
    "    assert _ans == _n\n",
    "except (AssertionError, NameError):\n",
    "    print(\"\\x1b[31mNG\\x1b[39m\")\n",
    "else:\n",
    "    print(\"\\x1b[32mOK\\x1b[39m\")"
   ]
  },
  {
   "cell_type": "markdown",
   "id": "765da1a6-18c1-4555-b604-ae59d600ead0",
   "metadata": {
    "deletable": true,
    "editable": true,
    "frozen": false
   },
   "source": [
    "---"
   ]
  },
  {
   "cell_type": "markdown",
   "id": "39bd19f3-c8f9-4eca-b9b9-e99574ee81b1",
   "metadata": {
    "deletable": false,
    "editable": false,
    "frozen": true
   },
   "source": [
    "### `問題E16`\n",
    "\n",
    "レシート明細データ（`df_receipt`）の顧客ID（`customer_id`）のユニーク件数を変数`_n`に入れてください。そして、`_n`を表示してください。\n",
    "\n",
    "**解答欄**"
   ]
  },
  {
   "cell_type": "code",
   "execution_count": null,
   "id": "6bdc87b8-e470-4364-9c8e-9d26a648ef2f",
   "metadata": {
    "deletable": true,
    "editable": true,
    "frozen": false
   },
   "outputs": [],
   "source": [
    "# ここから解答を作成してください\n"
   ]
  },
  {
   "cell_type": "markdown",
   "id": "e35baebe-62e4-4af9-9760-3a5dec74191c",
   "metadata": {
    "deletable": false,
    "editable": false,
    "frozen": true
   },
   "source": [
    "<details><summary>解答例</summary>\n",
    "<br>\n",
    "\n",
    "```python\n",
    "_n = df_receipt.select(col.customer_id).n_unique()\n",
    "_n\n",
    "```\n",
    "</details>\n",
    "<br>\n",
    "\n",
    "**確認**"
   ]
  },
  {
   "cell_type": "code",
   "execution_count": null,
   "id": "1c8a96bf-8836-43be-8bbb-109b3319bc3f",
   "metadata": {
    "deletable": false,
    "editable": false,
    "frozen": false,
    "jupyter": {
     "source_hidden": true
    }
   },
   "outputs": [],
   "source": [
    "# このセルを実行してください\n",
    "_ans = df_receipt.select(col.customer_id).n_unique()\n",
    "try:\n",
    "    assert _ans == _n\n",
    "except (AssertionError, NameError):\n",
    "    print(\"\\x1b[31mNG\\x1b[39m\")\n",
    "else:\n",
    "    print(\"\\x1b[32mOK\\x1b[39m\")"
   ]
  },
  {
   "cell_type": "markdown",
   "id": "184ee3ea-51ce-46c6-8c19-5ce13b0c418d",
   "metadata": {
    "deletable": true,
    "editable": true,
    "frozen": false
   },
   "source": [
    "---"
   ]
  }
 ],
 "metadata": {
  "kernelspec": {
   "display_name": "Python 3 (ipykernel)",
   "language": "python",
   "name": "python3"
  },
  "language_info": {
   "codemirror_mode": {
    "name": "ipython",
    "version": 3
   },
   "file_extension": ".py",
   "mimetype": "text/x-python",
   "name": "python",
   "nbconvert_exporter": "python",
   "pygments_lexer": "ipython3",
   "version": "3.12.5"
  }
 },
 "nbformat": 4,
 "nbformat_minor": 5
}
