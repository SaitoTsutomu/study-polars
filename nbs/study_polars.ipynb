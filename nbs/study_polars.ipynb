{
 "cells": [
  {
   "cell_type": "markdown",
   "id": "4d01f4ae-904f-46e0-b6e5-fabb0995ac23",
   "metadata": {
    "deletable": false,
    "editable": false,
    "frozen": true
   },
   "source": [
    "# Polars入門\n",
    "\n",
    "## はじめに\n",
    "\n",
    "これはPolars 1.16.0学習用の教材です。\n",
    "\n",
    "https://polars-ja.github.io/docs-ja/\n",
    "\n",
    "※ 「データサイエンティスト協会スキル定義委員」の「データサイエンス100本ノック（構造化データ加工編）」を参考にしています。\n",
    "\n",
    "**学習手順**\n",
    "\n",
    "* 青いセルの説明を読む\n",
    "* 白いセルに問題の解答を書く\n",
    "* 黄色いセルを実行して確認する\n",
    "\n",
    "セル内でしか使わない変数は、`_`で始まります。\n",
    "\n",
    "## 基礎知識\n",
    "\n",
    "**特徴**\n",
    "\n",
    "* 高速性: Rustで実装されており、並列処理を活用して非常に高速なデータ処理を実現\n",
    "* メモリ効率: 列指向のストレージ形式を採用しており、大量のデータを効率的に扱える\n",
    "* 直感的なAPI: 意図した方法でクエリを書ける\n",
    "\n",
    "**インストール**\n",
    "\n",
    "```\n",
    "pip install polars\n",
    "```\n",
    "\n",
    "**インポート**\n",
    "\n",
    "```python\n",
    "import polars as pl\n",
    "import polars.selectors as cs\n",
    "```\n",
    "\n",
    "polarsモジュールを使ってDataFrameを作成したり、式を作成したりします。\n",
    "polars.selectorsは、列の選択などに使います。\n",
    "\n",
    "**主な型**\n",
    "\n",
    "* pl.DataFrame\n",
    "* pl.Series\n",
    "* 要素の型\n",
    "  * pl.Int8, pl.Int16, pl.Int32, pl.Int32: 整数\n",
    "  * pl.Float32, pl.Float64: 実数\n",
    "  * pl.Utf8: 文字列（pl.Stringの別名）\n",
    "  * pl.Date, pl.Datetime, pl.Duration: 日付や日時や時間間隔\n",
    "  * 文字列はstr属性、日付や日時や時間間隔はdt属性が使える\n",
    "\n",
    "※ pandasと違い、DataFrameはインデックスを持ちません。\n"
   ]
  },
  {
   "cell_type": "markdown",
   "id": "136d5ba1-3ca5-42e4-aac7-cf7b4f346063",
   "metadata": {
    "deletable": true,
    "editable": true,
    "frozen": false
   },
   "source": [
    "---"
   ]
  },
  {
   "cell_type": "markdown",
   "id": "bc787b22-0730-44a7-bb3f-a1cb0874f746",
   "metadata": {
    "deletable": false,
    "editable": false,
    "frozen": true
   },
   "source": [
    "### `問題A10`\n",
    "\n",
    "polarsとpolars.selectorsをそれぞれ、`pl`と`cs`としてインポートしてください。\n",
    "\n",
    "**解答欄**"
   ]
  },
  {
   "cell_type": "code",
   "execution_count": null,
   "id": "b7a3dd9b-b0d1-49ba-afb9-45139eb2bb6f",
   "metadata": {
    "deletable": true,
    "editable": true,
    "frozen": false
   },
   "outputs": [],
   "source": [
    "# ここから解答を作成してください\n"
   ]
  },
  {
   "cell_type": "markdown",
   "id": "88e47789-500d-4617-bab9-81bd543f18a4",
   "metadata": {
    "deletable": false,
    "editable": false,
    "frozen": true
   },
   "source": [
    "<details><summary>解答例</summary>\n",
    "<br>\n",
    "\n",
    "```python\n",
    "import polars as pl\n",
    "import polars.selectors as cs\n",
    "```\n",
    "</details>\n",
    "<br>\n",
    "\n",
    "**確認**"
   ]
  },
  {
   "cell_type": "code",
   "execution_count": null,
   "id": "c527945e-3e29-4546-ab1c-175e50fe50ff",
   "metadata": {
    "deletable": false,
    "editable": false,
    "frozen": false,
    "jupyter": {
     "source_hidden": true
    }
   },
   "outputs": [],
   "source": [
    "# このセルを実行してください\n",
    "try:\n",
    "    pl.col\n",
    "    cs.matches\n",
    "except NameError:\n",
    "    print(\"\\x1b[31mNG\\x1b[39m\")\n",
    "    print(\"解答例を確認してください\")\n",
    "else:\n",
    "    print(\"\\x1b[32mOK\\x1b[39m\")"
   ]
  },
  {
   "cell_type": "markdown",
   "id": "68cc075d-9976-49b8-ac77-1ddaf7026283",
   "metadata": {
    "deletable": true,
    "editable": true,
    "frozen": false
   },
   "source": [
    "---"
   ]
  },
  {
   "cell_type": "markdown",
   "id": "b8516dcb-696f-4465-bb4b-e35e052ef31b",
   "metadata": {
    "deletable": false,
    "editable": false,
    "frozen": true
   },
   "source": [
    "## DataFrameの作成\n",
    "\n",
    "pandasのように列名をキーとする辞書から作成できます。\n",
    "\n",
    "```python\n",
    "df_store = pl.DataFrame(\n",
    "    {\n",
    "        \"cd\": [\"001\", \"002\"],\n",
    "        \"name\": [\"新宿店\", \"渋谷店\"],\n",
    "    }\n",
    ")\n",
    "```\n",
    "\n",
    "**CSVの読み込み**\n",
    "\n",
    "`read_csv()`でCSVファイルを読み込めます。\n",
    "\n",
    "```python\n",
    "df_category = pl.read_csv(ファイル名, オプション)\n",
    "```\n",
    "\n",
    "**主なオプション**\n",
    "\n",
    "* `schema`: 全ての列について、型を辞書で指定\n",
    "* `schema_overrides`: 一部の列について、型を辞書で指定\n",
    "* `encoding`: エンコーディングの指定\n",
    "\n",
    "**DataFrmaeの確認**\n",
    "\n",
    "`head(n)`で先頭`n`行を確認できます（`n`を省略すると5になります）。\n",
    "次のようにスライスも使えます。\n",
    "\n",
    "```python\n",
    "df_category.head(3)\n",
    "df_category[:3]  # df_category.head(3)と同じ\n",
    "```\n",
    "\n",
    "<div style=\"background: white;\"><small>shape: (3, 6)</small>\n",
    "<table border=\"1\" style=\"margin-left: 0;\"><thead>\n",
    "<tr><th>category_<br>major_cd</th><th>category_<br>major_name</th><th>category_<br>medium_cd</th><th>category_<br>medium_name</th><th>category_<br>small_cd</th><th>category_<br>small_name</th></tr>\n",
    "<tr><td>i64</td><td>str</td><td>i64</td><td>str</td><td>i64</td><td>str</td></tr>\n",
    "</thead><tbody>\n",
    "<tr><td>4</td><td>&quot;惣菜&quot;</td><td>401</td><td>&quot;御飯類&quot;</td><td>40101</td><td>&quot;弁当類&quot;</td></tr>\n",
    "<tr><td>4</td><td>&quot;惣菜&quot;</td><td>401</td><td>&quot;御飯類&quot;</td><td>40102</td><td>&quot;寿司類&quot;</td></tr>\n",
    "<tr><td>4</td><td>&quot;惣菜&quot;</td><td>402</td><td>&quot;佃煮類&quot;</td><td>40201</td><td>&quot;魚介佃煮類&quot;</td></tr>\n",
    "</tbody></table></div>\n"
   ]
  },
  {
   "cell_type": "markdown",
   "id": "17f16c71-15bf-48fb-8397-26e96cc9037f",
   "metadata": {
    "deletable": true,
    "editable": true,
    "frozen": false
   },
   "source": [
    "---"
   ]
  },
  {
   "cell_type": "markdown",
   "id": "c2a4da7b-18f1-4c4f-9b3c-88c72d66725a",
   "metadata": {
    "deletable": false,
    "editable": false,
    "frozen": true
   },
   "source": [
    "### `問題B10`\n",
    "\n",
    "辞書`_data`からDataFrameを作成し、`df`に代入してください。\n",
    "\n",
    "**解答欄**"
   ]
  },
  {
   "cell_type": "code",
   "execution_count": null,
   "id": "12d23af1-d825-4388-b27f-d9ba22e146fa",
   "metadata": {
    "deletable": true,
    "editable": true,
    "frozen": false
   },
   "outputs": [],
   "source": [
    "_data = {\"id\": [\"001\", \"002\"], \"name\": [\"大野\", \"六角\"]}\n",
    "\n",
    "# ここから解答を作成してください\n"
   ]
  },
  {
   "cell_type": "markdown",
   "id": "f92bbf7e-8a75-42c5-b000-a3070cd86a7c",
   "metadata": {
    "deletable": false,
    "editable": false,
    "frozen": true
   },
   "source": [
    "<details><summary>解答例</summary>\n",
    "<br>\n",
    "\n",
    "```python\n",
    "df = pl.DataFrame(_data)\n",
    "df\n",
    "```\n",
    "</details>\n",
    "<br>\n",
    "\n",
    "**確認**"
   ]
  },
  {
   "cell_type": "code",
   "execution_count": null,
   "id": "3c0482c7-bf47-41c6-8a18-7a0ca9287e3f",
   "metadata": {
    "deletable": false,
    "editable": false,
    "frozen": false,
    "jupyter": {
     "source_hidden": true
    }
   },
   "outputs": [],
   "source": [
    "# このセルを実行してください\n",
    "try:\n",
    "    _ans = pl.DataFrame(_data)\n",
    "    assert _ans.equals(df)\n",
    "except (AssertionError, NameError):\n",
    "    print(\"\\x1b[31mNG\\x1b[39m\")\n",
    "    print(\"解答例を確認してください\")\n",
    "else:\n",
    "    print(\"\\x1b[32mOK\\x1b[39m\")"
   ]
  },
  {
   "cell_type": "markdown",
   "id": "754e8a9a-67c1-41e7-896b-0ea8c753b092",
   "metadata": {
    "deletable": true,
    "editable": true,
    "frozen": false
   },
   "source": [
    "---"
   ]
  },
  {
   "cell_type": "markdown",
   "id": "765af972-ba70-4220-9531-b275234ff9bd",
   "metadata": {
    "deletable": false,
    "editable": false,
    "frozen": true
   },
   "source": [
    "### `問題B12`\n",
    "\n",
    "ファイル`_file`からCSVを読み込み、`df`に代入してください。\n",
    "`df`の先頭の3行を表示してください。\n",
    "\n",
    "**解答欄**"
   ]
  },
  {
   "cell_type": "code",
   "execution_count": null,
   "id": "532ab9be-06ae-4ce4-ae88-f6511fabaef6",
   "metadata": {
    "deletable": true,
    "editable": true,
    "frozen": false
   },
   "outputs": [],
   "source": [
    "_file = \"../data/receipt.csv\"\n",
    "\n",
    "# ここから解答を作成してください\n"
   ]
  },
  {
   "cell_type": "markdown",
   "id": "d8308fc5-78ac-4e4c-9a89-30448e6abe2f",
   "metadata": {
    "deletable": false,
    "editable": false,
    "frozen": true
   },
   "source": [
    "<details><summary>解答例</summary>\n",
    "<br>\n",
    "\n",
    "```python\n",
    "df = pl.read_csv(_file)\n",
    "df.head(3)\n",
    "```\n",
    "</details>\n",
    "<br>\n",
    "\n",
    "**確認**"
   ]
  },
  {
   "cell_type": "code",
   "execution_count": null,
   "id": "4b506dd5-e80d-4bb7-a268-c6287ae95b33",
   "metadata": {
    "deletable": false,
    "editable": false,
    "frozen": false,
    "jupyter": {
     "source_hidden": true
    }
   },
   "outputs": [],
   "source": [
    "# このセルを実行してください\n",
    "import polars as pl\n",
    "try:\n",
    "    _ans = pl.read_csv(_file)\n",
    "    assert _ans.equals(df)\n",
    "except (AssertionError, NameError):\n",
    "    print(\"\\x1b[31mNG\\x1b[39m\")\n",
    "    print(\"解答例を確認してください\")\n",
    "else:\n",
    "    print(\"\\x1b[32mOK\\x1b[39m\")"
   ]
  },
  {
   "cell_type": "markdown",
   "id": "053c7f9e-a396-4be5-8e01-1c1293ba673f",
   "metadata": {
    "deletable": true,
    "editable": true,
    "frozen": false
   },
   "source": [
    "---"
   ]
  },
  {
   "cell_type": "markdown",
   "id": "fe287786-9e55-4435-b7b7-49b0ed7411b1",
   "metadata": {
    "deletable": false,
    "editable": false,
    "frozen": true
   },
   "source": [
    "### `問題B14`\n",
    "\n",
    "次の条件で、ファイル`_file`からCSVを読み込み、`df_receipt`に代入してください。\n",
    "* `schema_overrides`に`schema`を指定\n",
    "* `encoding`に`encoding`を指定\n",
    "\n",
    "`df_receipt`の先頭の3行を表示してください。\n",
    "\n",
    "**解答欄**"
   ]
  },
  {
   "cell_type": "code",
   "execution_count": null,
   "id": "267c69f7-ac90-432d-94ea-71a6966a0fc5",
   "metadata": {
    "deletable": true,
    "editable": true,
    "frozen": false
   },
   "outputs": [],
   "source": [
    "_file = \"../data/receipt.csv\"\n",
    "schema = {\"sales_ymd\": pl.Int64, \"store_cd\": pl.Utf8}\n",
    "encoding = \"utf-8\"\n",
    "\n",
    "# ここから解答を作成してください\n"
   ]
  },
  {
   "cell_type": "markdown",
   "id": "b582d617-784b-427b-b97d-e0710fd05ba0",
   "metadata": {
    "deletable": false,
    "editable": false,
    "frozen": true
   },
   "source": [
    "<details><summary>解答例</summary>\n",
    "<br>\n",
    "\n",
    "```python\n",
    "df_receipt = pl.read_csv(_file, schema_overrides=schema, encoding=encoding)\n",
    "df_receipt.head(3)\n",
    "```\n",
    "</details>\n",
    "<br>\n",
    "\n",
    "**確認**"
   ]
  },
  {
   "cell_type": "code",
   "execution_count": null,
   "id": "6af73a2d-d29f-4c87-9c4e-58e0c952c697",
   "metadata": {
    "deletable": false,
    "editable": false,
    "frozen": false,
    "jupyter": {
     "source_hidden": true
    }
   },
   "outputs": [],
   "source": [
    "# このセルを実行してください\n",
    "try:\n",
    "    _ans = pl.read_csv(_file, schema_overrides=schema, encoding=encoding)\n",
    "    assert _ans.equals(df_receipt)\n",
    "except (AssertionError, NameError):\n",
    "    print(\"\\x1b[31mNG\\x1b[39m\")\n",
    "    print(\"解答例を確認してください\")\n",
    "else:\n",
    "    print(\"\\x1b[32mOK\\x1b[39m\")"
   ]
  },
  {
   "cell_type": "markdown",
   "id": "7753b4ff-6923-4f43-a32e-a090de6531eb",
   "metadata": {
    "deletable": true,
    "editable": true,
    "frozen": false
   },
   "source": [
    "---"
   ]
  },
  {
   "cell_type": "markdown",
   "id": "ded6a3df-dae0-4b79-89ab-38c72ac27fea",
   "metadata": {
    "deletable": false,
    "editable": false,
    "frozen": true
   },
   "source": [
    "## DataFrameの列の選択・追加・更新\n",
    "\n",
    "DataFrameから列を選択するには、`select()`に選択する列を指定します。\n",
    "\n",
    "```python\n",
    "df_receipt.select(\"sales_ymd\", \"store_cd\")\n",
    "```\n",
    "\n",
    "<div style=\"background: white;\"><small>shape: (104_681, 2)</small>\n",
    "<table border=\"1\" style=\"margin-left: 0;\"><thead>\n",
    "<tr><th>sales_ymd</th><th>store_cd</th></tr><tr><td>i64</td><td>str</td></tr>\n",
    "</thead><tbody>\n",
    "<tr><td>20181103</td><td>&quot;S14006&quot;</td></tr>\n",
    "<tr><td>20181118</td><td>&quot;S13008&quot;</td></tr>\n",
    "<tr><td>20170712</td><td>&quot;S14028&quot;</td></tr>\n",
    "<tr><td colspan=\"2\">以下略</td></tr>\n",
    "</tbody></table></div>\n",
    "\n",
    "引数には、列名だけでなく**エクスプレッション**を指定できます。\n",
    "列を表すエクスプレッションは、次のように`pl.col(列名)`と書きます。\n",
    "\n",
    "```python\n",
    "df_receipt.select(pl.col(\"sales_ymd\"), pl.col(\"store_cd\"))\n",
    "```\n",
    "\n",
    "エクスプレッションは、pl.Expr型のオブジェクトです。以降では**式**と呼ぶことにします。\n",
    "\n",
    "式を使うことで、さまざまな処理を記述できます。\n",
    "\n",
    "たとえば、`alias(列名)`を使うと列名を変更できます。\n",
    "\n",
    "```python\n",
    "df_receipt.select(pl.col(\"sales_ymd\").alias(\"date\"), pl.col(\"store_cd\").alias(\"cd\"))\n",
    "```\n",
    "\n",
    "<div style=\"background: white;\"><small>shape: (104_681, 2)</small>\n",
    "<table border=\"1\" style=\"margin-left: 0;\"><thead>\n",
    "<tr><th>date</th><th>cd</th></tr>\n",
    "<tr><td>i64</td><td>str</td></tr>\n",
    "</thead><tbody>\n",
    "<tr><td colspan=\"2\">以下略</td></tr>\n",
    "</tbody></table></div>\n",
    "\n",
    "式は、DataFrameと独立に作成できます。DataFrameの列そのものではなく、列に対する処理と考えてください。\n",
    "\n",
    "以降では、次のように変数`col`に列の式が入っているとします（後で作成します）。\n",
    "\n",
    "```python\n",
    "col.sales_ymd = pl.col(\"sales_ymd\")\n",
    "col.store_cd = pl.col(\"store_cd\")\n",
    "df_receipt.select(col.sales_ymd.alias(\"date\"), col.store_cd.alias(\"cd\"))\n",
    "```\n",
    "\n",
    "**列の追加・更新**\n",
    "\n",
    "次のように、列を追加できます。\n",
    "\n",
    "* 既存の列を残して追加する場合: `with_columns()`を使う\n",
    "* 一部の列を選択して追加する場合: `select()`を使う\n",
    "\n",
    "引数には式などを指定します。\n",
    "\n",
    "なお、同名の列がある場合には、追加ではなく更新になります。\n",
    "\n",
    "`df_receipt`の先頭3行に、列`id`として通し番号を追加するには、次のようにします。\n",
    "`pl.Series()`は実データなので、式ではありませんが指定できます。\n",
    "元の9列から10列に増えています。\n",
    "\n",
    "```python\n",
    "df_receipt.head(3).with_columns(pl.Series(name=\"id\", values=[0, 1, 2]))\n",
    "```\n",
    "\n",
    "<div style=\"background: white;\"><small>shape: (3, 10)</small>\n",
    "<table border=\"1\" style=\"margin-left: 0;\"><thead>\n",
    "<tr><th>sales_ymd</th><th>&hellip;</th><th>amount</th><th>id</th></tr>\n",
    "<tr><td>i64</td><td>&hellip;</td><td>i64</td><td>i64</td></tr>\n",
    "</thead><tbody>\n",
    "<tr><td>20181103</td><td>&hellip;</td><td>158</td><td>0</td></tr>\n",
    "<tr><td>20181118</td><td>&hellip;</td><td>81</td><td>1</td></tr>\n",
    "<tr><td>20170712</td><td>&hellip;</td><td>170</td><td>2</td></tr>\n",
    "</tbody></table></div>\n",
    "\n",
    "※ `with_row_index()`を使うとより簡単に記述できます。\n",
    "\n",
    "<br>\n",
    "\n",
    "式は、さまざまな演算ができます。たとえば、8桁の`col.sales_ymd`の上4桁を取得するには、`col.sales_ymd // 10000`とします。\n",
    "`col.sales_ymd`は、先程`pl.col(\"sales_ymd\")`と定義したものです。\n",
    "\n",
    "`df_receipt`の先頭3行に、列`year`として`col.sales_ymd`の上4桁を追加するには、次のようにします。\n",
    "\n",
    "```python\n",
    "df_receipt.head(3).with_columns((col.sales_ymd // 10000).alias(\"year\"))\n",
    "```\n",
    "\n",
    "<div style=\"background: white;\"><small>shape: (3, 10)</small>\n",
    "<table border=\"1\" style=\"margin-left: 0;\"><thead>\n",
    "<tr><th>sales_ymd</th><th>&hellip;</th><th>amount</th><th>year</th></tr>\n",
    "<tr><td>i64</td><td>&hellip;</td><td>i64</td><td>i64</td></tr>\n",
    "</thead><tbody>\n",
    "<tr><td>20181103</td><td>&hellip;</td><td>158</td><td>2018</td></tr>\n",
    "<tr><td>20181118</td><td>&hellip;</td><td>81</td><td>2018</td></tr>\n",
    "<tr><td>20170712</td><td>&hellip;</td><td>170</td><td>2017</td></tr>\n",
    "</tbody></table></div>\n",
    "\n",
    "列はいくつでも追加できます。\n",
    "\n",
    "また、`alias()`の代わりにキーワード引数も使えます。\n",
    "\n",
    "```python\n",
    "df_receipt.head(3).with_columns(\n",
    "    year=col.sales_ymd // 10000,\n",
    "    month=col.sales_ymd // 100 % 100,\n",
    "    day=col.sales_ymd % 100,\n",
    ")\n",
    "```\n",
    "\n",
    "<div style=\"background: white;\"><small>shape: (3, 12)</small>\n",
    "<table border=\"1\" style=\"margin-left: 0;\"><thead>\n",
    "<tr><th>sales_ymd</th><th>&hellip;</th><th>year</th><th>month</th><th>day</th></tr>\n",
    "<tr><td>i64</td><td>&hellip;</td><td>i64</td><td>i64</td><td>i64</td></tr>\n",
    "</thead><tbody>\n",
    "<tr><td>20181103</td><td>&hellip;</td><td>2018</td><td>11</td><td>3</td></tr>\n",
    "<tr><td>20181118</td><td>&hellip;</td><td>2018</td><td>11</td><td>18</td></tr>\n",
    "<tr><td>20170712</td><td>&hellip;</td><td>2017</td><td>7</td><td>12</td></tr>\n",
    "</tbody></table></div>\n",
    "\n",
    "`select()`を使うと指定した列だけになります。次のようにすると4列になります。\n",
    "\n",
    "```python\n",
    "df_receipt.head(3).select(\n",
    "    col.sales_ymd,\n",
    "    year=col.sales_ymd // 10000,\n",
    "    month=col.sales_ymd // 100 % 100,\n",
    "    day=col.sales_ymd % 100,\n",
    ")\n",
    "```\n",
    "\n",
    "<div style=\"background: white;\"><small>shape: (3, 4)</small>\n",
    "<table border=\"1\" style=\"margin-left: 0;\"><thead>\n",
    "<tr><th>sales_ymd</th><th>year</th><th>month</th><th>day</th></tr>\n",
    "<tr><td>i64</td><td>i64</td><td>i64</td><td>i64</td></tr>\n",
    "</thead><tbody>\n",
    "<tr><td>20181103</td><td>2018</td><td>11</td><td>3</td></tr>\n",
    "<tr><td>20181118</td><td>2018</td><td>11</td><td>18</td></tr>\n",
    "<tr><td>20170712</td><td>2017</td><td>7</td><td>12</td></tr>\n",
    "</tbody></table></div>\n"
   ]
  },
  {
   "cell_type": "markdown",
   "id": "570e16d6-9454-4c55-90c9-a7c70e855eb9",
   "metadata": {
    "deletable": true,
    "editable": true,
    "frozen": false
   },
   "source": [
    "---"
   ]
  },
  {
   "cell_type": "markdown",
   "id": "49edd3f8-0cfb-4abc-ac11-404c3992c404",
   "metadata": {
    "deletable": false,
    "editable": false,
    "frozen": true
   },
   "source": [
    "## 【重要】問題で使うDataFrameとExprの準備\n",
    "\n",
    "次のDataFrameを作成します。これらは、以降の問題で使います。\n",
    "\n",
    "* `df_customer`\n",
    "* `df_category`\n",
    "* `df_product`\n",
    "* `df_receipt`\n",
    "* `df_store`\n",
    "* `df_geocode`\n",
    "\n",
    "また、これらのDataFrameの**全列の式**を次のように変数`col`からアクセスできるようにします。\n",
    "\n",
    "```python\n",
    "col.sales_ymd = pl.col(\"sales_ymd\")\n",
    "```\n",
    "\n",
    "これにより、**`pl.col(\"sales_ymd\")`の代わりに`col.sales_ymd`が使えます**。\n",
    "\n",
    "途中の問題から始める場合も次のセルを実行してください。"
   ]
  },
  {
   "cell_type": "code",
   "execution_count": null,
   "id": "35434ef8-412c-4979-845b-6a0802081153",
   "metadata": {
    "deletable": false,
    "editable": false,
    "frozen": false,
    "jupyter": {
     "source_hidden": true
    }
   },
   "outputs": [],
   "source": [
    "# このセルを実行してください\n",
    "import datetime\n",
    "import keyword\n",
    "import numpy as np\n",
    "import polars as pl\n",
    "import polars.selectors as cs\n",
    "from polars.testing import assert_frame_equal\n",
    "from IPython.display import Markdown\n",
    "\n",
    "_cs = [\"customer_id\", \"gender_cd\", \"postal_cd\", \"application_store_cd\", \"status_cd\"]\n",
    "_cs += [\"category_major_cd\", \"category_medium_cd\", \"category_small_cd\", \"product_cd\"]\n",
    "_cs += [\"store_cd\", \"prefecture_cd\", \"tel_no\", \"street\", \"application_date\"]\n",
    "schema = pl.Schema({\"birth_day\": pl.Date, **{c: pl.Utf8 for c in _cs}})\n",
    "kwargs = {\"schema_overrides\": schema, \"encoding\": \"utf-8-sig\"}\n",
    "df_customer = pl.read_csv(\"../data/customer.csv\", **kwargs)\n",
    "df_category = pl.read_csv(\"../data/category.csv\", **kwargs)\n",
    "df_product = pl.read_csv(\"../data/product.csv\", **kwargs)\n",
    "df_receipt = pl.read_csv(\"../data/receipt.csv\", **kwargs)\n",
    "df_store = pl.read_csv(\"../data/store.csv\", **kwargs)\n",
    "df_geocode = pl.read_csv(\"../data/geocode.csv\", **kwargs)\n",
    "\n",
    "class Col:\n",
    "    @classmethod\n",
    "    def from_dataframes(cls, *dfs: pl.DataFrame):\n",
    "        col = cls()\n",
    "        for df in dfs:\n",
    "            for column in df.columns:\n",
    "                if keyword.iskeyword(column):\n",
    "                    name = \"_\" + column\n",
    "                else:\n",
    "                    name = re.sub(r\"\\W|^(?=\\d)\", \"_\", column)\n",
    "                setattr(col, name, pl.col(name))\n",
    "        return col\n",
    "\n",
    "# 列名にアクセスする変数を作成\n",
    "col = Col.from_dataframes(df_customer, df_category, df_product, df_receipt, df_store, df_geocode)\n",
    "\n",
    "print(f\"{pl.__version__ = }\")"
   ]
  },
  {
   "cell_type": "markdown",
   "id": "f622e1de-cc6a-4aa2-9d1f-7347d9c39e36",
   "metadata": {
    "deletable": true,
    "editable": true,
    "frozen": false
   },
   "source": [
    "---"
   ]
  },
  {
   "cell_type": "markdown",
   "id": "c08a04ef-4063-4251-a20b-fd6d9bbaa45c",
   "metadata": {
    "deletable": false,
    "editable": false,
    "frozen": true
   },
   "source": [
    "### `問題C10`\n",
    "\n",
    "レシート明細データ（`df_receipt`）から次の列を選択し、変数`df`に入れてください。そして、`df`の先頭の3行を表示してください。\n",
    "\n",
    "* 売上年月日（`sales_ymd`）\n",
    "* 顧客ID（`customer_id`）\n",
    "* 商品コード（`product_cd`）\n",
    "* 売上金額（`amount`）\n",
    "\n",
    "**解答欄**"
   ]
  },
  {
   "cell_type": "code",
   "execution_count": null,
   "id": "4d3fb0a3-2221-40d2-9305-54333e0c164c",
   "metadata": {
    "deletable": true,
    "editable": true,
    "frozen": false
   },
   "outputs": [],
   "source": [
    "# ここから解答を作成してください\n"
   ]
  },
  {
   "cell_type": "markdown",
   "id": "cc3119b6-7697-4071-850a-b11a7928d981",
   "metadata": {
    "deletable": false,
    "editable": false,
    "frozen": true
   },
   "source": [
    "<details><summary>解答例</summary>\n",
    "<br>\n",
    "\n",
    "```python\n",
    "df = df_receipt.select(col.sales_ymd, col.customer_id, col.product_cd, col.amount)\n",
    "df.head(3)\n",
    "```\n",
    "</details>\n",
    "<br>\n",
    "\n",
    "**確認**"
   ]
  },
  {
   "cell_type": "code",
   "execution_count": null,
   "id": "c29adc92-49dd-4233-9f7a-53cd4dbf086f",
   "metadata": {
    "deletable": false,
    "editable": false,
    "frozen": false,
    "jupyter": {
     "source_hidden": true
    }
   },
   "outputs": [],
   "source": [
    "# このセルを実行してください\n",
    "try:\n",
    "    _ans = df_receipt.select(col.sales_ymd, col.customer_id, col.product_cd, col.amount)\n",
    "    assert _ans.equals(df)\n",
    "except (AssertionError, NameError):\n",
    "    print(\"\\x1b[31mNG\\x1b[39m\")\n",
    "    display(Markdown(\"**期待する結果**\"))\n",
    "    display(_ans.head(3))\n",
    "else:\n",
    "    print(\"\\x1b[32mOK\\x1b[39m\")"
   ]
  },
  {
   "cell_type": "markdown",
   "id": "24bd318e-d349-4a74-be83-1f5c84889c65",
   "metadata": {
    "deletable": true,
    "editable": true,
    "frozen": false
   },
   "source": [
    "---"
   ]
  },
  {
   "cell_type": "markdown",
   "id": "c6967592-ca39-4408-893c-cc7bf0699d27",
   "metadata": {
    "deletable": false,
    "editable": false,
    "frozen": true
   },
   "source": [
    "### `問題C12`\n",
    "\n",
    "レシート明細データ（`df_receipt`）から次の列を選択し、変数`df`に入れてください。そして、`df`の先頭の3行を表示してください。\n",
    "\n",
    "* 売上年月日（`sales_ymd`）: 列名を`sales_date`に変更すること\n",
    "* 顧客ID（`customer_id`）\n",
    "* 商品コード（`product_cd`）\n",
    "* 売上金額（`amount`）\n",
    "\n",
    "**解答欄**"
   ]
  },
  {
   "cell_type": "code",
   "execution_count": null,
   "id": "df120f91-2f38-439d-b06b-3f25801b623a",
   "metadata": {
    "deletable": true,
    "editable": true,
    "frozen": false
   },
   "outputs": [],
   "source": [
    "# ここから解答を作成してください\n"
   ]
  },
  {
   "cell_type": "markdown",
   "id": "64c0b62f-4b5f-4d30-9e99-c5c66611d37a",
   "metadata": {
    "deletable": false,
    "editable": false,
    "frozen": true
   },
   "source": [
    "<details><summary>解答例</summary>\n",
    "<br>\n",
    "\n",
    "```python\n",
    "df = df_receipt.select(\n",
    "    col.sales_ymd.alias(\"sales_date\"),\n",
    "    col.customer_id,\n",
    "    col.product_cd,\n",
    "    col.amount,\n",
    ")\n",
    "df.head(3)\n",
    "```\n",
    "第2引数以降が位置引数のため、第1引数に`sales_date=col.sales_ymd`とキーワード引数を書けません。そのため、`alias()`で列名を変更します。\n",
    "\n",
    "**別解**\n",
    "```python\n",
    "df = df_receipt.select(col.sales_ymd, col.customer_id, col.product_cd, col.amount).rename(\n",
    "    {\"sales_ymd\": \"sales_date\"}\n",
    ")\n",
    "```\n",
    "</details>\n",
    "<br>\n",
    "\n",
    "**確認**"
   ]
  },
  {
   "cell_type": "code",
   "execution_count": null,
   "id": "48458c18-0453-4e25-900c-21befd047582",
   "metadata": {
    "deletable": false,
    "editable": false,
    "frozen": false,
    "jupyter": {
     "source_hidden": true
    }
   },
   "outputs": [],
   "source": [
    "# このセルを実行してください\n",
    "_ans = df_receipt.select(\n",
    "    col.sales_ymd.alias(\"sales_date\"),\n",
    "    col.customer_id,\n",
    "    col.product_cd,\n",
    "    col.amount,\n",
    ")\n",
    "try:\n",
    "    assert _ans.equals(df)\n",
    "except (AssertionError, NameError):\n",
    "    print(\"\\x1b[31mNG\\x1b[39m\")\n",
    "    display(Markdown(\"**期待する結果**\"))\n",
    "    display(_ans.head(3))\n",
    "else:\n",
    "    print(\"\\x1b[32mOK\\x1b[39m\")"
   ]
  },
  {
   "cell_type": "markdown",
   "id": "b409f79b-ca6b-4c9d-a0a1-099cfc8b1ebb",
   "metadata": {
    "deletable": true,
    "editable": true,
    "frozen": false
   },
   "source": [
    "---"
   ]
  },
  {
   "cell_type": "markdown",
   "id": "e4b9e7b3-3fe2-4388-973d-b196ba5ffc70",
   "metadata": {
    "deletable": false,
    "editable": false,
    "frozen": true
   },
   "source": [
    "### `問題C14`\n",
    "\n",
    "商品データ（`df_product`）に次の列を追加し、変数`df`に入れてください。そして、`df`の先頭の3行を表示してください。\n",
    "\n",
    "* 単価（`unit_price`）から税込み金額を計算し、列名を`tax_price`とすること\n",
    "  * 消費税率を10％とすること\n",
    "  * 1円未満は切り捨て\n",
    "\n",
    "**解答欄**"
   ]
  },
  {
   "cell_type": "code",
   "execution_count": null,
   "id": "55cf7883-2517-4032-8e40-8b5b33696d3e",
   "metadata": {
    "deletable": true,
    "editable": true,
    "frozen": false
   },
   "outputs": [],
   "source": [
    "# ここから解答を作成してください\n"
   ]
  },
  {
   "cell_type": "markdown",
   "id": "6ff3e062-3edf-47d6-9378-8f67ac4b5df9",
   "metadata": {
    "deletable": false,
    "editable": false,
    "frozen": true
   },
   "source": [
    "<details><summary>解答例</summary>\n",
    "<br>\n",
    "\n",
    "```python\n",
    "df = df_product.with_columns(tax_price=(col.unit_price * 1.1).floor())\n",
    "df.head(3)\n",
    "```\n",
    "</details>\n",
    "<br>\n",
    "\n",
    "**確認**"
   ]
  },
  {
   "cell_type": "code",
   "execution_count": null,
   "id": "cd36bb52-ba5a-4139-801f-046a0c31d848",
   "metadata": {
    "deletable": false,
    "editable": false,
    "frozen": false,
    "jupyter": {
     "source_hidden": true
    }
   },
   "outputs": [],
   "source": [
    "# このセルを実行してください\n",
    "_ans = df_product.with_columns(tax_price=(col.unit_price * 1.1).floor())\n",
    "try:\n",
    "    assert _ans.equals(df)\n",
    "except (AssertionError, NameError):\n",
    "    print(\"\\x1b[31mNG\\x1b[39m\")\n",
    "    display(Markdown(\"**期待する結果**\"))\n",
    "    display(_ans.head(3))\n",
    "else:\n",
    "    print(\"\\x1b[32mOK\\x1b[39m\")"
   ]
  },
  {
   "cell_type": "markdown",
   "id": "6df33925-09e2-4482-8df2-341e0ffb2e1c",
   "metadata": {
    "deletable": true,
    "editable": true,
    "frozen": false
   },
   "source": [
    "---"
   ]
  },
  {
   "cell_type": "markdown",
   "id": "0cef1660-d1b3-4892-b2a1-e544a513fd47",
   "metadata": {
    "deletable": false,
    "editable": false,
    "frozen": true
   },
   "source": [
    "### `問題C16`\n",
    "\n",
    "商品データ（`df_product`）に次の列を追加し、変数`df`に入れてください。そして、`df`の先頭の3行を表示してください。\n",
    "\n",
    "* 単価（`unit_price`）と原価（`unit_cost`）から各商品の利益額を計算し、列名を`unit_profit`とすること\n",
    "\n",
    "**解答欄**"
   ]
  },
  {
   "cell_type": "code",
   "execution_count": null,
   "id": "61fe4891-2358-42f2-8f19-52bfc0c3eed6",
   "metadata": {
    "deletable": true,
    "editable": true,
    "frozen": false
   },
   "outputs": [],
   "source": [
    "# ここから解答を作成してください\n"
   ]
  },
  {
   "cell_type": "markdown",
   "id": "b20c4d63-910b-4b70-b6cf-a514e5956926",
   "metadata": {
    "deletable": false,
    "editable": false,
    "frozen": true
   },
   "source": [
    "<details><summary>解答例</summary>\n",
    "<br>\n",
    "\n",
    "```python\n",
    "df = df_product.with_columns(unit_profit=col.unit_price - col.unit_cost)\n",
    "df.head(3)\n",
    "```\n",
    "</details>\n",
    "<br>\n",
    "\n",
    "**確認**"
   ]
  },
  {
   "cell_type": "code",
   "execution_count": null,
   "id": "f30a48c1-ce91-4525-b943-6157255fe5f5",
   "metadata": {
    "deletable": false,
    "editable": false,
    "frozen": false,
    "jupyter": {
     "source_hidden": true
    }
   },
   "outputs": [],
   "source": [
    "# このセルを実行してください\n",
    "_ans = df_product.with_columns(unit_profit=col.unit_price - col.unit_cost)\n",
    "try:\n",
    "    assert _ans.equals(df)\n",
    "except (AssertionError, NameError):\n",
    "    print(\"\\x1b[31mNG\\x1b[39m\")\n",
    "    display(Markdown(\"**期待する結果**\"))\n",
    "    display(_ans.head(3))\n",
    "else:\n",
    "    print(\"\\x1b[32mOK\\x1b[39m\")"
   ]
  },
  {
   "cell_type": "markdown",
   "id": "2e366d1d-b1dd-4f1d-8be4-fe886e629a73",
   "metadata": {
    "deletable": true,
    "editable": true,
    "frozen": false
   },
   "source": [
    "---"
   ]
  },
  {
   "cell_type": "markdown",
   "id": "be52cef0-70c2-4eab-9f39-df0ac316c23b",
   "metadata": {
    "deletable": false,
    "editable": false,
    "frozen": true
   },
   "source": [
    "### `問題C18`\n",
    "\n",
    "商品データ（`df_product`）に次の列を追加し、変数`df`に入れてください。そして、`df`の先頭の3行を表示してください。\n",
    "\n",
    "* 原価（`unit_cost`）から利益率が30%となる新たな単価を計算し、列名を`new_price`とすること\n",
    "  * 1円未満は切り捨て\n",
    "* `new_price`の利益率を計算し、列名を`new_profit_rate`とすること\n",
    "\n",
    "**解答欄**"
   ]
  },
  {
   "cell_type": "code",
   "execution_count": null,
   "id": "d763d4e2-f622-4c56-bda1-063d942eaa93",
   "metadata": {
    "deletable": true,
    "editable": true,
    "frozen": false
   },
   "outputs": [],
   "source": [
    "# ここから解答を作成してください\n"
   ]
  },
  {
   "cell_type": "markdown",
   "id": "2f9f467d-12d6-4694-8a87-444e9c075136",
   "metadata": {
    "deletable": false,
    "editable": false,
    "frozen": true
   },
   "source": [
    "<details><summary>解答例</summary>\n",
    "<br>\n",
    "\n",
    "```python\n",
    "df = df_product.with_columns(new_price=col.unit_cost // 0.7).with_columns(\n",
    "    new_profit_rate=1 - col.unit_cost / pl.col(\"new_price\")\n",
    ")\n",
    "df.head(3)\n",
    "```\n",
    "</details>\n",
    "<br>\n",
    "\n",
    "**確認**"
   ]
  },
  {
   "cell_type": "code",
   "execution_count": null,
   "id": "f8908599-5f54-4aae-8534-dae0f0603b0e",
   "metadata": {
    "deletable": false,
    "editable": false,
    "frozen": false,
    "jupyter": {
     "source_hidden": true
    }
   },
   "outputs": [],
   "source": [
    "# このセルを実行してください\n",
    "_ans = df_product.with_columns(new_price=col.unit_cost // 0.7).with_columns(\n",
    "    new_profit_rate=1 - col.unit_cost / pl.col(\"new_price\")\n",
    ")\n",
    "try:\n",
    "    assert _ans.equals(df)\n",
    "except (AssertionError, NameError):\n",
    "    print(\"\\x1b[31mNG\\x1b[39m\")\n",
    "    display(Markdown(\"**期待する結果**\"))\n",
    "    display(_ans.head(3))\n",
    "else:\n",
    "    print(\"\\x1b[32mOK\\x1b[39m\")"
   ]
  },
  {
   "cell_type": "markdown",
   "id": "48034e01-1f90-42fd-ad4d-3fbc42e2d571",
   "metadata": {
    "deletable": true,
    "editable": true,
    "frozen": false
   },
   "source": [
    "---"
   ]
  },
  {
   "cell_type": "markdown",
   "id": "9311819b-2986-4e11-953a-dae588ed8416",
   "metadata": {
    "deletable": false,
    "editable": false,
    "frozen": true
   },
   "source": [
    "## DataFrameの行の抽出\n",
    "\n",
    "DataFrameから行を抽出するには、次のように`filter()`を使います。\n",
    "\n",
    "```python\n",
    "df_receipt.filter(col.store_cd == \"S13002\")\n",
    "```\n",
    "\n",
    "複数の条件を組み合わせるには次のようにビット演算子を使います。また、複数条件をカンマで書くとANDになります。\n",
    "\n",
    "```python\n",
    "df_receipt.filter((col.store_cd == \"S13002\") & (col.amount >= 100))\n",
    "または\n",
    "df_receipt.filter(col.store_cd == \"S13002\", col.amount >= 100)\n",
    "```\n",
    "\n",
    "また、値がある範囲に入るかどうかは次のようにします。デフォルトでは両端の値も含みます。\n",
    "\n",
    "```python\n",
    "df_receipt.filter(col.amount.is_between(200, 400))\n",
    "```\n",
    "\n",
    "文字列の列に対しては、次のように`str`属性を使って条件を書けます。\n",
    "\n",
    "* `str.starts_with()`: 指定の文字列で始まるか\n",
    "* `str.ends_with()`: 指定の文字列で終わるか\n",
    "* `str.contains()`: 指定した正規表現の文字列を含むか\n",
    "\n",
    "行の抽出と列の選択をしたい場合には、次のようにします。\n",
    "\n",
    "```python\n",
    "df_receipt.filter(col.amount >= 100).select(col.amount)\n",
    "```\n",
    "&emsp;&emsp;または\n",
    "```python\n",
    "df_receipt.select(col.amount).filter(col.amount >= 100)\n",
    "```\n",
    "\n",
    "どちらも同じ結果になります。\n"
   ]
  },
  {
   "cell_type": "markdown",
   "id": "91b4102b-b7af-45f0-a4b3-12a077441d6d",
   "metadata": {
    "deletable": true,
    "editable": true,
    "frozen": false
   },
   "source": [
    "---"
   ]
  },
  {
   "cell_type": "markdown",
   "id": "bf0ce418-de87-40dc-96a9-74e8d1f1c852",
   "metadata": {
    "deletable": false,
    "editable": false,
    "frozen": true
   },
   "source": [
    "### `問題D10`\n",
    "\n",
    "レシート明細データ（`df_receipt`）から以下の手順で取得し、変数`df`に入れてください。そして、`df`の先頭の3行を表示してください。\n",
    "\n",
    "* 顧客ID（`customer_id`）が`\"CS018205000001\"`を抽出\n",
    "* 売上日（`sales_ymd`）、顧客ID（`customer_id`）、商品コード（`product_cd`）、売上金額（`amount`）を選択\n",
    "\n",
    "**解答欄**"
   ]
  },
  {
   "cell_type": "code",
   "execution_count": null,
   "id": "7d483774-8196-490f-a353-47b4ebde27d7",
   "metadata": {
    "deletable": true,
    "editable": true,
    "frozen": false
   },
   "outputs": [],
   "source": [
    "# ここから解答を作成してください\n"
   ]
  },
  {
   "cell_type": "markdown",
   "id": "e99cd11c-98f0-414d-ba7b-a4a90f847b29",
   "metadata": {
    "deletable": false,
    "editable": false,
    "frozen": true
   },
   "source": [
    "<details><summary>解答例</summary>\n",
    "<br>\n",
    "\n",
    "```python\n",
    "df = df_receipt.filter(col.customer_id == \"CS018205000001\").select(\n",
    "    col.sales_ymd, col.customer_id, col.product_cd, col.amount\n",
    ")\n",
    "df.head(3)\n",
    "```\n",
    "このようにメソッドをつなげることをメソッドチェーンといいます。\n",
    "\n",
    "Polarsは、DataFrameのメソッドチェーンと、列のメソッドチェーンを同時に書けるので、柔軟に処理できます。\n",
    "</details>\n",
    "<br>\n",
    "\n",
    "**確認**"
   ]
  },
  {
   "cell_type": "code",
   "execution_count": null,
   "id": "c78006fd-fcac-4c22-ada9-c8a0eb7833c6",
   "metadata": {
    "deletable": false,
    "editable": false,
    "frozen": false,
    "jupyter": {
     "source_hidden": true
    }
   },
   "outputs": [],
   "source": [
    "# このセルを実行してください\n",
    "_ans = df_receipt.filter(col.customer_id == \"CS018205000001\").select(\n",
    "    col.sales_ymd, col.customer_id, col.product_cd, col.amount\n",
    ")\n",
    "try:\n",
    "    assert _ans.equals(df)\n",
    "except (AssertionError, NameError):\n",
    "    print(\"\\x1b[31mNG\\x1b[39m\")\n",
    "    display(Markdown(\"**期待する結果**\"))\n",
    "    display(_ans.head(3))\n",
    "else:\n",
    "    print(\"\\x1b[32mOK\\x1b[39m\")"
   ]
  },
  {
   "cell_type": "markdown",
   "id": "813ebc8f-a7b9-4c48-8a57-425f0ca932bd",
   "metadata": {
    "deletable": true,
    "editable": true,
    "frozen": false
   },
   "source": [
    "---"
   ]
  },
  {
   "cell_type": "markdown",
   "id": "a879085d-66d9-4faf-b0b4-7064b7b1fd33",
   "metadata": {
    "deletable": false,
    "editable": false,
    "frozen": true
   },
   "source": [
    "### `問題D12`\n",
    "\n",
    "レシート明細データ（`df_receipt`）から以下の手順で取得し、変数`df`に入れてください。そして、`df`の先頭の3行を表示してください。\n",
    "\n",
    "* 以下の条件をANDで抽出\n",
    "    * 顧客ID（`customer_id`）が`\"CS018205000001\"`\n",
    "    * 売上金額（`amount`）が`1000`以上\n",
    "* 売上日（`sales_ymd`）、顧客ID（`customer_id`）、商品コード（`product_cd`）、売上金額（`amount`）を選択\n",
    "\n",
    "**解答欄**"
   ]
  },
  {
   "cell_type": "code",
   "execution_count": null,
   "id": "95f97aa8-6715-4017-81e8-ecfc36b0488a",
   "metadata": {
    "deletable": true,
    "editable": true,
    "frozen": false
   },
   "outputs": [],
   "source": [
    "# ここから解答を作成してください\n"
   ]
  },
  {
   "cell_type": "markdown",
   "id": "210c57b0-9959-4e88-a825-045f8540bed2",
   "metadata": {
    "deletable": false,
    "editable": false,
    "frozen": true
   },
   "source": [
    "<details><summary>解答例</summary>\n",
    "<br>\n",
    "\n",
    "```python\n",
    "df = df_receipt.filter(\n",
    "    (col.customer_id == \"CS018205000001\") & (col.amount >= 1000)\n",
    ").select(col.sales_ymd, col.customer_id, col.product_cd, col.amount)\n",
    "df.head(3)\n",
    "```\n",
    "複数の条件に対し、ビット演算子（`&`、`|`、`^`、`~`）が使えます。\n",
    "</details>\n",
    "<br>\n",
    "\n",
    "**確認**"
   ]
  },
  {
   "cell_type": "code",
   "execution_count": null,
   "id": "94f04c3d-cae6-4dd5-a783-cb7a8a1bbf4f",
   "metadata": {
    "deletable": false,
    "editable": false,
    "frozen": false,
    "jupyter": {
     "source_hidden": true
    }
   },
   "outputs": [],
   "source": [
    "# このセルを実行してください\n",
    "_ans = df_receipt.filter(\n",
    "    (col.customer_id == \"CS018205000001\") & (col.amount >= 1000)\n",
    ").select(col.sales_ymd, col.customer_id, col.product_cd, col.amount)\n",
    "try:\n",
    "    assert _ans.equals(df)\n",
    "except (AssertionError, NameError):\n",
    "    print(\"\\x1b[31mNG\\x1b[39m\")\n",
    "    display(Markdown(\"**期待する結果**\"))\n",
    "    display(_ans.head(3))\n",
    "else:\n",
    "    print(\"\\x1b[32mOK\\x1b[39m\")"
   ]
  },
  {
   "cell_type": "markdown",
   "id": "62820e00-283d-4329-8367-890a30076e9f",
   "metadata": {
    "deletable": true,
    "editable": true,
    "frozen": false
   },
   "source": [
    "---"
   ]
  },
  {
   "cell_type": "markdown",
   "id": "b24c95f2-6b02-4b5f-bdb4-1414b48950c7",
   "metadata": {
    "deletable": false,
    "editable": false,
    "frozen": true
   },
   "source": [
    "### `問題D14`\n",
    "\n",
    "レシート明細データ（`df_receipt`）から以下の手順で取得し、変数`df`に入れてください。そして、`df`の先頭の3行を表示してください。\n",
    "\n",
    "* 以下の条件をANDで抽出\n",
    "    * 顧客ID（`customer_id`）が`\"CS018205000001\"`\n",
    "    * 売上金額（`amount`）が`1000`以上、または、売上数量（`quantity`）が`5`以上\n",
    "* 売上日（`sales_ymd`）、顧客ID（`customer_id`）、商品コード（`product_cd`）、売上金額（`amount`）を選択\n",
    "\n",
    "**解答欄**"
   ]
  },
  {
   "cell_type": "code",
   "execution_count": null,
   "id": "4abba364-bd37-431b-859d-01a770b91d18",
   "metadata": {
    "deletable": true,
    "editable": true,
    "frozen": false
   },
   "outputs": [],
   "source": [
    "# ここから解答を作成してください\n"
   ]
  },
  {
   "cell_type": "markdown",
   "id": "22f4421b-d3dc-4344-b3da-cfdbe85d858f",
   "metadata": {
    "deletable": false,
    "editable": false,
    "frozen": true
   },
   "source": [
    "<details><summary>解答例</summary>\n",
    "<br>\n",
    "\n",
    "```python\n",
    "df = df_receipt.filter(\n",
    "    (col.customer_id == \"CS018205000001\")\n",
    "    & ((col.amount >= 1000) | (col.quantity >= 5))\n",
    ").select(col.sales_ymd, col.customer_id, col.product_cd, col.amount)\n",
    "df.head(3)\n",
    "```\n",
    "</details>\n",
    "<br>\n",
    "\n",
    "**確認**"
   ]
  },
  {
   "cell_type": "code",
   "execution_count": null,
   "id": "06a5b284-34c3-4d7f-a1b8-fbb7323841eb",
   "metadata": {
    "deletable": false,
    "editable": false,
    "frozen": false,
    "jupyter": {
     "source_hidden": true
    }
   },
   "outputs": [],
   "source": [
    "# このセルを実行してください\n",
    "_ans = df_receipt.filter(\n",
    "    (col.customer_id == \"CS018205000001\")\n",
    "    & ((col.amount >= 1000) | (col.quantity >= 5))\n",
    ").select(col.sales_ymd, col.customer_id, col.product_cd, col.amount)\n",
    "try:\n",
    "    assert _ans.equals(df)\n",
    "except (AssertionError, NameError):\n",
    "    print(\"\\x1b[31mNG\\x1b[39m\")\n",
    "    display(Markdown(\"**期待する結果**\"))\n",
    "    display(_ans.head(3))\n",
    "else:\n",
    "    print(\"\\x1b[32mOK\\x1b[39m\")"
   ]
  },
  {
   "cell_type": "markdown",
   "id": "27aee4f8-5d45-4c3f-992a-7a7198ab4ae1",
   "metadata": {
    "deletable": true,
    "editable": true,
    "frozen": false
   },
   "source": [
    "---"
   ]
  },
  {
   "cell_type": "markdown",
   "id": "6737b84f-84fa-4278-86fb-04b46b648aa0",
   "metadata": {
    "deletable": false,
    "editable": false,
    "frozen": true
   },
   "source": [
    "### `問題D16`\n",
    "\n",
    "レシート明細データ（`df_receipt`）から以下の手順で取得し、変数`df`に入れてください。そして、`df`を表示してください。\n",
    "\n",
    "* 以下の条件をANDで抽出\n",
    "    * 顧客ID（`customer_id`）が`\"CS018205000001\"`\n",
    "    * 売上金額（`amount`）が`1000`以上`2000`以下\n",
    "* 売上日（`sales_ymd`）、顧客ID（`customer_id`）、商品コード（`product_cd`）、売上金額（`amount`）を選択\n",
    "\n",
    "**解答欄**"
   ]
  },
  {
   "cell_type": "code",
   "execution_count": null,
   "id": "e817d766-62f7-472d-8bfe-2154d88e32af",
   "metadata": {
    "deletable": true,
    "editable": true,
    "frozen": false
   },
   "outputs": [],
   "source": [
    "# ここから解答を作成してください\n"
   ]
  },
  {
   "cell_type": "markdown",
   "id": "74e8ebd6-f571-484f-8847-bb4725ad3160",
   "metadata": {
    "deletable": false,
    "editable": false,
    "frozen": true
   },
   "source": [
    "<details><summary>解答例</summary>\n",
    "<br>\n",
    "\n",
    "```python\n",
    "df = df_receipt.filter(\n",
    "    (col.customer_id == \"CS018205000001\") & (col.amount.is_between(1000, 2000))\n",
    ").select(col.sales_ymd, col.customer_id, col.product_cd, col.amount)\n",
    "df\n",
    "```\n",
    "</details>\n",
    "<br>\n",
    "\n",
    "**確認**"
   ]
  },
  {
   "cell_type": "code",
   "execution_count": null,
   "id": "220911b4-a905-4ac8-9512-9a04f4babb9a",
   "metadata": {
    "deletable": false,
    "editable": false,
    "frozen": false,
    "jupyter": {
     "source_hidden": true
    }
   },
   "outputs": [],
   "source": [
    "# このセルを実行してください\n",
    "_ans = df_receipt.filter(\n",
    "    (col.customer_id == \"CS018205000001\") & (col.amount.is_between(1000, 2000))\n",
    ").select(col.sales_ymd, col.customer_id, col.product_cd, col.amount)\n",
    "try:\n",
    "    assert _ans.equals(df)\n",
    "except (AssertionError, NameError):\n",
    "    print(\"\\x1b[31mNG\\x1b[39m\")\n",
    "    display(Markdown(\"**期待する結果**\"))\n",
    "    display(_ans)\n",
    "else:\n",
    "    print(\"\\x1b[32mOK\\x1b[39m\")"
   ]
  },
  {
   "cell_type": "markdown",
   "id": "6e8d8daf-91f5-499a-b994-d2c0bf4e0f9d",
   "metadata": {
    "deletable": true,
    "editable": true,
    "frozen": false
   },
   "source": [
    "---"
   ]
  },
  {
   "cell_type": "markdown",
   "id": "ffbe214d-15cd-4ee1-99f3-c8498b202f7c",
   "metadata": {
    "deletable": false,
    "editable": false,
    "frozen": true
   },
   "source": [
    "### `問題D18`\n",
    "\n",
    "店舗データ（`df_store`）から、店舗コード（`store_cd`）が`\"S14\"`で始まるものだけ全項目抽出し、変数`df`に入れてください。そして、`df`の先頭の3行を表示してください。\n",
    "\n",
    "**解答欄**"
   ]
  },
  {
   "cell_type": "code",
   "execution_count": null,
   "id": "146440b9-8255-444c-8e93-48bbfeca407f",
   "metadata": {
    "deletable": true,
    "editable": true,
    "frozen": false
   },
   "outputs": [],
   "source": [
    "# ここから解答を作成してください\n"
   ]
  },
  {
   "cell_type": "markdown",
   "id": "77097515-43b8-4024-956e-79de3ac4f78c",
   "metadata": {
    "deletable": false,
    "editable": false,
    "frozen": true
   },
   "source": [
    "<details><summary>解答例</summary>\n",
    "<br>\n",
    "\n",
    "```python\n",
    "df = df_store.filter(col.store_cd.str.starts_with(\"S14\"))\n",
    "df.head(3)\n",
    "```\n",
    "</details>\n",
    "<br>\n",
    "\n",
    "**確認**"
   ]
  },
  {
   "cell_type": "code",
   "execution_count": null,
   "id": "031d2e09-50b4-4803-82f3-5e0a7b81c68e",
   "metadata": {
    "deletable": false,
    "editable": false,
    "frozen": false,
    "jupyter": {
     "source_hidden": true
    }
   },
   "outputs": [],
   "source": [
    "# このセルを実行してください\n",
    "_ans = df_store.filter(col.store_cd.str.starts_with(\"S14\"))\n",
    "try:\n",
    "    assert _ans.equals(df)\n",
    "except (AssertionError, NameError):\n",
    "    print(\"\\x1b[31mNG\\x1b[39m\")\n",
    "    display(Markdown(\"**期待する結果**\"))\n",
    "    display(_ans.head(3))\n",
    "else:\n",
    "    print(\"\\x1b[32mOK\\x1b[39m\")"
   ]
  },
  {
   "cell_type": "markdown",
   "id": "da4fb123-f77d-461f-a215-ca372bfa5cae",
   "metadata": {
    "deletable": true,
    "editable": true,
    "frozen": false
   },
   "source": [
    "---"
   ]
  },
  {
   "cell_type": "markdown",
   "id": "699a905f-ffce-49f3-bf7f-8d964c2e24ce",
   "metadata": {
    "deletable": false,
    "editable": false,
    "frozen": true
   },
   "source": [
    "### `問題D20`\n",
    "\n",
    "顧客データ（`df_customer`）から顧客ID（`customer_id`）の末尾が`1`のものだけ全項目抽出し、変数`df`に入れてください。そして、`df`の先頭の3行を表示してください。\n",
    "\n",
    "**解答欄**"
   ]
  },
  {
   "cell_type": "code",
   "execution_count": null,
   "id": "a8fa1ce6-16da-4410-b086-db1a60750d26",
   "metadata": {
    "deletable": true,
    "editable": true,
    "frozen": false
   },
   "outputs": [],
   "source": [
    "# ここから解答を作成してください\n"
   ]
  },
  {
   "cell_type": "markdown",
   "id": "db4ff6c0-b073-4585-af68-1fe90449afe9",
   "metadata": {
    "deletable": false,
    "editable": false,
    "frozen": true
   },
   "source": [
    "<details><summary>解答例</summary>\n",
    "<br>\n",
    "\n",
    "```python\n",
    "df = df_customer.filter(col.customer_id.str.ends_with(\"1\"))\n",
    "df.head(3)\n",
    "```\n",
    "</details>\n",
    "<br>\n",
    "\n",
    "**確認**"
   ]
  },
  {
   "cell_type": "code",
   "execution_count": null,
   "id": "fc0c08ec-c71f-432c-a730-78c71de16059",
   "metadata": {
    "deletable": false,
    "editable": false,
    "frozen": false,
    "jupyter": {
     "source_hidden": true
    }
   },
   "outputs": [],
   "source": [
    "# このセルを実行してください\n",
    "_ans = df_customer.filter(col.customer_id.str.ends_with(\"1\"))\n",
    "try:\n",
    "    assert _ans.equals(df)\n",
    "except (AssertionError, NameError):\n",
    "    print(\"\\x1b[31mNG\\x1b[39m\")\n",
    "    display(Markdown(\"**期待する結果**\"))\n",
    "    display(_ans.head(3))\n",
    "else:\n",
    "    print(\"\\x1b[32mOK\\x1b[39m\")"
   ]
  },
  {
   "cell_type": "markdown",
   "id": "e1032952-37cf-47eb-bae7-55e1e6fd4d6f",
   "metadata": {
    "deletable": true,
    "editable": true,
    "frozen": false
   },
   "source": [
    "---"
   ]
  },
  {
   "cell_type": "markdown",
   "id": "41c04426-dcac-45ce-bc84-24c88c885e0a",
   "metadata": {
    "deletable": false,
    "editable": false,
    "frozen": true
   },
   "source": [
    "### `問題D22`\n",
    "\n",
    "店舗データ（`df_store`）から、住所 (`address`) に`\"横浜市\"`が含まれるものだけ全項目抽出し、変数`df`に入れてください。そして、`df`の先頭の3行を表示してください。\n",
    "\n",
    "**解答欄**"
   ]
  },
  {
   "cell_type": "code",
   "execution_count": null,
   "id": "0802fc05-2e3d-48d9-9f59-5e5783e1c653",
   "metadata": {
    "deletable": true,
    "editable": true,
    "frozen": false
   },
   "outputs": [],
   "source": [
    "# ここから解答を作成してください\n"
   ]
  },
  {
   "cell_type": "markdown",
   "id": "57484aec-cc06-4207-b2d2-c607daf80987",
   "metadata": {
    "deletable": false,
    "editable": false,
    "frozen": true
   },
   "source": [
    "<details><summary>解答例</summary>\n",
    "<br>\n",
    "\n",
    "```python\n",
    "df = df_store.filter(col.address.str.contains(\"横浜市\"))\n",
    "df.head(3)\n",
    "```\n",
    "</details>\n",
    "<br>\n",
    "\n",
    "**確認**"
   ]
  },
  {
   "cell_type": "code",
   "execution_count": null,
   "id": "6230a143-1c7d-4582-a893-ca935ea836eb",
   "metadata": {
    "deletable": false,
    "editable": false,
    "frozen": false,
    "jupyter": {
     "source_hidden": true
    }
   },
   "outputs": [],
   "source": [
    "# このセルを実行してください\n",
    "_ans = df_store.filter(col.address.str.contains(\"横浜市\"))\n",
    "try:\n",
    "    assert _ans.equals(df)\n",
    "except (AssertionError, NameError):\n",
    "    print(\"\\x1b[31mNG\\x1b[39m\")\n",
    "    display(Markdown(\"**期待する結果**\"))\n",
    "    display(_ans.head(3))\n",
    "else:\n",
    "    print(\"\\x1b[32mOK\\x1b[39m\")"
   ]
  },
  {
   "cell_type": "markdown",
   "id": "7b0feee4-06a2-4e06-9081-02a4702baedd",
   "metadata": {
    "deletable": true,
    "editable": true,
    "frozen": false
   },
   "source": [
    "---"
   ]
  },
  {
   "cell_type": "markdown",
   "id": "592896e6-78cd-48ef-bace-90b51541aaf5",
   "metadata": {
    "deletable": false,
    "editable": false,
    "frozen": true
   },
   "source": [
    "### `問題D24`\n",
    "\n",
    "顧客データ（`df_customer`）から、ステータスコード（`status_cd`）の先頭がアルファベットのA〜Fで始まるデータを全項目抽出し、変数`df`に入れてください。そして、`df`の先頭の3行を表示してください。\n",
    "\n",
    "**解答欄**"
   ]
  },
  {
   "cell_type": "code",
   "execution_count": null,
   "id": "cc9a53a8-20ad-4652-92ed-950c751b7585",
   "metadata": {
    "deletable": true,
    "editable": true,
    "frozen": false
   },
   "outputs": [],
   "source": [
    "# ここから解答を作成してください\n"
   ]
  },
  {
   "cell_type": "markdown",
   "id": "31b1e4c4-71fa-4f1a-ad6f-eda2c293265b",
   "metadata": {
    "deletable": false,
    "editable": false,
    "frozen": true
   },
   "source": [
    "<details><summary>解答例</summary>\n",
    "<br>\n",
    "\n",
    "```python\n",
    "df = df_customer.filter(col.status_cd.str.contains(\"^[A-F]\"))\n",
    "df.head(3)\n",
    "```\n",
    "</details>\n",
    "<br>\n",
    "\n",
    "**確認**"
   ]
  },
  {
   "cell_type": "code",
   "execution_count": null,
   "id": "132ffd55-b578-47d6-a9b1-c7cc85c5c8b7",
   "metadata": {
    "deletable": false,
    "editable": false,
    "frozen": false,
    "jupyter": {
     "source_hidden": true
    }
   },
   "outputs": [],
   "source": [
    "# このセルを実行してください\n",
    "_ans = df_customer.filter(col.status_cd.str.contains(\"^[A-F]\"))\n",
    "try:\n",
    "    assert _ans.equals(df)\n",
    "except (AssertionError, NameError):\n",
    "    print(\"\\x1b[31mNG\\x1b[39m\")\n",
    "    display(Markdown(\"**期待する結果**\"))\n",
    "    display(_ans.head(3))\n",
    "else:\n",
    "    print(\"\\x1b[32mOK\\x1b[39m\")"
   ]
  },
  {
   "cell_type": "markdown",
   "id": "58c64c6d-8fe5-425b-88c1-91972a3c2376",
   "metadata": {
    "deletable": true,
    "editable": true,
    "frozen": false
   },
   "source": [
    "---"
   ]
  },
  {
   "cell_type": "markdown",
   "id": "2b27bedd-4f26-4091-91d4-226da72028b3",
   "metadata": {
    "deletable": false,
    "editable": false,
    "frozen": true
   },
   "source": [
    "### `問題D26`\n",
    "\n",
    "顧客データ（`df_customer`）から、ステータスコード（`status_cd`）の先頭がアルファベットのA〜Fで始まり、末尾が数字の1〜9で終わるデータを全項目抽出し、変数`df`に入れてください。そして、`df`の先頭の3行を表示してください。\n",
    "\n",
    "**解答欄**"
   ]
  },
  {
   "cell_type": "code",
   "execution_count": null,
   "id": "2cf5841c-2e81-4857-b2ef-fa4f65469d24",
   "metadata": {
    "deletable": true,
    "editable": true,
    "frozen": false
   },
   "outputs": [],
   "source": [
    "# ここから解答を作成してください\n"
   ]
  },
  {
   "cell_type": "markdown",
   "id": "5190705f-45c7-4ebd-86d6-986eca89fca2",
   "metadata": {
    "deletable": false,
    "editable": false,
    "frozen": true
   },
   "source": [
    "<details><summary>解答例</summary>\n",
    "<br>\n",
    "\n",
    "```python\n",
    "df = df_customer.filter(col.status_cd.str.contains(\"^[A-F].*[1-9]$\"))\n",
    "df.head(3)\n",
    "```\n",
    "</details>\n",
    "<br>\n",
    "\n",
    "**確認**"
   ]
  },
  {
   "cell_type": "code",
   "execution_count": null,
   "id": "cb81daee-fbd4-48fc-850a-facae9872e3d",
   "metadata": {
    "deletable": false,
    "editable": false,
    "frozen": false,
    "jupyter": {
     "source_hidden": true
    }
   },
   "outputs": [],
   "source": [
    "# このセルを実行してください\n",
    "_ans = df_customer.filter(col.status_cd.str.contains(\"^[A-F].*[1-9]$\"))\n",
    "try:\n",
    "    assert _ans.equals(df)\n",
    "except (AssertionError, NameError):\n",
    "    print(\"\\x1b[31mNG\\x1b[39m\")\n",
    "    display(Markdown(\"**期待する結果**\"))\n",
    "    display(_ans.head(3))\n",
    "else:\n",
    "    print(\"\\x1b[32mOK\\x1b[39m\")"
   ]
  },
  {
   "cell_type": "markdown",
   "id": "c6f676ac-a31e-4865-9110-ada501a700ec",
   "metadata": {
    "deletable": true,
    "editable": true,
    "frozen": false
   },
   "source": [
    "---"
   ]
  },
  {
   "cell_type": "markdown",
   "id": "31fd93e0-8c80-4328-9039-5117b242e17d",
   "metadata": {
    "deletable": false,
    "editable": false,
    "frozen": true
   },
   "source": [
    "### `問題D28`\n",
    "\n",
    "店舗データ（`df_store`）から、電話番号（`tel_no`）が`3桁-3桁-4桁`のデータを全項目抽出し、変数`df`に入れてください。そして、`df`の先頭の3行を表示してください。\n",
    "\n",
    "**解答欄**"
   ]
  },
  {
   "cell_type": "code",
   "execution_count": null,
   "id": "4ed9682d-d75e-482c-a634-c3022f03428e",
   "metadata": {
    "deletable": true,
    "editable": true,
    "frozen": false
   },
   "outputs": [],
   "source": [
    "# ここから解答を作成してください\n"
   ]
  },
  {
   "cell_type": "markdown",
   "id": "e306d047-78b6-4bde-89da-e3fd2091ad43",
   "metadata": {
    "deletable": false,
    "editable": false,
    "frozen": true
   },
   "source": [
    "<details><summary>解答例</summary>\n",
    "<br>\n",
    "\n",
    "```python\n",
    "df = df_store.filter(col.tel_no.str.contains(r\"^\\d{3}-\\d{3}-\\d{4}$\"))\n",
    "df.head(3)\n",
    "```\n",
    "</details>\n",
    "<br>\n",
    "\n",
    "**確認**"
   ]
  },
  {
   "cell_type": "code",
   "execution_count": null,
   "id": "513618d2-43d8-468d-b023-e90d63d6ebe3",
   "metadata": {
    "deletable": false,
    "editable": false,
    "frozen": false,
    "jupyter": {
     "source_hidden": true
    }
   },
   "outputs": [],
   "source": [
    "# このセルを実行してください\n",
    "_ans = df_store.filter(col.tel_no.str.contains(r\"^\\d{3}-\\d{3}-\\d{4}$\"))\n",
    "try:\n",
    "    assert _ans.equals(df)\n",
    "except (AssertionError, NameError):\n",
    "    print(\"\\x1b[31mNG\\x1b[39m\")\n",
    "    display(Markdown(\"**期待する結果**\"))\n",
    "    display(_ans.head(3))\n",
    "else:\n",
    "    print(\"\\x1b[32mOK\\x1b[39m\")"
   ]
  },
  {
   "cell_type": "markdown",
   "id": "b3ff384b-359c-4842-aa09-13ae6a3cec1e",
   "metadata": {
    "deletable": true,
    "editable": true,
    "frozen": false
   },
   "source": [
    "---"
   ]
  },
  {
   "cell_type": "markdown",
   "id": "00201e56-1e21-4f46-aa38-b650c86cf5dd",
   "metadata": {
    "deletable": false,
    "editable": false,
    "frozen": true
   },
   "source": [
    "## DataFrameの属性とメソッド\n",
    "\n",
    "**主な属性とメソッド**\n",
    "\n",
    "* `height`: 行数\n",
    "* `width`: 列数\n",
    "* `shape`: 行数と列数\n",
    "* `columns`: 列名のリスト\n",
    "* `rows()`: 行（タプル）のリスト\n",
    "* `sum()`: 列ごとの合計（非数値はnull）\n",
    "* `n_unique(項目1, 項目2, ...)`: ユニーク数\n",
    "\n",
    "※ 行数は`len(df)`でも取得できます。\n",
    "\n",
    "※ 列内の要素数は、式の`count()`でできます。\n",
    "\n",
    "※ `for`で各行を使うときは、`rows()`ではなく`iter_rows()`を使いましょう（ジェネレーターなので効率がよい）。\n",
    "\n",
    "※ Polarsではnullとnanは区別されることに注意してください。\n",
    "\n",
    "各列ごとにユニーク数を出すには、`df.select(pl.all().n_unique())`のようにします。`df.n_unique()`とすると、行としてのユニーク数になります。\n",
    "\n",
    "**`unique()`**\n",
    "\n",
    "次のようにして指定項目がユニークな行を抽出できます。項目は空や複数で指定できます。\n",
    "\n",
    "```\n",
    "df_store.unique(col.prefecture_cd)\n",
    "```\n",
    "\n",
    "**`describe()`**\n",
    "\n",
    "次のようにして基本統計量を確認できます。\n",
    "\n",
    "```python\n",
    "df_store.sort(col.store_cd)\n",
    "```\n",
    "\n",
    "<div style=\"background: white;\"><small>shape: (9, 11)</small>\n",
    "<table border=\"1\" style=\"margin-left: 0;\"><thead>\n",
    "<tr><th>statistic</th><th>store_cd</th><th>store_name</th><th>&hellip;</th><th>floor_area</th></tr>\n",
    "<tr><td>str</td><td>str</td><td>str</td><td>&hellip;</td><td>f64</td></tr>\n",
    "</thead><tbody>\n",
    "<tr><td>&quot;count&quot;</td><td>&quot;53&quot;</td><td>&quot;53&quot;</td><td>&hellip;</td><td>53.0</td></tr>\n",
    "<tr><td>&quot;null_count&quot;</td><td>&quot;0&quot;</td><td>&quot;0&quot;</td><td>&hellip;</td><td>0.0</td></tr>\n",
    "<tr><td>&quot;mean&quot;</td><td>null</td><td>null</td><td>&hellip;</td><td>1273.433962</td></tr>\n",
    "<tr><td>&quot;std&quot;</td><td>null</td><td>null</td><td>&hellip;</td><td>348.459164</td></tr>\n",
    "<tr><td>&quot;min&quot;</td><td>&quot;S12007&quot;</td><td>&quot;三田店&quot;</td><td>&hellip;</td><td>801.0</td></tr>\n",
    "<tr><td>&quot;25%&quot;</td><td>null</td><td>null</td><td>&hellip;</td><td>980.0</td></tr>\n",
    "<tr><td>&quot;50%&quot;</td><td>null</td><td>null</td><td>&hellip;</td><td>1220.0</td></tr>\n",
    "<tr><td>&quot;75%&quot;</td><td>null</td><td>null</td><td>&hellip;</td><td>1555.0</td></tr>\n",
    "<tr><td>&quot;max&quot;</td><td>&quot;S14050&quot;</td><td>&quot;鷺宮店&quot;</td><td>&hellip;</td><td>1895.0</td></tr>\n",
    "</tbody></table></div>\n",
    "\n",
    "**`sort()`**\n",
    "\n",
    "次のようにして指定した列で昇順にソートできます。\n",
    "\n",
    "```python\n",
    "df_store.describe()\n",
    "```\n",
    "\n",
    "<div style=\"background: white;\"><small>shape: (53, 10)</small>\n",
    "<table border=\"1\" style=\"margin-left: 0;\"><thead>\n",
    "<tr><th>store_cd</th><th>store_name</th><th>&hellip;</th><th>floor_area</th></tr>\n",
    "<tr><td>str</td><td>str</td><td>&hellip;</td><td>i64</td></tr>\n",
    "</thead><tbody>\n",
    "<tr><td>&quot;S12007&quot;</td><td>&quot;佐倉店&quot;</td><td>&hellip;</td><td>1895.0</td></tr>\n",
    "<tr><td>&quot;S12013&quot;</td><td>&quot;習志野店&quot;</td><td>&hellip;</td><td>808.0</td></tr>\n",
    "<tr><td>&quot;S12014&quot;</td><td>&quot;千草台店&quot;</td><td>&hellip;</td><td>1698.0</td></tr>\n",
    "<tr><td colspan=\"4\">以下略</td></tr>\n",
    "</tbody></table></div>\n",
    "\n",
    "* 降順にソートするには、`descending=True`をつける\n",
    "* ソートのキーが同じ場合に元の順番を維持するには、`maintain_order=True`をつける\n",
    "* 複数の項目を指定するには、位置引数を順番に書く\n",
    "* 複数の項目ごとに、昇順と降順を切り替えるには、次のようにリストで指定する\n",
    "\n",
    "```python\n",
    "df_store.sort([col.prefecture_cd, col.store_cd], descending=[False, True])\n",
    "```\n",
    "\n",
    "※ 以降の問題では、**指定した場合は`maintain_order=True`をつけてください**。\n"
   ]
  },
  {
   "cell_type": "markdown",
   "id": "35a376e6-e5da-4215-a565-f636e9299512",
   "metadata": {
    "deletable": true,
    "editable": true,
    "frozen": false
   },
   "source": [
    "---"
   ]
  },
  {
   "cell_type": "markdown",
   "id": "587b3deb-b89a-4e79-9aad-a647abd6dafd",
   "metadata": {
    "deletable": false,
    "editable": false,
    "frozen": true
   },
   "source": [
    "### `問題E10`\n",
    "\n",
    "顧客データ（`df_customer`）を生年月日（`birth_day`）で高齢順にソートし、変数`df`に入れてください。そして、`df`の先頭の3行を表示してください。\n",
    "\n",
    "ソート時に`maintain_order=True`をつけてください。\n",
    "\n",
    "**解答欄**"
   ]
  },
  {
   "cell_type": "code",
   "execution_count": null,
   "id": "13ed7b77-6f33-40d2-ab6d-250a70a1904b",
   "metadata": {
    "deletable": true,
    "editable": true,
    "frozen": false
   },
   "outputs": [],
   "source": [
    "# ここから解答を作成してください\n"
   ]
  },
  {
   "cell_type": "markdown",
   "id": "0ce43824-a5bc-4e19-a7df-2751f6eb19ff",
   "metadata": {
    "deletable": false,
    "editable": false,
    "frozen": true
   },
   "source": [
    "<details><summary>解答例</summary>\n",
    "<br>\n",
    "\n",
    "```python\n",
    "df = df_customer.sort(col.birth_day, maintain_order=True)\n",
    "df.head(3)\n",
    "```\n",
    "</details>\n",
    "<br>\n",
    "\n",
    "**確認**"
   ]
  },
  {
   "cell_type": "code",
   "execution_count": null,
   "id": "2b0ef593-8e5c-40a3-a677-cd173b106d74",
   "metadata": {
    "deletable": false,
    "editable": false,
    "frozen": false,
    "jupyter": {
     "source_hidden": true
    }
   },
   "outputs": [],
   "source": [
    "# このセルを実行してください\n",
    "_ans = df_customer.sort(col.birth_day, maintain_order=True)\n",
    "try:\n",
    "    assert _ans.equals(df)\n",
    "except (AssertionError, NameError):\n",
    "    print(\"\\x1b[31mNG\\x1b[39m\")\n",
    "    display(Markdown(\"**期待する結果**\"))\n",
    "    display(_ans.head(3))\n",
    "else:\n",
    "    print(\"\\x1b[32mOK\\x1b[39m\")"
   ]
  },
  {
   "cell_type": "markdown",
   "id": "bb9f7b72-cf41-410f-87dd-7ee03e7ed421",
   "metadata": {
    "deletable": true,
    "editable": true,
    "frozen": false
   },
   "source": [
    "---"
   ]
  },
  {
   "cell_type": "markdown",
   "id": "e55a8f66-5d2a-49b0-ae9d-6609c3b8d347",
   "metadata": {
    "deletable": false,
    "editable": false,
    "frozen": true
   },
   "source": [
    "### `問題E12`\n",
    "\n",
    "顧客データ（`df_customer`）を生年月日（`birth_day`）で若い順にソートし、変数`df`に入れてください。そして、`df`の先頭の3行を表示してください。\n",
    "\n",
    "ソート時に`maintain_order=True`をつけてください。\n",
    "\n",
    "**解答欄**"
   ]
  },
  {
   "cell_type": "code",
   "execution_count": null,
   "id": "46109006-379d-434c-8b36-8964dbe49770",
   "metadata": {
    "deletable": true,
    "editable": true,
    "frozen": false
   },
   "outputs": [],
   "source": [
    "# ここから解答を作成してください\n"
   ]
  },
  {
   "cell_type": "markdown",
   "id": "52bf0bb6-b55f-411a-98cc-897cd9d587eb",
   "metadata": {
    "deletable": false,
    "editable": false,
    "frozen": true
   },
   "source": [
    "<details><summary>解答例</summary>\n",
    "<br>\n",
    "\n",
    "```python\n",
    "df = df_customer.sort(col.birth_day, descending=True, maintain_order=True)\n",
    "df.head(3)\n",
    "```\n",
    "若い順にするには、生年月日の降順にします。降順のときは、`descending=True`を指定します。\n",
    "</details>\n",
    "<br>\n",
    "\n",
    "**確認**"
   ]
  },
  {
   "cell_type": "code",
   "execution_count": null,
   "id": "d90a7ea2-d430-4a36-bff1-6507e25a8e3a",
   "metadata": {
    "deletable": false,
    "editable": false,
    "frozen": false,
    "jupyter": {
     "source_hidden": true
    }
   },
   "outputs": [],
   "source": [
    "# このセルを実行してください\n",
    "_ans = df_customer.sort(col.birth_day, descending=True, maintain_order=True)\n",
    "try:\n",
    "    assert _ans.equals(df)\n",
    "except (AssertionError, NameError):\n",
    "    print(\"\\x1b[31mNG\\x1b[39m\")\n",
    "    display(Markdown(\"**期待する結果**\"))\n",
    "    display(_ans.head(3))\n",
    "else:\n",
    "    print(\"\\x1b[32mOK\\x1b[39m\")"
   ]
  },
  {
   "cell_type": "markdown",
   "id": "3aed96cd-56ed-47a7-a7cb-4b2654368694",
   "metadata": {
    "deletable": true,
    "editable": true,
    "frozen": false
   },
   "source": [
    "---"
   ]
  },
  {
   "cell_type": "markdown",
   "id": "b5d09b51-497d-4556-80e9-e3239aab1bc2",
   "metadata": {
    "deletable": false,
    "editable": false,
    "frozen": true
   },
   "source": [
    "### `問題E14`\n",
    "\n",
    "レシート明細データ（`df_receipt`）の件数を変数`n`に入れてください。そして、`n`を表示してください。\n",
    "\n",
    "**解答欄**"
   ]
  },
  {
   "cell_type": "code",
   "execution_count": null,
   "id": "288c0b84-a742-4d8c-86ad-a517dcb24a9d",
   "metadata": {
    "deletable": true,
    "editable": true,
    "frozen": false
   },
   "outputs": [],
   "source": [
    "# ここから解答を作成してください\n"
   ]
  },
  {
   "cell_type": "markdown",
   "id": "76dfa0c5-8b3e-423e-ba20-352e7bebc708",
   "metadata": {
    "deletable": false,
    "editable": false,
    "frozen": true
   },
   "source": [
    "<details><summary>解答例</summary>\n",
    "<br>\n",
    "\n",
    "```python\n",
    "n = df_receipt.height\n",
    "n\n",
    "```\n",
    "<br>\n",
    "\n",
    "**別解**\n",
    "\n",
    "```python\n",
    "n = len(df_receipt)\n",
    "```\n",
    "</details>\n",
    "<br>\n",
    "\n",
    "**確認**"
   ]
  },
  {
   "cell_type": "code",
   "execution_count": null,
   "id": "0ecdd862-481c-4be4-8921-6d5bc83eb505",
   "metadata": {
    "deletable": false,
    "editable": false,
    "frozen": false,
    "jupyter": {
     "source_hidden": true
    }
   },
   "outputs": [],
   "source": [
    "# このセルを実行してください\n",
    "_ans = df_receipt.height\n",
    "try:\n",
    "    assert _ans == n\n",
    "except (AssertionError, NameError):\n",
    "    print(\"\\x1b[31mNG\\x1b[39m\")\n",
    "    display(Markdown(\"**期待する結果**\"))\n",
    "    display(_ans)\n",
    "else:\n",
    "    print(\"\\x1b[32mOK\\x1b[39m\")"
   ]
  },
  {
   "cell_type": "markdown",
   "id": "765da1a6-18c1-4555-b604-ae59d600ead0",
   "metadata": {
    "deletable": true,
    "editable": true,
    "frozen": false
   },
   "source": [
    "---"
   ]
  },
  {
   "cell_type": "markdown",
   "id": "39bd19f3-c8f9-4eca-b9b9-e99574ee81b1",
   "metadata": {
    "deletable": false,
    "editable": false,
    "frozen": true
   },
   "source": [
    "### `問題E16`\n",
    "\n",
    "レシート明細データ（`df_receipt`）の顧客ID（`customer_id`）のユニーク件数を変数`n`に入れてください。そして、`n`を表示してください。\n",
    "\n",
    "**解答欄**"
   ]
  },
  {
   "cell_type": "code",
   "execution_count": null,
   "id": "6bdc87b8-e470-4364-9c8e-9d26a648ef2f",
   "metadata": {
    "deletable": true,
    "editable": true,
    "frozen": false
   },
   "outputs": [],
   "source": [
    "# ここから解答を作成してください\n"
   ]
  },
  {
   "cell_type": "markdown",
   "id": "e35baebe-62e4-4af9-9760-3a5dec74191c",
   "metadata": {
    "deletable": false,
    "editable": false,
    "frozen": true
   },
   "source": [
    "<details><summary>解答例</summary>\n",
    "<br>\n",
    "\n",
    "```python\n",
    "n = df_receipt.n_unique(col.customer_id)\n",
    "n\n",
    "```\n",
    "<br>\n",
    "\n",
    "**別解**\n",
    "```python\n",
    "n = df_receipt.select(col.customer_id).n_unique()\n",
    "```\n",
    "</details>\n",
    "<br>\n",
    "\n",
    "**確認**"
   ]
  },
  {
   "cell_type": "code",
   "execution_count": null,
   "id": "1c8a96bf-8836-43be-8bbb-109b3319bc3f",
   "metadata": {
    "deletable": false,
    "editable": false,
    "frozen": false,
    "jupyter": {
     "source_hidden": true
    }
   },
   "outputs": [],
   "source": [
    "# このセルを実行してください\n",
    "_ans = df_receipt.n_unique(col.customer_id)\n",
    "try:\n",
    "    assert _ans == n\n",
    "except (AssertionError, NameError):\n",
    "    print(\"\\x1b[31mNG\\x1b[39m\")\n",
    "    display(Markdown(\"**期待する結果**\"))\n",
    "    display(_ans)\n",
    "else:\n",
    "    print(\"\\x1b[32mOK\\x1b[39m\")"
   ]
  },
  {
   "cell_type": "markdown",
   "id": "184ee3ea-51ce-46c6-8c19-5ce13b0c418d",
   "metadata": {
    "deletable": true,
    "editable": true,
    "frozen": false
   },
   "source": [
    "---"
   ]
  },
  {
   "cell_type": "markdown",
   "id": "ad05d0f8-d7b5-4ac1-a657-8c327ee61e39",
   "metadata": {
    "deletable": false,
    "editable": false,
    "frozen": true
   },
   "source": [
    "## グルーピングと集約\n",
    "\n",
    "DataFrameの列の値ごとにグルーピングして集約する場合は、次のようにします。\n",
    "\n",
    "```python\n",
    "df.group_by(キーとなる列).agg(集約する列)\n",
    "```\n",
    "\n",
    "たとえば、レシート明細データ（`df_receipt`）に対して、顧客ID（`customer_id`）ごとに売上金額（`amount`）を合計するには、次のようにします。\n",
    "\n",
    "```python\n",
    "df_receipt.group_by(col.customer_id).agg(col.amount.sum())\n",
    "```\n",
    "\n",
    "<div style=\"background: white;\"><small>shape: (8_307, 2)</small>\n",
    "<table border=\"1\" style=\"margin-left: 0;\"><thead>\n",
    "<thead><tr><th>customer_id</th><th>amount</th></tr>\n",
    "<tr><td>str</td><td>i64</td></tr>\n",
    "</thead><tbody>\n",
    "<tr><td>&quot;CS037315000083&quot;</td><td>328</td></tr>\n",
    "<tr><td>&quot;CS002515000236&quot;</td><td>328</td></tr>\n",
    "<tr><td>&quot;CS010415000132&quot;</td><td>5214</td></tr>\n",
    "<tr><td colspan=\"2\">以下略</td></tr>\n",
    "</tbody></table></div>\n",
    "\n",
    "**結果の行の順序**\n",
    "\n",
    "結果の行の順序は実行ごとに変わる可能性があります。順序が変わらないようにするには、`group_by()`に`maintain_order=True`をつけてください。\n",
    "\n",
    "グルーピング後にソートする場合でも、ソートのキーがユニークでなければ順序は保証されません。\n",
    "たとえば、次の3つの結果は異なる可能性があります。\n",
    "\n",
    "```python\n",
    "df_receipt.group_by(col.customer_id).agg(\n",
    "    col.amount.sum()\n",
    ").sort(col.amount)\n",
    "\n",
    "df_receipt.group_by(col.customer_id, maintain_order=True).agg(\n",
    "    col.amount.sum()\n",
    ").sort(col.amount)\n",
    "\n",
    "df_receipt.group_by(col.customer_id, maintain_order=True).agg(\n",
    "    col.amount.sum()\n",
    ").sort(col.amount, maintain_order=True)\n",
    "```\n",
    "\n",
    "※ 以降の問題では、**指定した場合は`maintain_order=True`をつけてください**。\n",
    "\n",
    "**複数指定**\n",
    "\n",
    "キーとなる列や集約する列は、それぞれ複数指定できます。\n",
    "\n",
    "たとえば次のようにすると、「顧客IDと店舗コード」ごとに「売上金額の合計と平均」を計算します。\n",
    "\n",
    "```python\n",
    "df_receipt.group_by(col.customer_id, col.store_cd, maintain_order=True).agg(\n",
    "    col.amount.sum(), amount_mean=col.amount.mean()\n",
    ")\n",
    "```\n",
    "\n",
    "<div style=\"background: white;\">\n",
    "<small>shape: (8_358, 4)</small>\n",
    "<table border=\"1\" style=\"margin-left: 0;\"><thead>\n",
    "<tr><th>customer_id</th><th>store_cd</th><th>amount</th><th>amount_mean</th></tr>\n",
    "<tr><td>str</td><td>str</td><td>i64</td><td>f64</td></tr>\n",
    "</thead><tbody>\n",
    "<tr><td>&quot;CS006214000001&quot;</td><td>&quot;S14006&quot;</td><td>7364</td><td>334.727273</td></tr>\n",
    "<tr><td>&quot;CS008415000097&quot;</td><td>&quot;S13008&quot;</td><td>1895</td><td>236.875</td></tr>\n",
    "<tr><td>&quot;CS028414000014&quot;</td><td>&quot;S14028&quot;</td><td>6222</td><td>345.666667</td></tr>\n",
    "<tr><td colspan=\"4\">以下略</td></tr>\n",
    "</tbody></table></div>\n",
    "\n",
    "**他の集約方法**\n",
    "\n",
    "列に指定する集約方法として次のようなメソッドがあります。\n",
    "\n",
    "* `sum()`: 合計\n",
    "* `mean()`: 平均\n",
    "* `var(ddof=1)`: 分散\n",
    "* `std(ddof=1)`: 標準偏差\n",
    "* `max()`: 最大\n",
    "* `min()`: 最小\n",
    "* `median()`: 中央値\n",
    "* `mode().mean()`: 最頻値\n",
    "* `quantile(quantile)`: パーセンタイル\n",
    "* `len()`: 要素数\n",
    "* `n_unique()`: ユニーク数\n",
    "\n",
    "※ `mode()`の結果はリストになるため、`mean()`で平均を取っています。\n"
   ]
  },
  {
   "cell_type": "markdown",
   "id": "1aff5866-fa56-4281-b569-1213a53bf61f",
   "metadata": {
    "deletable": true,
    "editable": true,
    "frozen": false
   },
   "source": [
    "---"
   ]
  },
  {
   "cell_type": "markdown",
   "id": "37f2c919-41a4-49e2-963c-62bc45ad7983",
   "metadata": {
    "deletable": false,
    "editable": false,
    "frozen": true
   },
   "source": [
    "### `問題F10`\n",
    "\n",
    "レシート明細データ（`df_receipt`）に対し、店舗コード（`store_cd`）ごとに売上金額（`amount`）と売上数量（`quantity`）を合計し、変数`df`に入れてください。そして、`df`の先頭の3行を表示してください。\n",
    "\n",
    "グルーピング時に`maintain_order=True`をつけてください。\n",
    "\n",
    "**解答欄**"
   ]
  },
  {
   "cell_type": "code",
   "execution_count": null,
   "id": "cfcc4a5f-abdf-4b04-8249-be9a0ec43e28",
   "metadata": {
    "deletable": true,
    "editable": true,
    "frozen": false
   },
   "outputs": [],
   "source": [
    "# ここから解答を作成してください\n"
   ]
  },
  {
   "cell_type": "markdown",
   "id": "ad57caa2-1ae5-4363-9c62-72dabbf1ed1d",
   "metadata": {
    "deletable": false,
    "editable": false,
    "frozen": true
   },
   "source": [
    "<details><summary>解答例</summary>\n",
    "<br>\n",
    "\n",
    "```python\n",
    "df = df_receipt.group_by(col.store_cd, maintain_order=True).agg(\n",
    "    col.amount.sum(), col.quantity.sum()\n",
    ")\n",
    "df.head(3)\n",
    "```\n",
    "</details>\n",
    "<br>\n",
    "\n",
    "**確認**"
   ]
  },
  {
   "cell_type": "code",
   "execution_count": null,
   "id": "9bea6f9f-d22e-42c6-a65f-ce0cd4b9740c",
   "metadata": {
    "deletable": false,
    "editable": false,
    "frozen": false,
    "jupyter": {
     "source_hidden": true
    }
   },
   "outputs": [],
   "source": [
    "# このセルを実行してください\n",
    "_ans = df_receipt.group_by(col.store_cd, maintain_order=True).agg(\n",
    "    col.amount.sum(), col.quantity.sum()\n",
    ")\n",
    "try:\n",
    "    assert _ans.equals(df)\n",
    "except (AssertionError, NameError):\n",
    "    print(\"\\x1b[31mNG\\x1b[39m\")\n",
    "    display(Markdown(\"**期待する結果**\"))\n",
    "    display(_ans.head(3))\n",
    "else:\n",
    "    print(\"\\x1b[32mOK\\x1b[39m\")"
   ]
  },
  {
   "cell_type": "markdown",
   "id": "d834475e-f751-4037-871d-53f0662fe903",
   "metadata": {
    "deletable": true,
    "editable": true,
    "frozen": false
   },
   "source": [
    "---"
   ]
  },
  {
   "cell_type": "markdown",
   "id": "7dd22416-b78a-4459-bc56-76e78d93138b",
   "metadata": {
    "deletable": false,
    "editable": false,
    "frozen": true
   },
   "source": [
    "### `問題F12`\n",
    "\n",
    "レシート明細データ（`df_receipt`）に対し、顧客ID（`customer_id`）ごとに最も新しい売上年月日（`sales_ymd`）を求め、変数`df`に入れてください。そして、`df`の先頭の3行を表示してください。\n",
    "\n",
    "グルーピング時に`maintain_order=True`をつけてください。\n",
    "\n",
    "**解答欄**"
   ]
  },
  {
   "cell_type": "code",
   "execution_count": null,
   "id": "7f655e11-a577-4b15-bf9c-45af1868c353",
   "metadata": {
    "deletable": true,
    "editable": true,
    "frozen": false
   },
   "outputs": [],
   "source": [
    "# ここから解答を作成してください\n"
   ]
  },
  {
   "cell_type": "markdown",
   "id": "e535f618-26f2-46de-90b2-8e426e220b4e",
   "metadata": {
    "deletable": false,
    "editable": false,
    "frozen": true
   },
   "source": [
    "<details><summary>解答例</summary>\n",
    "<br>\n",
    "\n",
    "```python\n",
    "df = df_receipt.group_by(col.customer_id, maintain_order=True).agg(\n",
    "    col.sales_ymd.max()\n",
    ")\n",
    "df.head(3)\n",
    "```\n",
    "</details>\n",
    "<br>\n",
    "\n",
    "**確認**"
   ]
  },
  {
   "cell_type": "code",
   "execution_count": null,
   "id": "dd64da0d-7b47-4b3d-b1c7-14672a2cdd5e",
   "metadata": {
    "deletable": false,
    "editable": false,
    "frozen": false,
    "jupyter": {
     "source_hidden": true
    }
   },
   "outputs": [],
   "source": [
    "# このセルを実行してください\n",
    "_ans = df_receipt.group_by(col.customer_id, maintain_order=True).agg(\n",
    "    col.sales_ymd.max()\n",
    ")\n",
    "try:\n",
    "    assert _ans.equals(df)\n",
    "except (AssertionError, NameError):\n",
    "    print(\"\\x1b[31mNG\\x1b[39m\")\n",
    "    display(Markdown(\"**期待する結果**\"))\n",
    "    display(_ans.head(3))\n",
    "else:\n",
    "    print(\"\\x1b[32mOK\\x1b[39m\")"
   ]
  },
  {
   "cell_type": "markdown",
   "id": "9b7090bf-2291-4f61-baf5-853fe22a10f3",
   "metadata": {
    "deletable": true,
    "editable": true,
    "frozen": false
   },
   "source": [
    "---"
   ]
  },
  {
   "cell_type": "markdown",
   "id": "46a10270-3db7-400f-a506-f1d9f9393716",
   "metadata": {
    "deletable": false,
    "editable": false,
    "frozen": true
   },
   "source": [
    "### `問題F14`\n",
    "\n",
    "レシート明細データ（`df_receipt`）に対し、顧客ID（`customer_id`）ごとに最も古い売上年月日（`sales_ymd`）を求め、変数`df`に入れてください。そして、`df`の先頭の3行を表示してください。\n",
    "\n",
    "グルーピング時に`maintain_order=True`をつけてください。\n",
    "\n",
    "**解答欄**"
   ]
  },
  {
   "cell_type": "code",
   "execution_count": null,
   "id": "9989fec5-744c-48a1-912c-0f27348d2c73",
   "metadata": {
    "deletable": true,
    "editable": true,
    "frozen": false
   },
   "outputs": [],
   "source": [
    "# ここから解答を作成してください\n"
   ]
  },
  {
   "cell_type": "markdown",
   "id": "13e752e0-e78b-4adf-95af-55b0b6f9598c",
   "metadata": {
    "deletable": false,
    "editable": false,
    "frozen": true
   },
   "source": [
    "<details><summary>解答例</summary>\n",
    "<br>\n",
    "\n",
    "```python\n",
    "df = df_receipt.group_by(col.customer_id, maintain_order=True).agg(\n",
    "    col.sales_ymd.min()\n",
    ")\n",
    "df.head(3)\n",
    "```\n",
    "</details>\n",
    "<br>\n",
    "\n",
    "**確認**"
   ]
  },
  {
   "cell_type": "code",
   "execution_count": null,
   "id": "6830e269-bebd-4ecb-975c-0576b1dc67de",
   "metadata": {
    "deletable": false,
    "editable": false,
    "frozen": false,
    "jupyter": {
     "source_hidden": true
    }
   },
   "outputs": [],
   "source": [
    "# このセルを実行してください\n",
    "_ans = df_receipt.group_by(col.customer_id, maintain_order=True).agg(\n",
    "    col.sales_ymd.min()\n",
    ")\n",
    "try:\n",
    "    assert _ans.equals(df)\n",
    "except (AssertionError, NameError):\n",
    "    print(\"\\x1b[31mNG\\x1b[39m\")\n",
    "    display(Markdown(\"**期待する結果**\"))\n",
    "    display(_ans.head(3))\n",
    "else:\n",
    "    print(\"\\x1b[32mOK\\x1b[39m\")"
   ]
  },
  {
   "cell_type": "markdown",
   "id": "abb37dc3-3e49-4222-a103-eff880e1b4df",
   "metadata": {
    "deletable": true,
    "editable": true,
    "frozen": false
   },
   "source": [
    "---"
   ]
  },
  {
   "cell_type": "markdown",
   "id": "26958e43-4b95-4d3d-9137-000a4b643e9c",
   "metadata": {
    "deletable": false,
    "editable": false,
    "frozen": true
   },
   "source": [
    "### `問題F16`\n",
    "\n",
    "レシート明細データ（`df_receipt`）に対し、店舗コード（`store_cd`）ごとに売上金額（`amount`）の平均を計算し降順でソートし、変数`df`に入れてください。そして、`df`の先頭の3行を表示してください。\n",
    "\n",
    "平均が一致することがあるため、グルーピング時に`maintain_order=True`をつけてください。\n",
    "また、ソート時にも`maintain_order=True`をつけてください。\n",
    "\n",
    "**解答欄**"
   ]
  },
  {
   "cell_type": "code",
   "execution_count": null,
   "id": "05b2fe32-04b7-48d8-8eee-b760acf89137",
   "metadata": {
    "deletable": true,
    "editable": true,
    "frozen": false
   },
   "outputs": [],
   "source": [
    "# ここから解答を作成してください\n"
   ]
  },
  {
   "cell_type": "markdown",
   "id": "9dc91b1d-cd43-4e16-a510-842e947f37d3",
   "metadata": {
    "deletable": false,
    "editable": false,
    "frozen": true
   },
   "source": [
    "<details><summary>解答例</summary>\n",
    "<br>\n",
    "\n",
    "```python\n",
    "df = (\n",
    "    df_receipt.group_by(col.store_cd, maintain_order=True)\n",
    "    .agg(col.amount.mean())\n",
    "    .sort(col.amount, descending=True, maintain_order=True)\n",
    ")\n",
    "df.head(3)\n",
    "```\n",
    "</details>\n",
    "<br>\n",
    "\n",
    "**確認**"
   ]
  },
  {
   "cell_type": "code",
   "execution_count": null,
   "id": "5a97af1f-41fa-485e-ba89-2ec22deb9ca8",
   "metadata": {
    "deletable": false,
    "editable": false,
    "frozen": false,
    "jupyter": {
     "source_hidden": true
    }
   },
   "outputs": [],
   "source": [
    "# このセルを実行してください\n",
    "_ans = (\n",
    "    df_receipt.group_by(col.store_cd, maintain_order=True)\n",
    "    .agg(col.amount.mean())\n",
    "    .sort(col.amount, descending=True, maintain_order=True)\n",
    ")\n",
    "try:\n",
    "    assert _ans.equals(df)\n",
    "except (AssertionError, NameError):\n",
    "    print(\"\\x1b[31mNG\\x1b[39m\")\n",
    "    display(Markdown(\"**期待する結果**\"))\n",
    "    display(_ans.head(3))\n",
    "else:\n",
    "    print(\"\\x1b[32mOK\\x1b[39m\")"
   ]
  },
  {
   "cell_type": "markdown",
   "id": "e58508f8-4339-4286-a9e2-99c053f17ad3",
   "metadata": {
    "deletable": true,
    "editable": true,
    "frozen": false
   },
   "source": [
    "---"
   ]
  },
  {
   "cell_type": "markdown",
   "id": "f68caf81-bdf9-4aab-826a-f1c64f4c8261",
   "metadata": {
    "deletable": false,
    "editable": false,
    "frozen": true
   },
   "source": [
    "### `問題F18`\n",
    "\n",
    "レシート明細データ（`df_receipt`）に対し、店舗コード（`store_cd`）ごとに売上金額（`amount`）の中央値を計算し降順でソートし、変数`df`に入れてください。そして、`df`の先頭の3行を表示してください。\n",
    "\n",
    "グルーピング時とソート時に`maintain_order=True`をつけてください。\n",
    "\n",
    "**解答欄**"
   ]
  },
  {
   "cell_type": "code",
   "execution_count": null,
   "id": "664702f7-7e74-44fb-83bc-9bccf1fc2497",
   "metadata": {
    "deletable": true,
    "editable": true,
    "frozen": false
   },
   "outputs": [],
   "source": [
    "# ここから解答を作成してください\n"
   ]
  },
  {
   "cell_type": "markdown",
   "id": "22c0cf72-cb92-4c4d-90e1-30127a4d02ba",
   "metadata": {
    "deletable": false,
    "editable": false,
    "frozen": true
   },
   "source": [
    "<details><summary>解答例</summary>\n",
    "<br>\n",
    "\n",
    "```python\n",
    "df = (\n",
    "    df_receipt.group_by(col.store_cd, maintain_order=True)\n",
    "    .agg(col.amount.median())\n",
    "    .sort(col.amount, descending=True, maintain_order=True)\n",
    ")\n",
    "df.head(3)\n",
    "```\n",
    "</details>\n",
    "<br>\n",
    "\n",
    "**確認**"
   ]
  },
  {
   "cell_type": "code",
   "execution_count": null,
   "id": "61702fd3-6158-4db6-a337-6a78de9b1b7a",
   "metadata": {
    "deletable": false,
    "editable": false,
    "frozen": false,
    "jupyter": {
     "source_hidden": true
    }
   },
   "outputs": [],
   "source": [
    "# このセルを実行してください\n",
    "_ans = (\n",
    "    df_receipt.group_by(col.store_cd, maintain_order=True)\n",
    "    .agg(col.amount.median())\n",
    "    .sort(col.amount, descending=True, maintain_order=True)\n",
    ")\n",
    "try:\n",
    "    assert _ans.equals(df)\n",
    "except (AssertionError, NameError):\n",
    "    print(\"\\x1b[31mNG\\x1b[39m\")\n",
    "    display(Markdown(\"**期待する結果**\"))\n",
    "    display(_ans.head(3))\n",
    "else:\n",
    "    print(\"\\x1b[32mOK\\x1b[39m\")"
   ]
  },
  {
   "cell_type": "markdown",
   "id": "342f2771-a1cf-426b-b717-cda66231af1b",
   "metadata": {
    "deletable": true,
    "editable": true,
    "frozen": false
   },
   "source": [
    "---"
   ]
  },
  {
   "cell_type": "markdown",
   "id": "91a89042-7be7-4553-8ce0-385692449af3",
   "metadata": {
    "deletable": false,
    "editable": false,
    "frozen": true
   },
   "source": [
    "### `問題F20`\n",
    "\n",
    "レシート明細データ（`df_receipt`）に対し、店舗コード（`store_cd`）ごとに売上金額（`amount`）の最頻値を求め、変数`df`に入れてください。そして、`df`の先頭の3行を表示してください。\n",
    "\n",
    "グルーピング時とソート時に`maintain_order=True`をつけてください。\n",
    "\n",
    "**解答欄**"
   ]
  },
  {
   "cell_type": "code",
   "execution_count": null,
   "id": "289b02f5-f465-4142-9289-ccc715ba6747",
   "metadata": {
    "deletable": true,
    "editable": true,
    "frozen": false
   },
   "outputs": [],
   "source": [
    "# ここから解答を作成してください\n"
   ]
  },
  {
   "cell_type": "markdown",
   "id": "cf08ad8c-6e1b-4b6c-a840-9fe488dc38d6",
   "metadata": {
    "deletable": false,
    "editable": false,
    "frozen": true
   },
   "source": [
    "<details><summary>解答例</summary>\n",
    "<br>\n",
    "\n",
    "```python\n",
    "df = (\n",
    "    df_receipt.group_by(col.store_cd, maintain_order=True)\n",
    "    .agg(col.amount.mode().mean())\n",
    "    .sort(col.amount, descending=True, maintain_order=True)\n",
    ")\n",
    "df\n",
    "```\n",
    "最頻値で集約するときは、`mode().mean()`を使いましょう。\n",
    "</details>\n",
    "<br>\n",
    "\n",
    "**確認**"
   ]
  },
  {
   "cell_type": "code",
   "execution_count": null,
   "id": "20ea4850-c351-48d7-92dc-5a591d278c81",
   "metadata": {
    "deletable": false,
    "editable": false,
    "frozen": false,
    "jupyter": {
     "source_hidden": true
    }
   },
   "outputs": [],
   "source": [
    "# このセルを実行してください\n",
    "_ans = (\n",
    "    df_receipt.group_by(col.store_cd, maintain_order=True)\n",
    "    .agg(col.amount.mode().mean())\n",
    "    .sort(col.amount, descending=True, maintain_order=True)\n",
    ")\n",
    "try:\n",
    "    assert _ans.equals(df)\n",
    "except (AssertionError, NameError):\n",
    "    print(\"\\x1b[31mNG\\x1b[39m\")\n",
    "    display(Markdown(\"**期待する結果**\"))\n",
    "    display(_ans.head(3))\n",
    "else:\n",
    "    print(\"\\x1b[32mOK\\x1b[39m\")"
   ]
  },
  {
   "cell_type": "markdown",
   "id": "958dcfa0-8283-4b12-9bbc-29fa44d090fa",
   "metadata": {
    "deletable": true,
    "editable": true,
    "frozen": false
   },
   "source": [
    "---"
   ]
  },
  {
   "cell_type": "markdown",
   "id": "c450c895-82ae-4d6d-9a1f-bb63eb1e15f2",
   "metadata": {
    "deletable": false,
    "editable": false,
    "frozen": true
   },
   "source": [
    "### `問題F22`\n",
    "\n",
    "レシート明細データ（`df_receipt`）に対し、店舗コード（`store_cd`）ごとに売上金額（`amount`）の分散を計算し降順でソートし、変数`df`に入れてください。そして、`df`の先頭の3行を表示してください。\n",
    "\n",
    "`var()`の第1引数`ddof`はデフォルト値（`1`）のままにしてください。\n",
    "\n",
    "**解答欄**"
   ]
  },
  {
   "cell_type": "code",
   "execution_count": null,
   "id": "961d530c-b986-4aed-822f-308cfb89de71",
   "metadata": {
    "deletable": true,
    "editable": true,
    "frozen": false
   },
   "outputs": [],
   "source": [
    "# ここから解答を作成してください\n"
   ]
  },
  {
   "cell_type": "markdown",
   "id": "b639f002-a144-46e2-97fb-6377e6b5ea91",
   "metadata": {
    "deletable": false,
    "editable": false,
    "frozen": true
   },
   "source": [
    "<details><summary>解答例</summary>\n",
    "<br>\n",
    "\n",
    "```python\n",
    "df = df_receipt.group_by(col.store_cd).agg(col.amount.var()).sort(\n",
    "    col.amount, descending=True\n",
    ")\n",
    "df.head(3)\n",
    "```\n",
    "</details>\n",
    "<br>\n",
    "\n",
    "**確認**"
   ]
  },
  {
   "cell_type": "code",
   "execution_count": null,
   "id": "5b500159-3f12-4d92-b173-f55328e0912a",
   "metadata": {
    "deletable": false,
    "editable": false,
    "frozen": false,
    "jupyter": {
     "source_hidden": true
    }
   },
   "outputs": [],
   "source": [
    "# このセルを実行してください\n",
    "_ans = df_receipt.group_by(col.store_cd).agg(col.amount.var()).sort(\n",
    "    col.amount, descending=True\n",
    ")\n",
    "try:\n",
    "    assert _ans.equals(df)\n",
    "except (AssertionError, NameError):\n",
    "    print(\"\\x1b[31mNG\\x1b[39m\")\n",
    "    display(Markdown(\"**期待する結果**\"))\n",
    "    display(_ans.head(3))\n",
    "else:\n",
    "    print(\"\\x1b[32mOK\\x1b[39m\")"
   ]
  },
  {
   "cell_type": "markdown",
   "id": "636944c1-5846-4376-9fcb-ee2c2036f70e",
   "metadata": {
    "deletable": true,
    "editable": true,
    "frozen": false
   },
   "source": [
    "---"
   ]
  },
  {
   "cell_type": "markdown",
   "id": "4da58359-5fa0-4ca4-8280-882e31cae185",
   "metadata": {
    "deletable": false,
    "editable": false,
    "frozen": true
   },
   "source": [
    "### `問題F24`\n",
    "\n",
    "レシート明細データ（`df_receipt`）に対し、店舗コード（`store_cd`）ごとに売上金額（`amount`）の第1四分位を求め、変数`df`に入れてください。そして、`df`の先頭の3行を表示してください。\n",
    "\n",
    "グルーピング時に`maintain_order=True`をつけてください。\n",
    "\n",
    "**解答欄**"
   ]
  },
  {
   "cell_type": "code",
   "execution_count": null,
   "id": "12da542c-8a37-4fb7-97d3-74866eace544",
   "metadata": {
    "deletable": true,
    "editable": true,
    "frozen": false
   },
   "outputs": [],
   "source": [
    "# ここから解答を作成してください\n"
   ]
  },
  {
   "cell_type": "markdown",
   "id": "7936dc89-206f-4ffe-95ab-6a7a2361c8a4",
   "metadata": {
    "deletable": false,
    "editable": false,
    "frozen": true
   },
   "source": [
    "<details><summary>解答例</summary>\n",
    "<br>\n",
    "\n",
    "```python\n",
    "df = df_receipt.group_by(col.store_cd, maintain_order=True).agg(\n",
    "    col.amount.quantile(0.25)\n",
    ")\n",
    "df.head(3)\n",
    "```\n",
    "第1四分位は、25パーセンタイルです。\n",
    "</details>\n",
    "<br>\n",
    "\n",
    "**確認**"
   ]
  },
  {
   "cell_type": "code",
   "execution_count": null,
   "id": "8b984beb-49cd-454b-8422-bd8bf62fe3f8",
   "metadata": {
    "deletable": false,
    "editable": false,
    "frozen": false,
    "jupyter": {
     "source_hidden": true
    }
   },
   "outputs": [],
   "source": [
    "# このセルを実行してください\n",
    "_ans = df_receipt.group_by(col.store_cd, maintain_order=True).agg(\n",
    "    col.amount.quantile(0.25)\n",
    ")\n",
    "try:\n",
    "    assert _ans.equals(df)\n",
    "except (AssertionError, NameError):\n",
    "    print(\"\\x1b[31mNG\\x1b[39m\")\n",
    "    display(Markdown(\"**期待する結果**\"))\n",
    "    display(_ans.head(3))\n",
    "else:\n",
    "    print(\"\\x1b[32mOK\\x1b[39m\")"
   ]
  },
  {
   "cell_type": "markdown",
   "id": "3979e234-0c1b-4bd1-9f95-5051ca156fd6",
   "metadata": {
    "deletable": true,
    "editable": true,
    "frozen": false
   },
   "source": [
    "---"
   ]
  },
  {
   "cell_type": "markdown",
   "id": "3a88b0c2-73c8-4bf7-b0a3-8ac1c8867c38",
   "metadata": {
    "deletable": false,
    "editable": false,
    "frozen": true
   },
   "source": [
    "## DataFrameの結合\n",
    "\n",
    "2つのDataFrameを結合するには、次のようにします。\n",
    "\n",
    "```python\n",
    "df1.join(df2, on=キーとなる列)\n",
    "```\n",
    "\n",
    "`on`の列は、どちらのDataFrameにも含まれていないといけません。また、`on`には複数の列を指定できます。\n",
    "\n",
    "もし、別名の列をキーにしたい場合は、`left_on`と`right_on`を使います。\n",
    "\n",
    "**結合方法**\n",
    "\n",
    "`how`で結合方法を次の中から指定できます。\n",
    "\n",
    "| `how`     | 名称         | 対象行              | 対象列 |\n",
    "| :-------- | :----------- | :------------------ | :----- |\n",
    "| `\"inner\"` | 内部結合     | 積集合              | 和集合 |\n",
    "| `\"left\"`  | 左外部結合   | 左                  | 和集合 |\n",
    "| `\"right\"` | 右外部結合   | 右                  | 和集合 |\n",
    "| `\"full\"`  | 完全外部結合 | 和集合              | 和集合 |\n",
    "| `\"semi\"`  | セミ結合     | 積集合              | 左     |\n",
    "| `\"anti\"`  | アンチ結合   | 差集合（`左 - 右`） | 左     |\n",
    "| `\"cross\"` | クロス結合   | 直積                | 和集合 |\n",
    "\n",
    "デフォルトは`\"inner\"`です。`\"inner\"`、`\"left\"`、`\"full\"`、`\"cross\"`は覚えておきましょう。\n",
    "\n",
    "`\"cross\"`以外は、`on`（または`left_on`と`right_on`）が必要です。\n",
    "\n",
    "**`concat`**\n",
    "\n",
    "複数のDataFrameを結合するには、次のようにします。\n",
    "\n",
    "```python\n",
    "pl.concat([df1, df2, ...])\n",
    "```\n",
    "`how`で結合方法を次の中から指定できます。\n",
    "\n",
    "デフォルトは`vertical`で縦に結合します。`horizontal`で横に結合します。列名が異なる場合は、`diagonal`で結合できます。\n"
   ]
  },
  {
   "cell_type": "markdown",
   "id": "ad5f068e-b2f7-4eff-8360-7e4c61eebd8e",
   "metadata": {
    "deletable": true,
    "editable": true,
    "frozen": false
   },
   "source": [
    "---"
   ]
  },
  {
   "cell_type": "markdown",
   "id": "9a188e2b-a46d-4e84-9804-ad087e896990",
   "metadata": {
    "deletable": false,
    "editable": false,
    "frozen": true
   },
   "source": [
    "### `問題G10`\n",
    "\n",
    "レシート明細データ（`df_receipt`）と店舗データ（`df_store`）を次の条件で内部結合し、変数`df`に入れてください。そして、`df`の先頭の3行を表示してください。\n",
    "\n",
    "* キーは、店舗コード（`store_cd`）\n",
    "* レシート明細データは全列\n",
    "* 店舗データは全列\n",
    "\n",
    "**解答欄**"
   ]
  },
  {
   "cell_type": "code",
   "execution_count": null,
   "id": "58421f8a-fddb-4f1a-b567-a2abcc558b50",
   "metadata": {
    "deletable": true,
    "editable": true,
    "frozen": false
   },
   "outputs": [],
   "source": [
    "# ここから解答を作成してください\n"
   ]
  },
  {
   "cell_type": "markdown",
   "id": "151ef00b-84ff-4d95-9f25-097d3edad6ba",
   "metadata": {
    "deletable": false,
    "editable": false,
    "frozen": true
   },
   "source": [
    "<details><summary>解答例</summary>\n",
    "<br>\n",
    "\n",
    "```python\n",
    "df = df_receipt.join(df_store, on=col.store_cd)\n",
    "df.head(3)\n",
    "```\n",
    "</details>\n",
    "<br>\n",
    "\n",
    "**確認**"
   ]
  },
  {
   "cell_type": "code",
   "execution_count": null,
   "id": "fe95f064-55fa-4bac-b342-f78de4a2161a",
   "metadata": {
    "deletable": false,
    "editable": false,
    "frozen": false,
    "jupyter": {
     "source_hidden": true
    }
   },
   "outputs": [],
   "source": [
    "# このセルを実行してください\n",
    "_ans = df_receipt.join(df_store, on=col.store_cd)\n",
    "try:\n",
    "    assert _ans.equals(df)\n",
    "except (AssertionError, NameError):\n",
    "    print(\"\\x1b[31mNG\\x1b[39m\")\n",
    "    display(Markdown(\"**期待する結果**\"))\n",
    "    display(_ans.head(3))\n",
    "else:\n",
    "    print(\"\\x1b[32mOK\\x1b[39m\")"
   ]
  },
  {
   "cell_type": "markdown",
   "id": "b052fe72-ce5d-4151-bc43-c92bb78c5f44",
   "metadata": {
    "deletable": true,
    "editable": true,
    "frozen": false
   },
   "source": [
    "---"
   ]
  },
  {
   "cell_type": "markdown",
   "id": "fa234839-3abf-4599-99fc-be8160f8bbe5",
   "metadata": {
    "deletable": false,
    "editable": false,
    "frozen": true
   },
   "source": [
    "### `問題G12`\n",
    "\n",
    "商品データ（`df_product`）とカテゴリデータ（`df_category`）を次の条件で内部結合し、変数`df`に入れてください。そして、`df`の先頭の3行を表示してください。\n",
    "\n",
    "* キーは、カテゴリ小区分コード（`category_small_cd`）\n",
    "* 商品データは全列\n",
    "* カテゴリデータは、カテゴリ小区分コードとカテゴリ小区分名（`category_small_name`）のみ\n",
    "\n",
    "**解答欄**"
   ]
  },
  {
   "cell_type": "code",
   "execution_count": null,
   "id": "02ff93fb-e20d-4914-a258-10985a8e84eb",
   "metadata": {
    "deletable": true,
    "editable": true,
    "frozen": false
   },
   "outputs": [],
   "source": [
    "# ここから解答を作成してください\n"
   ]
  },
  {
   "cell_type": "markdown",
   "id": "e69a0883-e91c-4caa-864a-1b582f733f67",
   "metadata": {
    "deletable": false,
    "editable": false,
    "frozen": true
   },
   "source": [
    "<details><summary>解答例</summary>\n",
    "<br>\n",
    "\n",
    "```python\n",
    "df = df_product.join(\n",
    "    df_category.select(col.category_small_cd, col.category_small_name),\n",
    "    on=col.category_small_cd,\n",
    ")\n",
    "df.head(3)\n",
    "```\n",
    "</details>\n",
    "<br>\n",
    "\n",
    "**確認**"
   ]
  },
  {
   "cell_type": "code",
   "execution_count": null,
   "id": "9dfaaaed-210f-4008-a5df-2469227e5fd4",
   "metadata": {
    "deletable": false,
    "editable": false,
    "frozen": false,
    "jupyter": {
     "source_hidden": true
    }
   },
   "outputs": [],
   "source": [
    "# このセルを実行してください\n",
    "_ans = df_product.join(\n",
    "    df_category.select(col.category_small_cd, col.category_small_name),\n",
    "    on=col.category_small_cd,\n",
    ")\n",
    "try:\n",
    "    assert _ans.equals(df)\n",
    "except (AssertionError, NameError):\n",
    "    print(\"\\x1b[31mNG\\x1b[39m\")\n",
    "    display(Markdown(\"**期待する結果**\"))\n",
    "    display(_ans.head(3))\n",
    "else:\n",
    "    print(\"\\x1b[32mOK\\x1b[39m\")"
   ]
  },
  {
   "cell_type": "markdown",
   "id": "6e58ef11-ed7a-4de7-afc3-5bfa06b7d62d",
   "metadata": {
    "deletable": true,
    "editable": true,
    "frozen": false
   },
   "source": [
    "---"
   ]
  },
  {
   "cell_type": "markdown",
   "id": "fa82d1ea-1793-4fba-88dd-9ca9f06c9af9",
   "metadata": {
    "deletable": false,
    "editable": false,
    "frozen": true
   },
   "source": [
    "### `問題G14`\n",
    "\n",
    "全ての店舗と全ての商品を組み合わせたデータを作成したい。店舗データ（`df_store`）と商品データ（`df_product`）を直積し、件数を変数`n`に入れてください。そして、`n`を表示してください。\n",
    "\n",
    "**解答欄**"
   ]
  },
  {
   "cell_type": "code",
   "execution_count": null,
   "id": "5163220c-4708-4a4e-9e56-d85713cbe427",
   "metadata": {
    "deletable": true,
    "editable": true,
    "frozen": false
   },
   "outputs": [],
   "source": [
    "# ここから解答を作成してください\n"
   ]
  },
  {
   "cell_type": "markdown",
   "id": "092fd99e-a4fd-4d71-a59a-f3ad483389d5",
   "metadata": {
    "deletable": false,
    "editable": false,
    "frozen": true
   },
   "source": [
    "<details><summary>解答例</summary>\n",
    "<br>\n",
    "\n",
    "```python\n",
    "n = df_store.join(df_product, how=\"cross\").height\n",
    "n\n",
    "```\n",
    "</details>\n",
    "<br>\n",
    "\n",
    "**確認**"
   ]
  },
  {
   "cell_type": "code",
   "execution_count": null,
   "id": "6e5630e3-443b-40a5-9423-70f46bf57201",
   "metadata": {
    "deletable": false,
    "editable": false,
    "frozen": false,
    "jupyter": {
     "source_hidden": true
    }
   },
   "outputs": [],
   "source": [
    "# このセルを実行してください\n",
    "_ans = df_store.join(df_product, how=\"cross\").height\n",
    "try:\n",
    "    assert _ans == n\n",
    "except (AssertionError, NameError):\n",
    "    print(\"\\x1b[31mNG\\x1b[39m\")\n",
    "    display(Markdown(\"**期待する結果**\"))\n",
    "    display(_ans)\n",
    "else:\n",
    "    print(\"\\x1b[32mOK\\x1b[39m\")"
   ]
  },
  {
   "cell_type": "markdown",
   "id": "cff6c5ab-d4eb-4cfb-b1af-f05e78639107",
   "metadata": {
    "deletable": true,
    "editable": true,
    "frozen": false
   },
   "source": [
    "---"
   ]
  },
  {
   "cell_type": "markdown",
   "id": "31b83f6c-94c9-4f94-b242-190b2dd08653",
   "metadata": {
    "deletable": false,
    "editable": false,
    "frozen": true
   },
   "source": [
    "### `問題G16`\n",
    "\n",
    "レシート明細データ（`df_receipt`）と顧客データ（`df_customer`）を次の条件で内部結合し、変数`df`に入れてください。そして、`df`の先頭の3行を表示してください。\n",
    "\n",
    "* キーは、顧客ID（`customer_id`）\n",
    "* レシート明細データは全列\n",
    "* 顧客データは、顧客IDと顧客名（`customer_name`）のみ\n",
    "\n",
    "**解答欄**"
   ]
  },
  {
   "cell_type": "code",
   "execution_count": null,
   "id": "18a20d0e-211d-4a61-aba6-e70f7e0eba0b",
   "metadata": {
    "deletable": true,
    "editable": true,
    "frozen": false
   },
   "outputs": [],
   "source": [
    "# ここから解答を作成してください\n"
   ]
  },
  {
   "cell_type": "markdown",
   "id": "fcfc924d-e7cc-400e-8ce8-41385d04b874",
   "metadata": {
    "deletable": false,
    "editable": false,
    "frozen": true
   },
   "source": [
    "<details><summary>解答例</summary>\n",
    "<br>\n",
    "\n",
    "```python\n",
    "df = df_receipt.join(\n",
    "    df_customer.select(col.customer_id, col.customer_name), on=col.customer_id\n",
    ")\n",
    "df.head(3)\n",
    "```\n",
    "</details>\n",
    "<br>\n",
    "\n",
    "**確認**"
   ]
  },
  {
   "cell_type": "code",
   "execution_count": null,
   "id": "a06a2d91-9379-453d-9341-53c61612106d",
   "metadata": {
    "deletable": false,
    "editable": false,
    "frozen": false,
    "jupyter": {
     "source_hidden": true
    }
   },
   "outputs": [],
   "source": [
    "# このセルを実行してください\n",
    "_ans = df_receipt.join(\n",
    "    df_customer.select(col.customer_id, col.customer_name), on=col.customer_id\n",
    ")\n",
    "try:\n",
    "    assert _ans.equals(df)\n",
    "except (AssertionError, NameError):\n",
    "    print(\"\\x1b[31mNG\\x1b[39m\")\n",
    "    display(Markdown(\"**期待する結果**\"))\n",
    "    display(_ans.head(3))\n",
    "else:\n",
    "    print(\"\\x1b[32mOK\\x1b[39m\")"
   ]
  },
  {
   "cell_type": "markdown",
   "id": "5b9ad877-8dc0-48da-bd9d-6c127a54ccca",
   "metadata": {
    "deletable": true,
    "editable": true,
    "frozen": false
   },
   "source": [
    "---"
   ]
  },
  {
   "cell_type": "markdown",
   "id": "0176b491-1df4-40ec-872e-49dfbd8bb255",
   "metadata": {
    "deletable": false,
    "editable": false,
    "frozen": true
   },
   "source": [
    "### `問題G18`\n",
    "\n",
    "顧客データ（`df_customer`）から次の要件で作成し、変数`df`に入れてください。そして、`df`の先頭の3行を表示してください。\n",
    "\n",
    "* 以下の条件で作成したジオコードデータ（`df_geocode`）と、郵便番号（`postal_cd`）をキーとして結合すること\n",
    "  * 郵便番号（`postal_cd`）ごとに以下を集約すること\n",
    "    * 経度（longitude）の平均\n",
    "    * 緯度（latitude）の平均\n",
    "    * `maintain_order=True`をつけること\n",
    "\n",
    "**解答欄**"
   ]
  },
  {
   "cell_type": "code",
   "execution_count": null,
   "id": "cc8f5957-296f-42ae-9b74-c127878a77bc",
   "metadata": {
    "deletable": true,
    "editable": true,
    "frozen": false
   },
   "outputs": [],
   "source": [
    "# ここから解答を作成してください\n"
   ]
  },
  {
   "cell_type": "markdown",
   "id": "7988a3c9-bccd-45ee-b014-de984fd6c545",
   "metadata": {
    "deletable": false,
    "editable": false,
    "frozen": true
   },
   "source": [
    "<details><summary>解答例</summary>\n",
    "<br>\n",
    "\n",
    "```python\n",
    "df = df_customer.join(\n",
    "    df_geocode.group_by(col.postal_cd, maintain_order=True).agg(\n",
    "        col.longitude.mean(), col.latitude.mean()\n",
    "    ),\n",
    "    on=col.postal_cd,\n",
    ")\n",
    "df.head(3)\n",
    "```\n",
    "</details>\n",
    "<br>\n",
    "\n",
    "**確認**"
   ]
  },
  {
   "cell_type": "code",
   "execution_count": null,
   "id": "f43e7ad9-5d6a-469b-a4df-54734fbdc90e",
   "metadata": {
    "deletable": false,
    "editable": false,
    "frozen": false,
    "jupyter": {
     "source_hidden": true
    }
   },
   "outputs": [],
   "source": [
    "# このセルを実行してください\n",
    "_ans = df_customer.join(\n",
    "    df_geocode.group_by(col.postal_cd, maintain_order=True).agg(\n",
    "        col.longitude.mean(), col.latitude.mean()\n",
    "    ),\n",
    "    on=col.postal_cd,\n",
    ")\n",
    "try:\n",
    "    assert _ans.equals(df)\n",
    "except (AssertionError, NameError):\n",
    "    print(\"\\x1b[31mNG\\x1b[39m\")\n",
    "    display(Markdown(\"**期待する結果**\"))\n",
    "    display(_ans.head(3))\n",
    "else:\n",
    "    print(\"\\x1b[32mOK\\x1b[39m\")"
   ]
  },
  {
   "cell_type": "markdown",
   "id": "9354a9bc-7352-4c70-b10e-017ad09196c7",
   "metadata": {
    "deletable": true,
    "editable": true,
    "frozen": false
   },
   "source": [
    "---"
   ]
  },
  {
   "cell_type": "markdown",
   "id": "2d3b9da8-3ae7-4bd7-b48e-2e1070275042",
   "metadata": {
    "deletable": false,
    "editable": false,
    "frozen": true
   },
   "source": [
    "### `問題G20`\n",
    "\n",
    "商品データ（`df_product`）の先頭2行と末尾2行を結合し、変数`df`に入れてください。そして、`df`を表示してください。\n",
    "\n",
    "**解答欄**"
   ]
  },
  {
   "cell_type": "code",
   "execution_count": null,
   "id": "396de080-e1be-412a-8e7c-0207b5c1d1cc",
   "metadata": {
    "deletable": true,
    "editable": true,
    "frozen": false
   },
   "outputs": [],
   "source": [
    "# ここから解答を作成してください\n"
   ]
  },
  {
   "cell_type": "markdown",
   "id": "aabd310a-b00f-4a34-8c9a-7123e6a5dbdc",
   "metadata": {
    "deletable": false,
    "editable": false,
    "frozen": true
   },
   "source": [
    "<details><summary>解答例</summary>\n",
    "<br>\n",
    "\n",
    "```python\n",
    "df = pl.concat([df_product.head(2), df_product.tail(2)])\n",
    "df\n",
    "```\n",
    "</details>\n",
    "<br>\n",
    "\n",
    "**確認**"
   ]
  },
  {
   "cell_type": "code",
   "execution_count": null,
   "id": "a9615641-416f-454e-aab4-b4d26d9869fe",
   "metadata": {
    "deletable": false,
    "editable": false,
    "frozen": false,
    "jupyter": {
     "source_hidden": true
    }
   },
   "outputs": [],
   "source": [
    "# このセルを実行してください\n",
    "_ans = pl.concat([df_product.head(2), df_product.tail(2)])\n",
    "try:\n",
    "    assert _ans.equals(df)\n",
    "except (AssertionError, NameError):\n",
    "    print(\"\\x1b[31mNG\\x1b[39m\")\n",
    "    display(Markdown(\"**期待する結果**\"))\n",
    "    display(_ans)\n",
    "else:\n",
    "    print(\"\\x1b[32mOK\\x1b[39m\")"
   ]
  },
  {
   "cell_type": "markdown",
   "id": "70c268f1-2ffb-49e5-a293-95a3389d603c",
   "metadata": {
    "deletable": true,
    "editable": true,
    "frozen": false
   },
   "source": [
    "---"
   ]
  },
  {
   "cell_type": "markdown",
   "id": "77aedd16-bb2d-4a4f-933d-dffff6176a6f",
   "metadata": {
    "deletable": false,
    "editable": false,
    "frozen": true
   },
   "source": [
    "## 時間に関連するデータの作成方法\n",
    "\n",
    "時間の型は、pl.Datetime（日時）, pl.Date（日付）, pl.Time（時刻）, pl.Duration（時間間隔）があります。\n",
    "これらは、**`dt`属性**を通して時間関連のメソッドが使えます。\n",
    "また、関連するデータとして、pl.Utf8（文字列）、エポック（整数）、総秒数（整数）があります。\n",
    "エポック（UNIX時間ともいいます）は、1970年1月1日からの形式的な経過時間です。単位は、秒やマイクロ秒などです。\n",
    "\n",
    "**構成要素から作成**\n",
    "\n",
    "`pl.datetime()`、`pl.date()`、`pl.time()`、`pl.duration()`に年月日時分秒などを指定して作成できます。\n",
    "\n",
    "**CSVファイルから読み込み時に変換**\n",
    "\n",
    "`pl.read_csv()`で、`schema`や`schema_overrides`を指定することで、CSVファイルからの読み込み時に日時、日付、時刻に変換できます。\n",
    "\n",
    "**他のデータから作成**\n",
    "\n",
    "他のデータから作成するには、次表などのようにできます。\n",
    "\n",
    "| 作成するデータ | 変換元             | 方法                                             |\n",
    "| :------------- | :----------------- | :----------------------------------------------- |\n",
    "| `pl.Datetime`  | 文字列             | `str.to_datetime(書式)`                          |\n",
    "| `pl.Datetime`  | エポックマイクロ秒 | `cast(pl.Datetime)`                              |\n",
    "| `pl.Datetime`  | エポック秒         | `pl.from_epoch()`                                |\n",
    "| `pl.Datetime`  | 日時や日付と時刻   | `dt.combine(時刻)`                               |\n",
    "| `pl.Datetime`  | 日時と時間間隔     | 日時 + 時間間隔など                              |\n",
    "| `pl.Date`      | 文字列             | `str.to_date(書式)`                              |\n",
    "| `pl.Date`      | 日時               | `dt.date()`                                      |\n",
    "| `pl.Date`      | 日付と時間間隔     | 日付 + 時間間隔など                              |\n",
    "| `pl.Time`      | 文字列             | `str.to_time(書式)`                              |\n",
    "| `pl.Time`      | 日時               | `dt.time()`                                      |\n",
    "| `pl.Duration`  | 日時や日付         | 日時 - 日時、日付 - 日付<br>日時 - 日付など      |\n",
    "| `pl.Duration`  | 時間間隔と時間間隔 | 時間間隔 + 時間間隔など                          |\n",
    "| `pl.Duration`  | 時刻               | `cast(pl.Duration)`                              |\n",
    "| `pl.Duration`  | 総マイクロ秒数     | `cast(pl.Duration)`                              |\n",
    "| `pl.Utf8`      | 日時や日付や時刻   | `dt.to_string(書式)`                             |\n",
    "| `エポック`     | 日時や日付         | `dt.epoch(単位)`<br>単位のデフォルトはマイクロ秒 |\n",
    "| `総秒数`       | 時間間隔           | `dt.total_seconds()`                             |\n",
    "\n",
    "**to_stringで使える書式**\n",
    "\n",
    "https://docs.rs/chrono/latest/chrono/format/strftime/index.html\n",
    "\n",
    "**指定した範囲のデータの作成**\n",
    "\n",
    "指定した範囲のデータを作成するには、次のようにします。\n",
    "\n",
    "| 作成するデータ     | 方法                  |\n",
    "| :----------------- | :-------------------- |\n",
    "| 指定した範囲の日時 | `pl.datetime_range()` |\n",
    "| 指定した範囲の日付 | `pl.date_range()`     |\n",
    "| 指定した範囲の時刻 | `pl.time_range()`     |\n",
    "\n",
    "**タイムゾーンに関する変換**\n",
    "\n",
    "基本的なタイムゾーンあり（aware）とタイムゾーンなし（naive）の変換は次のようになります。\n",
    "\n",
    "* 同じタイムゾーン間で日時の変換は、時刻の値を変えずタイムゾーンのみを変更する`dt.replace_time_zone(対象TZ)`を使う\n",
    "* 異なるタイムゾーン間でawareな日時の変換は、（UTC基準で同一時刻になるように）時刻の値を変える`dt.convert_time_zone(対象TZ)`を使う\n",
    "* 文字列から日時への変換は、`str.to_datetime(対象TZ)`を使う\n",
    "* 独自書式の文字列を扱うときは、`dt.to_string(書式)`や`str.to_datetime(書式)`を使う\n",
    "\n",
    "詳細は次表のように変換できます。\n",
    "\n",
    "| 作成するデータ | 変換元              | 方法                           |\n",
    "| :------------- | :------------------ | :----------------------------- |\n",
    "| naiveな日時    | awareな日時         | `cast(pl.Datetime)`            |\n",
    "| naiveな日時    | naiveな文字列(同TZ) | `str.to_datetime()`            |\n",
    "| awareな日時    | naiveな日時(同TZ)   | `dt.replace_time_zone(対象TZ)` |\n",
    "| awareな日時    | naiveな日時(UTC)    | `dt.convert_time_zone(対象TZ)` |\n",
    "| awareな日時    | awareな日時(異TZ)   | `dt.convert_time_zone(対象TZ)` |\n",
    "| awareな日時    | naiveな文字列(同TZ) | `str.to_datetime(対象TZ)`      |\n",
    "| awareな日時    | awareな文字列       | `str.to_datetime(対象TZ)`      |\n",
    "| naiveな文字列  | naiveな日時(同TZ)   | `cast(pl.Utf8)`                |\n",
    "| naiveな文字列  | awareな日時(同TZ)   | naiveな日時を経由              |\n",
    "| awareな文字列  | awareな日時(同TZ)   | `cast(pl.Utf8)`                |\n",
    "| awareな文字列  | naiveな文字列(同TZ) | `str.to_datetime(対象TZ)`      |\n",
    "| fmtあり文字列  | 日時(同TZ)          | `dt.to_string(書式)`           |\n",
    "| 日時           | fmtあり文字列(同TZ) | `str.to_datetime(書式)`        |\n",
    "\n",
    "表の対象TZ（作成するデータのタイムゾーン）は、`\"UTC\"`や`\"Asia/Tokyo\"`などが使えます。\n",
    "表にないケースは、awareな日時を経由してできないか検討してみてください。\n",
    "\n",
    "また、`pl.read_csv()`の引数`schema`で`pl.Datatime(time_zone=...)`と指定することで、awareな日時として読み込めます。\n",
    "\n"
   ]
  },
  {
   "cell_type": "markdown",
   "id": "1af60bdf-f797-4dd6-8f10-a8d349cffc65",
   "metadata": {
    "deletable": true,
    "editable": true,
    "frozen": false
   },
   "source": [
    "---"
   ]
  },
  {
   "cell_type": "markdown",
   "id": "fd2c7bef-ae1e-418a-babc-8d58c1ef578a",
   "metadata": {
    "deletable": false,
    "editable": false,
    "frozen": true
   },
   "source": [
    "### `問題H10`\n",
    "\n",
    "顧客データ（`df_customer`）から次の列を選択し、変数`df`に入れてください。そして、`df`の先頭の3行を表示してください。\n",
    "\n",
    "* 顧客ID（`customer_id`）\n",
    "* 申し込み日（`application_date`）\n",
    "  * YYYYMMDD形式の文字列型を日付型に変換すること\n",
    "\n",
    "**解答欄**"
   ]
  },
  {
   "cell_type": "code",
   "execution_count": null,
   "id": "1099b82d-f565-45ef-a0df-143ffb44c45f",
   "metadata": {
    "deletable": true,
    "editable": true,
    "frozen": false
   },
   "outputs": [],
   "source": [
    "# ここから解答を作成してください\n"
   ]
  },
  {
   "cell_type": "markdown",
   "id": "f4aa7ea3-1eb2-45ed-b044-f0a2cb9eef08",
   "metadata": {
    "deletable": false,
    "editable": false,
    "frozen": true
   },
   "source": [
    "<details><summary>解答例</summary>\n",
    "<br>\n",
    "\n",
    "```python\n",
    "df = df_customer.select(\n",
    "    col.customer_id, col.application_date.str.to_date(\"%Y%m%d\")\n",
    ")\n",
    "df.head(3)\n",
    "```\n",
    "</details>\n",
    "<br>\n",
    "\n",
    "**確認**"
   ]
  },
  {
   "cell_type": "code",
   "execution_count": null,
   "id": "a001a991-ac8a-4c17-b6a3-2f646ad69fb6",
   "metadata": {
    "deletable": false,
    "editable": false,
    "frozen": false,
    "jupyter": {
     "source_hidden": true
    }
   },
   "outputs": [],
   "source": [
    "# このセルを実行してください\n",
    "_ans = df_customer.select(\n",
    "    col.customer_id, col.application_date.str.to_date(\"%Y%m%d\")\n",
    ")\n",
    "try:\n",
    "    assert _ans.equals(df)\n",
    "except (AssertionError, NameError):\n",
    "    print(\"\\x1b[31mNG\\x1b[39m\")\n",
    "    display(Markdown(\"**期待する結果**\"))\n",
    "    display(_ans.head(3))\n",
    "else:\n",
    "    print(\"\\x1b[32mOK\\x1b[39m\")"
   ]
  },
  {
   "cell_type": "markdown",
   "id": "b9bd0755-565e-4c0e-89a2-81a959d9dea8",
   "metadata": {
    "deletable": true,
    "editable": true,
    "frozen": false
   },
   "source": [
    "---"
   ]
  },
  {
   "cell_type": "markdown",
   "id": "d38c3fa6-5e27-4152-938f-38a6caff3345",
   "metadata": {
    "deletable": false,
    "editable": false,
    "frozen": true
   },
   "source": [
    "### `問題H12`\n",
    "\n",
    "レシート明細データ（`df_receipt`）から次の列を選択し、変数`df`に入れてください。そして、`df`の先頭の3行を表示してください。\n",
    "\n",
    "* レシート番号（`receipt_no`）\n",
    "* レシートサブ番号（`receipt_sub_no`）\n",
    "* 売上年月日（`sales_ymd`）\n",
    "  * YYYYMMDD形式の整数型を日付型に変換すること\n",
    "\n",
    "**解答欄**"
   ]
  },
  {
   "cell_type": "code",
   "execution_count": null,
   "id": "a6d8db6f-2eec-4dc8-9cbc-aa2340c33aa8",
   "metadata": {
    "deletable": true,
    "editable": true,
    "frozen": false
   },
   "outputs": [],
   "source": [
    "# ここから解答を作成してください\n"
   ]
  },
  {
   "cell_type": "markdown",
   "id": "29620b48-5a0a-40a5-bb93-5a5bc8524c48",
   "metadata": {
    "deletable": false,
    "editable": false,
    "frozen": true
   },
   "source": [
    "<details><summary>解答例</summary>\n",
    "<br>\n",
    "\n",
    "```python\n",
    "df = df_receipt.select(\n",
    "    col.receipt_no,\n",
    "    col.receipt_sub_no,\n",
    "    col.sales_ymd.cast(pl.Utf8).str.to_date(\"%Y%m%d\"),\n",
    ")\n",
    "df.head(3)\n",
    "```\n",
    "`sales_ymd`はエポックではないので、`cast(pl.Datetime)`は使えません。\n",
    "</details>\n",
    "<br>\n",
    "\n",
    "**確認**"
   ]
  },
  {
   "cell_type": "code",
   "execution_count": null,
   "id": "a49b3dd1-a3e4-4c69-b06a-6cc93d33a678",
   "metadata": {
    "deletable": false,
    "editable": false,
    "frozen": false,
    "jupyter": {
     "source_hidden": true
    }
   },
   "outputs": [],
   "source": [
    "# このセルを実行してください\n",
    "_ans = df_receipt.select(\n",
    "    col.receipt_no,\n",
    "    col.receipt_sub_no,\n",
    "    col.sales_ymd.cast(pl.Utf8).str.to_date(\"%Y%m%d\"),\n",
    ")\n",
    "try:\n",
    "    assert _ans.equals(df)\n",
    "except (AssertionError, NameError):\n",
    "    print(\"\\x1b[31mNG\\x1b[39m\")\n",
    "    display(Markdown(\"**期待する結果**\"))\n",
    "    display(_ans.head(3))\n",
    "else:\n",
    "    print(\"\\x1b[32mOK\\x1b[39m\")"
   ]
  },
  {
   "cell_type": "markdown",
   "id": "4e7dd735-0eb1-4a29-9f08-ed562a952a6d",
   "metadata": {
    "deletable": true,
    "editable": true,
    "frozen": false
   },
   "source": [
    "---"
   ]
  },
  {
   "cell_type": "markdown",
   "id": "8fb75b1d-0dd4-4170-89ad-f693d46cf904",
   "metadata": {
    "deletable": false,
    "editable": false,
    "frozen": true
   },
   "source": [
    "### `問題H14`\n",
    "\n",
    "レシート明細データ（`df_receipt`）の売上年月日（`sales_ymd`）を日付型に変換し全列を、変数`df`に入れてください。そして、`df`の先頭の3行を表示してください。\n",
    "\n",
    "**解答欄**"
   ]
  },
  {
   "cell_type": "code",
   "execution_count": null,
   "id": "51e3a5ec-5f23-497d-9670-3a417cc6e26f",
   "metadata": {
    "deletable": true,
    "editable": true,
    "frozen": false
   },
   "outputs": [],
   "source": [
    "# ここから解答を作成してください\n"
   ]
  },
  {
   "cell_type": "markdown",
   "id": "0bb4f7ff-6e18-457a-af17-e1c3db99add0",
   "metadata": {
    "deletable": false,
    "editable": false,
    "frozen": true
   },
   "source": [
    "<details><summary>解答例</summary>\n",
    "<br>\n",
    "\n",
    "```python\n",
    "df = df_receipt.with_columns(\n",
    "    col.sales_ymd.cast(pl.Utf8).str.to_date(\"%Y%m%d\")\n",
    ")\n",
    "df.head(3)\n",
    "```\n",
    "</details>\n",
    "<br>\n",
    "\n",
    "**確認**"
   ]
  },
  {
   "cell_type": "code",
   "execution_count": null,
   "id": "798242db-dd2f-4807-a1cd-99ce72a46fab",
   "metadata": {
    "deletable": false,
    "editable": false,
    "frozen": false,
    "jupyter": {
     "source_hidden": true
    }
   },
   "outputs": [],
   "source": [
    "# このセルを実行してください\n",
    "_ans = df_receipt.with_columns(\n",
    "    col.sales_ymd.cast(pl.Utf8).str.to_date(\"%Y%m%d\")\n",
    ")\n",
    "try:\n",
    "    assert _ans.equals(df)\n",
    "except (AssertionError, NameError):\n",
    "    print(\"\\x1b[31mNG\\x1b[39m\")\n",
    "    display(Markdown(\"**期待する結果**\"))\n",
    "    display(_ans.head(3))\n",
    "else:\n",
    "    print(\"\\x1b[32mOK\\x1b[39m\")"
   ]
  },
  {
   "cell_type": "markdown",
   "id": "796c97fb-63d5-450d-a7da-383a8312befa",
   "metadata": {
    "deletable": true,
    "editable": true,
    "frozen": false
   },
   "source": [
    "---"
   ]
  },
  {
   "cell_type": "markdown",
   "id": "2ad2da08-0343-4d8f-b062-32295ab3f3fb",
   "metadata": {
    "deletable": false,
    "editable": false,
    "frozen": true
   },
   "source": [
    "### `問題H16`\n",
    "\n",
    "レシート明細データ（`df_receipt`）から次の列を選択し、変数`df`に入れてください。そして、`df`の先頭の3行を表示してください。\n",
    "\n",
    "* レシート番号（`receipt_no`）\n",
    "* レシートサブ番号（`receipt_sub_no`）\n",
    "* 売上エポック秒（`sales_epoch`）\n",
    "  * 数値型のUNIX時間（秒）を日付型に変換すること\n",
    "\n",
    "**解答欄**"
   ]
  },
  {
   "cell_type": "code",
   "execution_count": null,
   "id": "1b978b50-f01a-4375-8538-d8bfeabcadbb",
   "metadata": {
    "deletable": true,
    "editable": true,
    "frozen": false
   },
   "outputs": [],
   "source": [
    "# ここから解答を作成してください\n"
   ]
  },
  {
   "cell_type": "markdown",
   "id": "f18f89e2-e926-4a5d-9da2-d480fcbf2268",
   "metadata": {
    "deletable": false,
    "editable": false,
    "frozen": true
   },
   "source": [
    "<details><summary>解答例</summary>\n",
    "<br>\n",
    "\n",
    "```python\n",
    "df = df_receipt.select(\n",
    "    col.receipt_no,\n",
    "    col.receipt_sub_no,\n",
    "    pl.from_epoch(col.sales_epoch).dt.date(),\n",
    ")\n",
    "df.head(3)\n",
    "```\n",
    "<br>\n",
    "\n",
    "**別解**\n",
    "```python\n",
    "df = df_receipt.select(\n",
    "    col.receipt_no,\n",
    "    col.receipt_sub_no,\n",
    "    (col.sales_epoch * 1000000).cast(pl.Datetime).dt.date(),\n",
    ")\n",
    "```\n",
    "</details>\n",
    "<br>\n",
    "\n",
    "**確認**"
   ]
  },
  {
   "cell_type": "code",
   "execution_count": null,
   "id": "b9134694-0596-46bf-bb95-6c334da15185",
   "metadata": {
    "deletable": false,
    "editable": false,
    "frozen": false,
    "jupyter": {
     "source_hidden": true
    }
   },
   "outputs": [],
   "source": [
    "# このセルを実行してください\n",
    "_ans = df_receipt.select(\n",
    "    col.receipt_no,\n",
    "    col.receipt_sub_no,\n",
    "    pl.from_epoch(col.sales_epoch).dt.date(),\n",
    ")\n",
    "try:\n",
    "    assert _ans.equals(df)\n",
    "except (AssertionError, NameError):\n",
    "    print(\"\\x1b[31mNG\\x1b[39m\")\n",
    "    display(Markdown(\"**期待する結果**\"))\n",
    "    display(_ans.head(3))\n",
    "else:\n",
    "    print(\"\\x1b[32mOK\\x1b[39m\")"
   ]
  },
  {
   "cell_type": "markdown",
   "id": "6d9cc2e7-2670-43e8-be82-589e1bce86da",
   "metadata": {
    "deletable": true,
    "editable": true,
    "frozen": false
   },
   "source": [
    "---"
   ]
  },
  {
   "cell_type": "markdown",
   "id": "46ff68e3-1bb1-4b6f-b5b9-cf92664a4c77",
   "metadata": {
    "deletable": false,
    "editable": false,
    "frozen": true
   },
   "source": [
    "### `問題H18`\n",
    "\n",
    "レシート明細データ（`df_receipt`）から次の列を選択し、変数`df`に入れてください。そして、`df`の先頭の3行を表示してください。\n",
    "\n",
    "* レシート番号（`receipt_no`）\n",
    "* レシートサブ番号（`receipt_sub_no`）\n",
    "* 売上エポック秒（`sales_epoch`）\n",
    "  * 列名を`sales_year`とし、年に変換すること\n",
    "\n",
    "**解答欄**"
   ]
  },
  {
   "cell_type": "code",
   "execution_count": null,
   "id": "51d8c050-8a39-4311-b326-1c4072e9aa8a",
   "metadata": {
    "deletable": true,
    "editable": true,
    "frozen": false
   },
   "outputs": [],
   "source": [
    "# ここから解答を作成してください\n"
   ]
  },
  {
   "cell_type": "markdown",
   "id": "ef931297-9242-4855-90db-595e02417520",
   "metadata": {
    "deletable": false,
    "editable": false,
    "frozen": true
   },
   "source": [
    "<details><summary>解答例</summary>\n",
    "<br>\n",
    "\n",
    "```python\n",
    "df = df_receipt.select(\n",
    "    col.receipt_no,\n",
    "    col.receipt_sub_no,\n",
    "    sales_year=pl.from_epoch(col.sales_epoch).dt.year(),\n",
    ")\n",
    "df.head(3)\n",
    "```\n",
    "</details>\n",
    "<br>\n",
    "\n",
    "**確認**"
   ]
  },
  {
   "cell_type": "code",
   "execution_count": null,
   "id": "40f17af6-9d63-4329-a2e2-6c07e52cbc48",
   "metadata": {
    "deletable": false,
    "editable": false,
    "frozen": false,
    "jupyter": {
     "source_hidden": true
    }
   },
   "outputs": [],
   "source": [
    "# このセルを実行してください\n",
    "_ans = df_receipt.select(\n",
    "    col.receipt_no,\n",
    "    col.receipt_sub_no,\n",
    "    sales_year=pl.from_epoch(col.sales_epoch).dt.year(),\n",
    ")\n",
    "try:\n",
    "    assert _ans.equals(df)\n",
    "except (AssertionError, NameError):\n",
    "    print(\"\\x1b[31mNG\\x1b[39m\")\n",
    "    display(Markdown(\"**期待する結果**\"))\n",
    "    display(_ans.head(3))\n",
    "else:\n",
    "    print(\"\\x1b[32mOK\\x1b[39m\")"
   ]
  },
  {
   "cell_type": "markdown",
   "id": "6c19f3cd-bf84-4396-b2a0-4e2b4292cac3",
   "metadata": {
    "deletable": true,
    "editable": true,
    "frozen": false
   },
   "source": [
    "---"
   ]
  },
  {
   "cell_type": "markdown",
   "id": "ad02316d-857e-43b3-ac5b-6cab106f3bb4",
   "metadata": {
    "deletable": false,
    "editable": false,
    "frozen": true
   },
   "source": [
    "### `問題H20`\n",
    "\n",
    "顧客データ（`df_customer`）から次の列を選択し、変数`df`に入れてください。そして、`df`の先頭の3行を表示してください。\n",
    "\n",
    "* 顧客ID（`customer_id`）\n",
    "* 生年月日（`birth_day`）\n",
    "  * YYYYMMDD形式の文字列に変換すること\n",
    "\n",
    "**解答欄**"
   ]
  },
  {
   "cell_type": "code",
   "execution_count": null,
   "id": "211a251d-c863-43b0-ba1f-44fde9470746",
   "metadata": {
    "deletable": true,
    "editable": true,
    "frozen": false
   },
   "outputs": [],
   "source": [
    "# ここから解答を作成してください\n"
   ]
  },
  {
   "cell_type": "markdown",
   "id": "d1b944da-3c89-4a42-a255-d6896035aca7",
   "metadata": {
    "deletable": false,
    "editable": false,
    "frozen": true
   },
   "source": [
    "<details><summary>解答例</summary>\n",
    "<br>\n",
    "\n",
    "```python\n",
    "df = df_customer.select(col.customer_id, col.birth_day.dt.to_string(\"%Y%m%d\"))\n",
    "df.head(3)\n",
    "```\n",
    "</details>\n",
    "<br>\n",
    "\n",
    "**確認**"
   ]
  },
  {
   "cell_type": "code",
   "execution_count": null,
   "id": "03224e29-6161-4a43-8658-5e02510ed867",
   "metadata": {
    "deletable": false,
    "editable": false,
    "frozen": false,
    "jupyter": {
     "source_hidden": true
    }
   },
   "outputs": [],
   "source": [
    "# このセルを実行してください\n",
    "_ans = df_customer.select(col.customer_id, col.birth_day.dt.to_string(\"%Y%m%d\"))\n",
    "try:\n",
    "    assert _ans.equals(df)\n",
    "except (AssertionError, NameError):\n",
    "    print(\"\\x1b[31mNG\\x1b[39m\")\n",
    "    display(Markdown(\"**期待する結果**\"))\n",
    "    display(_ans.head(3))\n",
    "else:\n",
    "    print(\"\\x1b[32mOK\\x1b[39m\")"
   ]
  },
  {
   "cell_type": "markdown",
   "id": "bd55f5d4-1818-44f6-b530-3d7c641a1ced",
   "metadata": {
    "deletable": true,
    "editable": true,
    "frozen": false
   },
   "source": [
    "---"
   ]
  },
  {
   "cell_type": "markdown",
   "id": "c8c29dda-4d3e-4c23-8c9a-51e2324cdf14",
   "metadata": {
    "deletable": false,
    "editable": false,
    "frozen": true
   },
   "source": [
    "### `問題H22`\n",
    "\n",
    "レシート明細データ（`df_receipt`）から次の列を選択し、変数`df`に入れてください。そして、`df`の先頭の3行を表示してください。\n",
    "\n",
    "* レシート番号（`receipt_no`）\n",
    "* レシートサブ番号（`receipt_sub_no`）\n",
    "* 売上エポック秒（`sales_epoch`）\n",
    "  * 列名を`sales_month`とし、**0埋めの2桁の月**に変換すること\n",
    "* 売上エポック秒（`sales_epoch`）\n",
    "  * 列名を`sales_day`とし、**0埋めの2桁の日**に変換すること\n",
    "\n",
    "**解答欄**"
   ]
  },
  {
   "cell_type": "code",
   "execution_count": null,
   "id": "91837523-fed7-40f4-990e-51dbcd93422e",
   "metadata": {
    "deletable": true,
    "editable": true,
    "frozen": false
   },
   "outputs": [],
   "source": [
    "# ここから解答を作成してください\n"
   ]
  },
  {
   "cell_type": "markdown",
   "id": "a66d2605-3f53-444e-a6d3-0fcb4939db81",
   "metadata": {
    "deletable": false,
    "editable": false,
    "frozen": true
   },
   "source": [
    "<details><summary>解答例</summary>\n",
    "<br>\n",
    "\n",
    "```python\n",
    "df = df_receipt.select(\n",
    "    col.receipt_no,\n",
    "    col.receipt_sub_no,\n",
    "    sales_month=pl.from_epoch(col.sales_epoch).dt.to_string(\"%m\"),\n",
    "    sales_day=pl.from_epoch(col.sales_epoch).dt.to_string(\"%d\"),\n",
    ")\n",
    "df.head(3)\n",
    "```\n",
    "</details>\n",
    "<br>\n",
    "\n",
    "**確認**"
   ]
  },
  {
   "cell_type": "code",
   "execution_count": null,
   "id": "57ee282d-7da6-455a-b32f-45bcdc042bbd",
   "metadata": {
    "deletable": false,
    "editable": false,
    "frozen": false,
    "jupyter": {
     "source_hidden": true
    }
   },
   "outputs": [],
   "source": [
    "# このセルを実行してください\n",
    "_ans = df_receipt.select(\n",
    "    col.receipt_no,\n",
    "    col.receipt_sub_no,\n",
    "    sales_month=pl.from_epoch(col.sales_epoch).dt.to_string(\"%m\"),\n",
    "    sales_day=pl.from_epoch(col.sales_epoch).dt.to_string(\"%d\"),\n",
    ")\n",
    "try:\n",
    "    assert _ans.equals(df)\n",
    "except (AssertionError, NameError):\n",
    "    print(\"\\x1b[31mNG\\x1b[39m\")\n",
    "    display(Markdown(\"**期待する結果**\"))\n",
    "    display(_ans.head(3))\n",
    "else:\n",
    "    print(\"\\x1b[32mOK\\x1b[39m\")"
   ]
  },
  {
   "cell_type": "markdown",
   "id": "2b2c2879-fc8d-4677-a7e1-85894b04d290",
   "metadata": {
    "deletable": true,
    "editable": true,
    "frozen": false
   },
   "source": [
    "---"
   ]
  },
  {
   "cell_type": "markdown",
   "id": "ed8c141d-9ab4-4089-a511-02e28a4944e2",
   "metadata": {
    "deletable": false,
    "editable": false,
    "frozen": true
   },
   "source": [
    "### `問題H24`\n",
    "\n",
    "秒数（`second`）が入った`_df`から次の要件で作成し、変数`df`に入れてください。そして、`df`を表示してください。\n",
    "\n",
    "* 列名を`time`とし、pl.Time型にすること\n",
    "* 列名を`duration`とし、pl.Duration型にすること\n",
    "\n",
    "**解答欄**"
   ]
  },
  {
   "cell_type": "code",
   "execution_count": null,
   "id": "bc91a14e-40d6-40b2-806e-4ccebeeb2dfe",
   "metadata": {
    "deletable": true,
    "editable": true,
    "frozen": false
   },
   "outputs": [],
   "source": [
    "_df = pl.DataFrame({\"second\": range(0, 10800, 1800)})\n",
    "\n",
    "# ここから解答を作成してください\n"
   ]
  },
  {
   "cell_type": "markdown",
   "id": "641e3319-c55a-42f9-87ac-d6140ed621a8",
   "metadata": {
    "deletable": false,
    "editable": false,
    "frozen": true
   },
   "source": [
    "<details><summary>解答例</summary>\n",
    "<br>\n",
    "\n",
    "```python\n",
    "df = _df.select(\n",
    "    time=pl.from_epoch(pl.col(\"second\")).dt.time(),\n",
    "    duration=pl.duration(seconds=pl.col(\"second\")),\n",
    ")\n",
    "df\n",
    "```\n",
    "</details>\n",
    "<br>\n",
    "\n",
    "**確認**"
   ]
  },
  {
   "cell_type": "code",
   "execution_count": null,
   "id": "b6015a82-ced3-4e6d-a748-09d5582764bc",
   "metadata": {
    "deletable": false,
    "editable": false,
    "frozen": false,
    "jupyter": {
     "source_hidden": true
    }
   },
   "outputs": [],
   "source": [
    "# このセルを実行してください\n",
    "try:\n",
    "    _ans = _df.select(\n",
    "        time=pl.from_epoch(pl.col(\"second\")).dt.time(),\n",
    "        duration=pl.duration(seconds=pl.col(\"second\")),\n",
    "    )\n",
    "    assert _ans.equals(df)\n",
    "except (AssertionError, NameError):\n",
    "    print(\"\\x1b[31mNG\\x1b[39m\")\n",
    "    display(Markdown(\"**期待する結果**\"))\n",
    "    display(_ans)\n",
    "else:\n",
    "    print(\"\\x1b[32mOK\\x1b[39m\")"
   ]
  },
  {
   "cell_type": "markdown",
   "id": "44c727e6-8b98-4ab8-8ec3-658281930dbc",
   "metadata": {
    "deletable": true,
    "editable": true,
    "frozen": false
   },
   "source": [
    "---"
   ]
  },
  {
   "cell_type": "markdown",
   "id": "b3bc5aa7-434c-4e24-a5d9-ef64ae65b4d7",
   "metadata": {
    "deletable": false,
    "editable": false,
    "frozen": true
   },
   "source": [
    "### `問題H26`\n",
    "\n",
    "時刻（`time`）が入った`_df`から次の要件で作成し、変数`df`に入れてください。そして、`df`を表示してください。\n",
    "\n",
    "* 列名を`duration`とし、pl.Duration型にすること\n",
    "* 列名を`second`とし、秒数にすること\n",
    "\n",
    "**解答欄**"
   ]
  },
  {
   "cell_type": "code",
   "execution_count": null,
   "id": "08a0316e-7e62-40ca-8f5b-0630c93daff2",
   "metadata": {
    "deletable": true,
    "editable": true,
    "frozen": false
   },
   "outputs": [],
   "source": [
    "_df = pl.DataFrame(\n",
    "    {\"time\": pl.time_range(end=datetime.time(2), interval=\"30m\", eager=True)}\n",
    ")\n",
    "\n",
    "# ここから解答を作成してください\n"
   ]
  },
  {
   "cell_type": "markdown",
   "id": "31b2ef95-4532-43f9-9059-58092c9f1227",
   "metadata": {
    "deletable": false,
    "editable": false,
    "frozen": true
   },
   "source": [
    "<details><summary>解答例</summary>\n",
    "<br>\n",
    "\n",
    "```python\n",
    "df = _df.select(\n",
    "    duration=pl.col(\"time\").cast(pl.Duration),\n",
    "    second=pl.col(\"time\").cast(pl.Duration).dt.total_seconds(),\n",
    ")\n",
    "df\n",
    "```\n",
    "</details>\n",
    "<br>\n",
    "\n",
    "**確認**"
   ]
  },
  {
   "cell_type": "code",
   "execution_count": null,
   "id": "76baff3a-ea94-426d-8312-29e86dbfddec",
   "metadata": {
    "deletable": false,
    "editable": false,
    "frozen": false,
    "jupyter": {
     "source_hidden": true
    }
   },
   "outputs": [],
   "source": [
    "# このセルを実行してください\n",
    "try:\n",
    "    _ans = _df.select(\n",
    "        duration=pl.col(\"time\").cast(pl.Duration),\n",
    "        second=pl.col(\"time\").cast(pl.Duration).dt.total_seconds(),\n",
    "    )\n",
    "    assert _ans.equals(df)\n",
    "except (AssertionError, NameError, pl.exceptions.ColumnNotFoundError):\n",
    "    print(\"\\x1b[31mNG\\x1b[39m\")\n",
    "    display(Markdown(\"**期待する結果**\"))\n",
    "    display(_ans)\n",
    "else:\n",
    "    print(\"\\x1b[32mOK\\x1b[39m\")"
   ]
  },
  {
   "cell_type": "markdown",
   "id": "9d377f0f-9a34-480c-a092-892a02b32865",
   "metadata": {
    "deletable": true,
    "editable": true,
    "frozen": false
   },
   "source": [
    "---"
   ]
  },
  {
   "cell_type": "markdown",
   "id": "c2d1950c-fc6d-4dd2-bc4c-4eb3af1c78ef",
   "metadata": {
    "deletable": false,
    "editable": false,
    "frozen": true
   },
   "source": [
    "### `問題H28`\n",
    "\n",
    "`_df`の3列から、日付型の列`date`を作成し、変数`df`に入れてください。そして、`df`の先頭の3行を表示してください。\n",
    "\n",
    "**解答欄**"
   ]
  },
  {
   "cell_type": "code",
   "execution_count": null,
   "id": "6349bf4b-74f1-4c15-b9bd-48dbe6b9eb79",
   "metadata": {
    "deletable": true,
    "editable": true,
    "frozen": false
   },
   "outputs": [],
   "source": [
    "_df = df_customer.select(\n",
    "    year=col.birth_day.dt.year(),\n",
    "    month=col.birth_day.dt.month(),\n",
    "    day=col.birth_day.dt.day(),\n",
    ")\n",
    "\n",
    "# ここから解答を作成してください\n"
   ]
  },
  {
   "cell_type": "markdown",
   "id": "2a29c1ce-90d7-4086-b202-958eee268d71",
   "metadata": {
    "deletable": false,
    "editable": false,
    "frozen": true
   },
   "source": [
    "<details><summary>解答例</summary>\n",
    "<br>\n",
    "\n",
    "```python\n",
    "df = _df.select(date=pl.date(\"year\", \"month\", \"day\"))\n",
    "df.head(3)\n",
    "```\n",
    "</details>\n",
    "<br>\n",
    "\n",
    "**確認**"
   ]
  },
  {
   "cell_type": "code",
   "execution_count": null,
   "id": "17dc3754-1692-4380-a66f-97e58c390f6a",
   "metadata": {
    "deletable": false,
    "editable": false,
    "frozen": false,
    "jupyter": {
     "source_hidden": true
    }
   },
   "outputs": [],
   "source": [
    "# このセルを実行してください\n",
    "try:\n",
    "    _ans = _df.select(date=pl.date(\"year\", \"month\", \"day\"))\n",
    "    assert _ans.equals(df)\n",
    "except (AssertionError, NameError, pl.exceptions.ColumnNotFoundError):\n",
    "    print(\"\\x1b[31mNG\\x1b[39m\")\n",
    "    display(Markdown(\"**期待する結果**\"))\n",
    "    display(_ans.head(3))\n",
    "else:\n",
    "    print(\"\\x1b[32mOK\\x1b[39m\")"
   ]
  },
  {
   "cell_type": "markdown",
   "id": "d97b8213-5330-4109-a4f2-18315f8cc823",
   "metadata": {
    "deletable": true,
    "editable": true,
    "frozen": false
   },
   "source": [
    "---"
   ]
  },
  {
   "cell_type": "markdown",
   "id": "60d8e711-6bfc-4eeb-b817-17e94b0da975",
   "metadata": {
    "deletable": false,
    "editable": false,
    "frozen": true
   },
   "source": [
    "### `問題H30`\n",
    "\n",
    "顧客データ（`df_customer`）の`application_date`から次の列を作成し、変数`df`に入れてください。そして、`df`の先頭の3行を表示してください。\n",
    "\n",
    "* 先頭4文字の列名を`year`とし、pl.Int64型にすること\n",
    "* 5、6文字目の列名を`month`とし、pl.Int64型にすること\n",
    "* 末尾2文字の列名を`day`とし、pl.Int64型にすること\n",
    "\n",
    "**解答欄**"
   ]
  },
  {
   "cell_type": "code",
   "execution_count": null,
   "id": "1b76fcd8-8f23-4b11-8b42-501ef0f6a69f",
   "metadata": {
    "deletable": true,
    "editable": true,
    "frozen": false
   },
   "outputs": [],
   "source": [
    "# ここから解答を作成してください\n"
   ]
  },
  {
   "cell_type": "markdown",
   "id": "828b8222-cec7-4d41-b87b-307726ce746a",
   "metadata": {
    "deletable": false,
    "editable": false,
    "frozen": true
   },
   "source": [
    "<details><summary>解答例</summary>\n",
    "<br>\n",
    "\n",
    "```python\n",
    "df = df_customer.select(\n",
    "    year=col.application_date.str.slice(0, 4),\n",
    "    month=col.application_date.str.slice(4, 2),\n",
    "    day=col.application_date.str.slice(6),\n",
    ").cast(pl.Int64)\n",
    "df.head(3)\n",
    "```\n",
    "<br>\n",
    "\n",
    "**別解**\n",
    "```python\n",
    "df = df_customer.select(\n",
    "    col.application_date.str.extract_groups(\n",
    "        \"(?<year>....)(?<month>..)(?<day>..)\"\n",
    "    )\n",
    "    .struct.unnest()\n",
    "    .cast(pl.Int64)\n",
    ")\n",
    "```\n",
    "</details>\n",
    "<br>\n",
    "\n",
    "**確認**"
   ]
  },
  {
   "cell_type": "code",
   "execution_count": null,
   "id": "7e3a81e5-96b8-414f-9662-3003c54f48f3",
   "metadata": {
    "deletable": false,
    "editable": false,
    "frozen": false,
    "jupyter": {
     "source_hidden": true
    }
   },
   "outputs": [],
   "source": [
    "# このセルを実行してください\n",
    "_ans = df_customer.select(\n",
    "    year=col.application_date.str.slice(0, 4),\n",
    "    month=col.application_date.str.slice(4, 2),\n",
    "    day=col.application_date.str.slice(6),\n",
    ").cast(pl.Int64)\n",
    "try:\n",
    "    assert _ans.equals(df)\n",
    "except (AssertionError, NameError):\n",
    "    print(\"\\x1b[31mNG\\x1b[39m\")\n",
    "    display(Markdown(\"**期待する結果**\"))\n",
    "    display(_ans.head(3))\n",
    "else:\n",
    "    print(\"\\x1b[32mOK\\x1b[39m\")"
   ]
  },
  {
   "cell_type": "markdown",
   "id": "437a1b4c-47d2-4abc-b482-8730a5259fe5",
   "metadata": {
    "deletable": true,
    "editable": true,
    "frozen": false
   },
   "source": [
    "---"
   ]
  },
  {
   "cell_type": "markdown",
   "id": "293d493c-d64b-4a09-9d3e-2eafed452e6c",
   "metadata": {
    "deletable": false,
    "editable": false,
    "frozen": true
   },
   "source": [
    "## いろいろな式のメソッドとNumPy\n",
    "\n",
    "* `round()`: 数値の丸め\n",
    "* `ceil()`: 数値の切り上げ\n",
    "* `floor()`: 数値の切り捨て\n",
    "* `abs()`: 数値の絶対値\n",
    "* `clip()`: 範囲でクリッピング\n",
    "* `rank()`: 順位\n",
    "* `diff()`: 前との差\n",
    "* `shift()`: ずらし\n",
    "* `cut()`: 個数でカテゴリ化\n",
    "* `qcut()`: 割合でカテゴリ化\n",
    "* `map_elements()`: 要素を変換する\n",
    "* `replace_strict()`: 変換する\n",
    "* `shuffle()`: シャッフルする\n",
    "* `int_range()`: 連続する数字の作成\n",
    "* `over()`: グルーピングしたときと同じように処理する\n",
    "\n",
    "また、`cos()`、`exp()`、`log()`、`log10()`、`sin()`などの数学の関数も使えます。\n",
    "\n",
    "**`str`属性**\n",
    "\n",
    "文字列の列に対しては、次のように`str`属性でアクセスできます。\n",
    "\n",
    "* `str.starts_with()`: 指定の文字列で始まるか\n",
    "* `str.ends_with()`: 指定の文字列で終わるか\n",
    "* `str.contains()`: 指定した正規表現の文字列を含むか\n",
    "* `str.replace()`: 正規表現で文字を1回まで変換する\n",
    "* `str.replace_all()`: 正規表現で文字をすべて変換する\n",
    "* `str.extract()`: 正規表現で文字を1つまで抽出する\n",
    "* `str.extract_all()`: 正規表現で文字をすべて抽出する\n",
    "* `str.to_date()`: 日付に変換\n",
    "* `str.to_datetime()`: 日時に変換\n",
    "* `str.to_time()`: 時間に変換\n",
    "\n",
    "**条件分岐**\n",
    "\n",
    "`pl.when(条件).then().otherwise()`で条件分岐できます。\n",
    "\n",
    "**NumPyのユニバーサル関数**\n",
    "\n",
    "NumPyのユニバーサル関数に式を渡すこともできます。\n"
   ]
  },
  {
   "cell_type": "markdown",
   "id": "8cfc2641-8982-46c2-91c0-b27425a15f4f",
   "metadata": {
    "deletable": true,
    "editable": true,
    "frozen": false
   },
   "source": [
    "---"
   ]
  },
  {
   "cell_type": "markdown",
   "id": "9a7d9218-4f66-4518-9a51-bbb9b3e87b76",
   "metadata": {
    "deletable": false,
    "editable": false,
    "frozen": true
   },
   "source": [
    "### `問題I10`\n",
    "\n",
    "レシート明細データ（`df_receipt`）に対し、次の要件で作成し、変数`df`に入れてください。そして、`df`の先頭の3行を表示してください。\n",
    "\n",
    "* 出力する列\n",
    "  * 顧客ID（`customer_id`）\n",
    "  * 売上金額（`amount`）\n",
    "  * 売上金額（`amount`）\n",
    "    * 列名を`ranking`とし、金額が大きい順のランクに変換すること\n",
    "    * `method=\"min\"`を指定すること\n",
    "* ランクの高い順にソートすること\n",
    "\n",
    "**解答欄**"
   ]
  },
  {
   "cell_type": "code",
   "execution_count": null,
   "id": "6be69abb-634d-41c3-b7a9-73b1a8ce0534",
   "metadata": {
    "deletable": true,
    "editable": true,
    "frozen": false
   },
   "outputs": [],
   "source": [
    "# ここから解答を作成してください\n"
   ]
  },
  {
   "cell_type": "markdown",
   "id": "9b30d75a-62be-44b2-8513-a9935128cd18",
   "metadata": {
    "deletable": false,
    "editable": false,
    "frozen": true
   },
   "source": [
    "<details><summary>解答例</summary>\n",
    "<br>\n",
    "\n",
    "```python\n",
    "df = df_receipt.select(\n",
    "    col.customer_id,\n",
    "    col.amount,\n",
    "    ranking=col.amount.rank(method=\"min\", descending=True),\n",
    ").sort(\"ranking\")\n",
    "df.head(3)\n",
    "```\n",
    "</details>\n",
    "<br>\n",
    "\n",
    "**確認**"
   ]
  },
  {
   "cell_type": "code",
   "execution_count": null,
   "id": "e7be8ee6-719d-40e7-8e1b-d023090cdcc1",
   "metadata": {
    "deletable": false,
    "editable": false,
    "frozen": false,
    "jupyter": {
     "source_hidden": true
    }
   },
   "outputs": [],
   "source": [
    "# このセルを実行してください\n",
    "_ans = df_receipt.select(\n",
    "    col.customer_id,\n",
    "    col.amount,\n",
    "    ranking=col.amount.rank(method=\"min\", descending=True),\n",
    ").sort(\"ranking\")\n",
    "try:\n",
    "    assert _ans.equals(df)\n",
    "except (AssertionError, NameError):\n",
    "    print(\"\\x1b[31mNG\\x1b[39m\")\n",
    "    display(Markdown(\"**期待する結果**\"))\n",
    "    display(_ans.head(3))\n",
    "else:\n",
    "    print(\"\\x1b[32mOK\\x1b[39m\")"
   ]
  },
  {
   "cell_type": "markdown",
   "id": "9e46cc00-e98e-445e-86f6-c6edf79c17ac",
   "metadata": {
    "deletable": true,
    "editable": true,
    "frozen": false
   },
   "source": [
    "---"
   ]
  },
  {
   "cell_type": "markdown",
   "id": "dabe2d9c-8888-41c1-b1cc-057ba4992730",
   "metadata": {
    "deletable": false,
    "editable": false,
    "frozen": true
   },
   "source": [
    "### `問題I12`\n",
    "\n",
    "レシート明細データ（`df_receipt`）に対し、次の要件で作成し、変数`df`に入れてください。そして、`df`の先頭の3行を表示してください。\n",
    "\n",
    "* 出力する列\n",
    "  * 顧客ID（`customer_id`）\n",
    "    * 出現順にユニークになっていること\n",
    "  * 売上金額（`amount`）\n",
    "    * 列名を`amount_sum`とし、顧客ID（`customer_id`）ごとに合計\n",
    "  * 売上金額（`amount`）\n",
    "    * 列名を`pct_group`とし、`amount_sum`の四分位数のカテゴリ\n",
    "      * カテゴリの先頭は`(3651, inf]`\n",
    "* `maintain_order=True`をつけること\n",
    "\n",
    "**解答欄**"
   ]
  },
  {
   "cell_type": "code",
   "execution_count": null,
   "id": "ca4a9b8d-d0b6-4bb0-9a0e-0ea594c2da74",
   "metadata": {
    "deletable": true,
    "editable": true,
    "frozen": false
   },
   "outputs": [],
   "source": [
    "# ここから解答を作成してください\n"
   ]
  },
  {
   "cell_type": "markdown",
   "id": "f4aba826-1376-42cb-a90c-aee4ebcc64ed",
   "metadata": {
    "deletable": false,
    "editable": false,
    "frozen": true
   },
   "source": [
    "<details><summary>解答例</summary>\n",
    "<br>\n",
    "\n",
    "```python\n",
    "df = (\n",
    "    df_receipt.group_by(col.customer_id, maintain_order=True)\n",
    "    .agg(amount_sum=col.amount.sum())\n",
    "    .with_columns(pct_group=pl.col(\"amount_sum\").qcut(4))\n",
    ")\n",
    "df.head(3)\n",
    "```\n",
    "</details>\n",
    "<br>\n",
    "\n",
    "**確認**"
   ]
  },
  {
   "cell_type": "code",
   "execution_count": null,
   "id": "c2f33c96-7afc-40f7-b2b0-42e820c2d3d7",
   "metadata": {
    "deletable": false,
    "editable": false,
    "frozen": false,
    "jupyter": {
     "source_hidden": true
    }
   },
   "outputs": [],
   "source": [
    "# このセルを実行してください\n",
    "_ans = (\n",
    "    df_receipt.group_by(col.customer_id, maintain_order=True)\n",
    "    .agg(amount_sum=col.amount.sum())\n",
    "    .with_columns(pct_group=pl.col(\"amount_sum\").qcut(4))\n",
    ")\n",
    "try:\n",
    "    assert _ans.equals(df)\n",
    "except (AssertionError, NameError):\n",
    "    print(\"\\x1b[31mNG\\x1b[39m\")\n",
    "    display(Markdown(\"**期待する結果**\"))\n",
    "    display(_ans.head(3))\n",
    "else:\n",
    "    print(\"\\x1b[32mOK\\x1b[39m\")"
   ]
  },
  {
   "cell_type": "markdown",
   "id": "90be8e44-4708-4c60-9d21-13bd99400170",
   "metadata": {
    "deletable": true,
    "editable": true,
    "frozen": false
   },
   "source": [
    "---"
   ]
  },
  {
   "cell_type": "markdown",
   "id": "572ee7ff-b682-4a1a-9f7e-a67eeeabd9c6",
   "metadata": {
    "deletable": false,
    "editable": false,
    "frozen": true
   },
   "source": [
    "### `問題I14`\n",
    "\n",
    "レシート明細データ（`df_receipt`）に対し、次の要件で作成し、変数`df`に入れてください。そして、`df`の先頭の3行を表示してください。\n",
    "\n",
    "* 出力する列\n",
    "  * 顧客ID（`customer_id`）\n",
    "  * 売上金額（`amount`）\n",
    "    * 顧客ID（`customer_id`）ごとに合計し、さらに10を底とした対数を計算\n",
    "* `maintain_order=True`をつけること\n",
    "\n",
    "**解答欄**"
   ]
  },
  {
   "cell_type": "code",
   "execution_count": null,
   "id": "b32ec7a8-56a4-49d1-8d57-4295133e116b",
   "metadata": {
    "deletable": true,
    "editable": true,
    "frozen": false
   },
   "outputs": [],
   "source": [
    "# ここから解答を作成してください\n"
   ]
  },
  {
   "cell_type": "markdown",
   "id": "849752e1-b95b-4b5e-87a5-e25e1c5e23d6",
   "metadata": {
    "deletable": false,
    "editable": false,
    "frozen": true
   },
   "source": [
    "<details><summary>解答例</summary>\n",
    "<br>\n",
    "\n",
    "```python\n",
    "df = df_receipt.group_by(col.customer_id, maintain_order=True).agg(\n",
    "    col.amount.sum().log10()\n",
    ")\n",
    "df.head(3)\n",
    "```\n",
    "<br>\n",
    "\n",
    "**別解**\n",
    "```python\n",
    "df = df_receipt.group_by(col.customer_id, maintain_order=True).agg(\n",
    "    np.log10(col.amount.sum())\n",
    ")\n",
    "```\n",
    "</details>\n",
    "<br>\n",
    "\n",
    "**確認**"
   ]
  },
  {
   "cell_type": "code",
   "execution_count": null,
   "id": "1941e933-34ee-40a4-88a9-0368204c88f8",
   "metadata": {
    "deletable": false,
    "editable": false,
    "frozen": false,
    "jupyter": {
     "source_hidden": true
    }
   },
   "outputs": [],
   "source": [
    "# このセルを実行してください\n",
    "_ans = df_receipt.group_by(col.customer_id, maintain_order=True).agg(\n",
    "    col.amount.sum().log10()\n",
    ")\n",
    "try:\n",
    "    assert_frame_equal(_ans, df)\n",
    "except (AssertionError, NameError):\n",
    "    print(\"\\x1b[31mNG\\x1b[39m\")\n",
    "    display(Markdown(\"**期待する結果**\"))\n",
    "    display(_ans.head(3))\n",
    "else:\n",
    "    print(\"\\x1b[32mOK\\x1b[39m\")"
   ]
  },
  {
   "cell_type": "markdown",
   "id": "e64fa92f-a595-4338-847f-43275687fa59",
   "metadata": {
    "deletable": true,
    "editable": true,
    "frozen": false
   },
   "source": [
    "---"
   ]
  },
  {
   "cell_type": "markdown",
   "id": "c621c087-ed85-4ea4-aa6f-f3ed2f0db39a",
   "metadata": {
    "deletable": false,
    "editable": false,
    "frozen": true
   },
   "source": [
    "### `問題I16`\n",
    "\n",
    "レシート明細データ（`df_receipt`）に対し、次の要件で作成し、変数`df`に入れてください。そして、`df`の先頭の3行を表示してください。\n",
    "\n",
    "* 出力する列\n",
    "  * 顧客ID（`customer_id`）\n",
    "  * 売上金額（`amount`）\n",
    "    * 顧客ID（`customer_id`）ごとに合計し、1000から10_000の範囲にすること\n",
    "* `maintain_order=True`をつけること\n",
    "\n",
    "**解答欄**"
   ]
  },
  {
   "cell_type": "code",
   "execution_count": null,
   "id": "471e3b16-62b4-4708-8d26-e910b2d48fcb",
   "metadata": {
    "deletable": true,
    "editable": true,
    "frozen": false
   },
   "outputs": [],
   "source": [
    "# ここから解答を作成してください\n"
   ]
  },
  {
   "cell_type": "markdown",
   "id": "ec19e9a4-48ee-4164-abc1-deb380a745fc",
   "metadata": {
    "deletable": false,
    "editable": false,
    "frozen": true
   },
   "source": [
    "<details><summary>解答例</summary>\n",
    "<br>\n",
    "\n",
    "```python\n",
    "df = df_receipt.group_by(col.customer_id, maintain_order=True).agg(\n",
    "    col.amount.sum().clip(1000, 10_000)\n",
    ")\n",
    "df.head(3)\n",
    "```\n",
    "\n",
    "**確認**"
   ]
  },
  {
   "cell_type": "code",
   "execution_count": null,
   "id": "9fd8c22f-0b88-40cc-b08d-8876feb5c63d",
   "metadata": {
    "deletable": false,
    "editable": false,
    "frozen": false,
    "jupyter": {
     "source_hidden": true
    }
   },
   "outputs": [],
   "source": [
    "# このセルを実行してください\n",
    "_ans = df_receipt.group_by(col.customer_id, maintain_order=True).agg(\n",
    "    col.amount.sum().clip(1000, 10_000)\n",
    ")\n",
    "try:\n",
    "    assert_frame_equal(_ans, df)\n",
    "except (AssertionError, NameError):\n",
    "    print(\"\\x1b[31mNG\\x1b[39m\")\n",
    "    display(Markdown(\"**期待する結果**\"))\n",
    "    display(_ans.head(3))\n",
    "else:\n",
    "    print(\"\\x1b[32mOK\\x1b[39m\")"
   ]
  },
  {
   "cell_type": "markdown",
   "id": "802830d8-64da-4f9e-bf18-4d5fc4481830",
   "metadata": {
    "deletable": true,
    "editable": true,
    "frozen": false
   },
   "source": [
    "---"
   ]
  },
  {
   "cell_type": "markdown",
   "id": "5424d67b-426c-41b3-bb98-74e93d1cabab",
   "metadata": {
    "deletable": false,
    "editable": false,
    "frozen": true
   },
   "source": [
    "## DataFrameのメソッド\n",
    "\n",
    "* `null_count()`: 列ごとのnullの数\n",
    "* `fill_null(value)`: nullを別の値（`value`）で補完する\n",
    "* `drop_nulls(subset)`: `subset`の列にnullがあれば行を削除する\n",
    "* `pivot()`: ピボットテーブルを作る\n",
    "* `unpivot()`: ピボットテーブルの逆の処理\n",
    "* `to_dummies()`: ダミー変数化する\n",
    "* `sample()`: サンプリングする\n",
    "* `insert_column()`: 指定位置に列を挿入する\n",
    "* `map_rows()`: 行単位で変換する\n",
    "* `shrink_to_fit()`: メモリ使用量を縮小する\n",
    "\n",
    "※ `df.select(pl.all().shrink_dtype())`のようにすると、データの型を変えてメモリ使用量を縮小します。\n"
   ]
  },
  {
   "cell_type": "markdown",
   "id": "c7003e0a-7ef4-470f-b888-18b6ccc715e8",
   "metadata": {
    "deletable": true,
    "editable": true,
    "frozen": false
   },
   "source": [
    "---"
   ]
  },
  {
   "cell_type": "markdown",
   "id": "0380919d-15c2-4d1e-86a1-bfac40113512",
   "metadata": {
    "deletable": false,
    "editable": false,
    "frozen": true
   },
   "source": [
    "### `問題J10`\n",
    "\n",
    "商品データ（`df_product`）の各項目に対し、欠損数を変数`df`に入れてください。そして、`df`を表示してください。\n",
    "\n",
    "**解答欄**"
   ]
  },
  {
   "cell_type": "code",
   "execution_count": null,
   "id": "53b43bb4-bc90-439e-a00c-80ff8df48667",
   "metadata": {
    "deletable": true,
    "editable": true,
    "frozen": false
   },
   "outputs": [],
   "source": [
    "# ここから解答を作成してください\n"
   ]
  },
  {
   "cell_type": "markdown",
   "id": "0d15cafe-71a8-4795-895c-3415070d71ac",
   "metadata": {
    "deletable": false,
    "editable": false,
    "frozen": true
   },
   "source": [
    "<details><summary>解答例</summary>\n",
    "<br>\n",
    "\n",
    "```python\n",
    "df = df_product.null_count()\n",
    "df\n",
    "```\n",
    "</details>\n",
    "<br>\n",
    "\n",
    "**確認**"
   ]
  },
  {
   "cell_type": "code",
   "execution_count": null,
   "id": "b085fc61-308b-42da-8417-e72e4b076c69",
   "metadata": {
    "deletable": false,
    "editable": false,
    "frozen": false,
    "jupyter": {
     "source_hidden": true
    }
   },
   "outputs": [],
   "source": [
    "# このセルを実行してください\n",
    "_ans = df_product.null_count()\n",
    "try:\n",
    "    assert _ans.equals(df)\n",
    "except (AssertionError, NameError):\n",
    "    print(\"\\x1b[31mNG\\x1b[39m\")\n",
    "    display(Markdown(\"**期待する結果**\"))\n",
    "    display(_ans)\n",
    "else:\n",
    "    print(\"\\x1b[32mOK\\x1b[39m\")"
   ]
  },
  {
   "cell_type": "markdown",
   "id": "a946c707-a36b-4a91-b7ed-33d1ee956598",
   "metadata": {
    "deletable": true,
    "editable": true,
    "frozen": false
   },
   "source": [
    "---"
   ]
  },
  {
   "cell_type": "markdown",
   "id": "1da3b4f8-f6c7-49e0-a19d-89b0ec5c518d",
   "metadata": {
    "deletable": false,
    "editable": false,
    "frozen": true
   },
   "source": [
    "### `問題J12`\n",
    "\n",
    "顧客データ（`df_customer`）の性別コード（`gender_cd`）をダミー変数化し、顧客ID（`customer_id`）とともに変数`df`に入れてください。そして、`df`の先頭の3行を表示してください。\n",
    "\n",
    "**解答欄**"
   ]
  },
  {
   "cell_type": "code",
   "execution_count": null,
   "id": "f1f23f38-2d0b-4798-8dc3-2872677defbc",
   "metadata": {
    "deletable": true,
    "editable": true,
    "frozen": false
   },
   "outputs": [],
   "source": [
    "# ここから解答を作成してください\n"
   ]
  },
  {
   "cell_type": "markdown",
   "id": "64fd88e9-08c8-4d12-8f93-d6ef42fb96ac",
   "metadata": {
    "deletable": false,
    "editable": false,
    "frozen": true
   },
   "source": [
    "<details><summary>解答例</summary>\n",
    "<br>\n",
    "\n",
    "```python\n",
    "df = df_customer.select(col.customer_id, col.gender_cd).to_dummies(\"gender_cd\")\n",
    "df.head(3)\n",
    "```\n",
    "</details>\n",
    "<br>\n",
    "\n",
    "**確認**"
   ]
  },
  {
   "cell_type": "code",
   "execution_count": null,
   "id": "5b824b52-9b2a-4cf0-9720-f64a45ef2955",
   "metadata": {
    "deletable": false,
    "editable": false,
    "frozen": false,
    "jupyter": {
     "source_hidden": true
    }
   },
   "outputs": [],
   "source": [
    "# このセルを実行してください\n",
    "_ans = df_customer.select(col.customer_id, col.gender_cd).to_dummies(\"gender_cd\")\n",
    "try:\n",
    "    assert _ans.equals(df)\n",
    "except (AssertionError, NameError):\n",
    "    print(\"\\x1b[31mNG\\x1b[39m\")\n",
    "    display(Markdown(\"**期待する結果**\"))\n",
    "    display(_ans.head(3))\n",
    "else:\n",
    "    print(\"\\x1b[32mOK\\x1b[39m\")"
   ]
  },
  {
   "cell_type": "markdown",
   "id": "c0bac78c-1909-4e80-bd43-bf9c5736303a",
   "metadata": {
    "deletable": true,
    "editable": true,
    "frozen": false
   },
   "source": [
    "---"
   ]
  },
  {
   "cell_type": "markdown",
   "id": "93d3d6a5-0635-4464-9cf3-812b25ebe464",
   "metadata": {
    "deletable": false,
    "editable": false,
    "frozen": true
   },
   "source": [
    "### `問題J14`\n",
    "\n",
    "顧客データ（`df_customer`）から次の要件で作成し、変数`df`に入れてください。そして、`df`の先頭の3行を表示してください。\n",
    "\n",
    "* ランダムに1%のデータを抽出すること\n",
    "  * `seed`は0とすること\n",
    "\n",
    "**解答欄**"
   ]
  },
  {
   "cell_type": "code",
   "execution_count": null,
   "id": "858ea513-37fd-47b6-9344-2a2181a8dadc",
   "metadata": {
    "deletable": true,
    "editable": true,
    "frozen": false
   },
   "outputs": [],
   "source": [
    "# ここから解答を作成してください\n"
   ]
  },
  {
   "cell_type": "markdown",
   "id": "5d9f7112-9ea7-476a-9e64-072f1a010f70",
   "metadata": {
    "deletable": false,
    "editable": false,
    "frozen": true
   },
   "source": [
    "<details><summary>解答例</summary>\n",
    "<br>\n",
    "\n",
    "```python\n",
    "df = df_customer.sample(fraction=0.01, seed=0)\n",
    "df.head(3)\n",
    "```\n",
    "</details>\n",
    "<br>\n",
    "\n",
    "**確認**"
   ]
  },
  {
   "cell_type": "code",
   "execution_count": null,
   "id": "6a67f839-2419-48b9-ad45-0298ce35c689",
   "metadata": {
    "deletable": false,
    "editable": false,
    "frozen": false,
    "jupyter": {
     "source_hidden": true
    }
   },
   "outputs": [],
   "source": [
    "# このセルを実行してください\n",
    "_ans = df_customer.sample(fraction=0.01, seed=0)\n",
    "try:\n",
    "    assert _ans.equals(df)\n",
    "except (AssertionError, NameError):\n",
    "    print(\"\\x1b[31mNG\\x1b[39m\")\n",
    "    display(Markdown(\"**期待する結果**\"))\n",
    "    display(_ans.head(3))\n",
    "else:\n",
    "    print(\"\\x1b[32mOK\\x1b[39m\")"
   ]
  },
  {
   "cell_type": "markdown",
   "id": "d77c906d-dd62-4cfa-9b31-f985035e174d",
   "metadata": {
    "deletable": true,
    "editable": true,
    "frozen": false
   },
   "source": [
    "---"
   ]
  },
  {
   "cell_type": "markdown",
   "id": "a7ba361c-e861-44bd-80f4-8bdf2eb4ea57",
   "metadata": {
    "deletable": false,
    "editable": false,
    "frozen": true
   },
   "source": [
    "### `問題J16`\n",
    "\n",
    "顧客データ（`df_customer`）から次の要件で作成し、変数`df`に入れてください。そして、`df`の先頭の3行を表示してください。\n",
    "\n",
    "* 性別コード（`gender_cd`）の割合に基づきランダムに10%のデータを層化抽出すること\n",
    "  * **`seed`は43とする**こと\n",
    "* 出力する列\n",
    "  * 性別コード（`gender_cd`）\n",
    "  * 顧客ID（`customer_id`）\n",
    "\n",
    "**解答欄**"
   ]
  },
  {
   "cell_type": "code",
   "execution_count": null,
   "id": "9973738f-1689-40ed-bbe4-8549566be705",
   "metadata": {
    "deletable": true,
    "editable": true,
    "frozen": false
   },
   "outputs": [],
   "source": [
    "# ここから解答を作成してください\n"
   ]
  },
  {
   "cell_type": "markdown",
   "id": "7e2e5f1b-2809-459d-a061-8cabc13d11f0",
   "metadata": {
    "deletable": false,
    "editable": false,
    "frozen": true
   },
   "source": [
    "<details><summary>解答例</summary>\n",
    "<br>\n",
    "\n",
    "```python\n",
    "df = df_customer.group_by(col.gender_cd).agg(\n",
    "    col.customer_id.sample(fraction=0.1, seed=43),\n",
    ").explode(col.customer_id)\n",
    "df.head(3)\n",
    "```\n",
    "<br>\n",
    "\n",
    "**別解**\n",
    "```python\n",
    "df = df_customer.sample(fraction=0.1, seed=43).select(\n",
    "    col.gender_cd, col.customer_id.over(col.gender_cd)\n",
    ")\n",
    "```\n",
    "<br>\n",
    "\n",
    "**別解**\n",
    "```python\n",
    "df = df_customer.filter(\n",
    "    pl.int_range(pl.len()).shuffle(seed=43).over(col.gender_cd)\n",
    "    < pl.len().over(col.gender_cd) * 0.1\n",
    ")\n",
    "```\n",
    "</details>\n",
    "<br>\n",
    "\n",
    "**確認**"
   ]
  },
  {
   "cell_type": "code",
   "execution_count": null,
   "id": "1da56457-0bb1-417f-9173-526bdec6bbcb",
   "metadata": {
    "deletable": false,
    "editable": false,
    "frozen": false,
    "jupyter": {
     "source_hidden": true
    }
   },
   "outputs": [],
   "source": [
    "# このセルを実行してください\n",
    "try:\n",
    "    _df = df.group_by(col.gender_cd).agg(col.customer_id.len() / 1)\n",
    "    _ans = pl.DataFrame({\"gender_cd\": [\"0\", \"1\", \"9\"], \"customer_id\": [297., 1791., 107.]})\n",
    "    assert_frame_equal(_ans, _df, check_row_order=False, atol=2)\n",
    "except (AssertionError, NameError, pl.exceptions.ColumnNotFoundError):\n",
    "    print(\"\\x1b[31mNG\\x1b[39m\")\n",
    "    display(Markdown(\"**期待する結果**\"))\n",
    "    display(_ans.head(3))\n",
    "else:\n",
    "    print(\"\\x1b[32mOK\\x1b[39m\")"
   ]
  },
  {
   "cell_type": "markdown",
   "id": "4f6b11e7-dbd1-4485-87b6-80fcdae4efa2",
   "metadata": {
    "deletable": true,
    "editable": true,
    "frozen": false
   },
   "source": [
    "---"
   ]
  },
  {
   "cell_type": "markdown",
   "id": "f38a417d-df0f-4795-bb71-47a996ef4ea5",
   "metadata": {
    "deletable": false,
    "editable": false,
    "frozen": true
   },
   "source": [
    "### `問題J18`\n",
    "\n",
    "商品データ（`df_product`）のいずれかの項目に欠損が発生しているレコードを全て削除し、変数`df`に入れてください。そして、`df.null_count()`を表示してください。\n",
    "\n",
    "**解答欄**"
   ]
  },
  {
   "cell_type": "code",
   "execution_count": null,
   "id": "c9ca068c-43f7-4f18-b821-f72bd6004a6b",
   "metadata": {
    "deletable": true,
    "editable": true,
    "frozen": false
   },
   "outputs": [],
   "source": [
    "# ここから解答を作成してください\n"
   ]
  },
  {
   "cell_type": "markdown",
   "id": "e07a8c19-1b63-41c7-bfb0-e1b87e635d37",
   "metadata": {
    "deletable": false,
    "editable": false,
    "frozen": true
   },
   "source": [
    "<details><summary>解答例</summary>\n",
    "<br>\n",
    "\n",
    "```python\n",
    "df = df_product.drop_nulls()\n",
    "df.null_count()\n",
    "```\n",
    "</details>\n",
    "<br>\n",
    "\n",
    "**確認**"
   ]
  },
  {
   "cell_type": "code",
   "execution_count": null,
   "id": "d578904f-c708-4c8a-b2c4-4d148e91cb10",
   "metadata": {
    "deletable": false,
    "editable": false,
    "frozen": false,
    "jupyter": {
     "source_hidden": true
    }
   },
   "outputs": [],
   "source": [
    "# このセルを実行してください\n",
    "_ans = df_product.drop_nulls()\n",
    "try:\n",
    "    assert _ans.equals(df)\n",
    "except (AssertionError, NameError):\n",
    "    print(\"\\x1b[31mNG\\x1b[39m\")\n",
    "    display(Markdown(\"**期待する結果**\"))\n",
    "    display(_ans.null_count())\n",
    "else:\n",
    "    print(\"\\x1b[32mOK\\x1b[39m\")"
   ]
  },
  {
   "cell_type": "markdown",
   "id": "5b29ee06-3bfe-4f16-958a-bdedb31eccac",
   "metadata": {
    "deletable": true,
    "editable": true,
    "frozen": false
   },
   "source": [
    "---"
   ]
  },
  {
   "cell_type": "markdown",
   "id": "c01c97a9-77f0-49e4-8667-9849c528ffcc",
   "metadata": {
    "deletable": false,
    "editable": false,
    "frozen": true
   },
   "source": [
    "### `問題J20`\n",
    "\n",
    "商品データ（`df_product`）の単価（`unit_price`）と原価（`unit_cost`）の欠損値について、それぞれの平均値で補完し、変数`df`に入れてください。そして、`df.null_count()`を表示してください。\n",
    "\n",
    "**解答欄**"
   ]
  },
  {
   "cell_type": "code",
   "execution_count": null,
   "id": "49f25a3e-b074-449e-b5af-a8e1f4e97684",
   "metadata": {
    "deletable": true,
    "editable": true,
    "frozen": false
   },
   "outputs": [],
   "source": [
    "# ここから解答を作成してください\n"
   ]
  },
  {
   "cell_type": "markdown",
   "id": "0a7a9a1c-3b38-48e5-8648-89a033d73c5c",
   "metadata": {
    "deletable": false,
    "editable": false,
    "frozen": true
   },
   "source": [
    "<details><summary>解答例</summary>\n",
    "<br>\n",
    "\n",
    "```python\n",
    "df = df_product.fill_null(strategy=\"mean\")\n",
    "df.null_count()\n",
    "```\n",
    "</details>\n",
    "<br>\n",
    "\n",
    "**確認**"
   ]
  },
  {
   "cell_type": "code",
   "execution_count": null,
   "id": "66bc72f1-21bd-411f-88ff-fd1142fd3477",
   "metadata": {
    "deletable": false,
    "editable": false,
    "frozen": false,
    "jupyter": {
     "source_hidden": true
    }
   },
   "outputs": [],
   "source": [
    "# このセルを実行してください\n",
    "_ans = df_product.fill_null(strategy=\"mean\")\n",
    "try:\n",
    "    assert _ans.equals(df)\n",
    "except (AssertionError, NameError):\n",
    "    print(\"\\x1b[31mNG\\x1b[39m\")\n",
    "    display(Markdown(\"**期待する結果**\"))\n",
    "    display(_ans.null_count())\n",
    "else:\n",
    "    print(\"\\x1b[32mOK\\x1b[39m\")"
   ]
  },
  {
   "cell_type": "markdown",
   "id": "f050261b-8bc4-4131-a2b6-d5a276e7ee25",
   "metadata": {
    "deletable": true,
    "editable": true,
    "frozen": false
   },
   "source": [
    "---"
   ]
  },
  {
   "cell_type": "markdown",
   "id": "447550c2-c6be-4246-8d52-27bb52f65b56",
   "metadata": {
    "deletable": false,
    "editable": false,
    "frozen": true
   },
   "source": [
    "## チャレンジ\n",
    "\n",
    "少し難易度の高い問題です。\n",
    "\n",
    "### 複数列\n",
    "\n",
    "`pl.col(列名1, 列名2, ...)`とすることで、複数列の式になります。\n",
    "\n",
    "### 集約対象のフィルタリング\n",
    "\n",
    "集約対象の式では`filter()`で絞り込みできます。\n",
    "\n",
    "### dt属性のメソッド\n",
    "\n",
    "* `weekday()`: 曜日を表す整数（月曜から日曜が1から6）\n",
    "* `truncate(every)`: `every`ごとに切り捨て\n",
    "\n",
    "### 水平方向の最小／最大\n",
    "\n",
    "* `pl.max_horizontal()`: 水平方向の最大\n",
    "* `pl.min_horizontal()`: 水平方向の最小\n"
   ]
  },
  {
   "cell_type": "markdown",
   "id": "83142330-3091-4b5b-bf88-2420f61bd65f",
   "metadata": {
    "deletable": true,
    "editable": true,
    "frozen": false
   },
   "source": [
    "---"
   ]
  },
  {
   "cell_type": "markdown",
   "id": "5944547c-5fb9-4a1b-860a-b2477f63480b",
   "metadata": {
    "deletable": false,
    "editable": false,
    "frozen": true
   },
   "source": [
    "### `問題N10`\n",
    "\n",
    "レシート明細データ（`df_receipt`）に対し、次の要件で作成し、変数`df`に入れてください。そして、`df`の先頭の3行を表示してください。\n",
    "\n",
    "* 顧客ID（`customer_id`）ごとに以下を選択\n",
    "  * 売上年月日（`sales_ymd`）\n",
    "    * 列名を`sales_ymd_max`とし、最も新しい日付とすること\n",
    "  * 売上年月日（`sales_ymd`）\n",
    "    * 列名を`sales_ymd_min`とし、最も古い日付とすること\n",
    "* `sales_ymd_max`と`sales_ymd_min`が異なるようにフィルタリング\n",
    "* 顧客IDでソート\n",
    "\n",
    "**解答欄**"
   ]
  },
  {
   "cell_type": "code",
   "execution_count": null,
   "id": "6f640931-fd94-47f4-a371-de3f69821aaf",
   "metadata": {
    "deletable": true,
    "editable": true,
    "frozen": false
   },
   "outputs": [],
   "source": [
    "# ここから解答を作成してください\n"
   ]
  },
  {
   "cell_type": "markdown",
   "id": "25a61876-e091-4214-b1c9-6e996f1df4be",
   "metadata": {
    "deletable": false,
    "editable": false,
    "frozen": true
   },
   "source": [
    "<details><summary>解答例</summary>\n",
    "<br>\n",
    "\n",
    "```python\n",
    "df = df_receipt.group_by(col.customer_id).agg(\n",
    "    sales_ymd_max=col.sales_ymd.max(),\n",
    "    sales_ymd_min=col.sales_ymd.min(),\n",
    ").filter(\n",
    "    pl.col(\"sales_ymd_max\") != pl.col(\"sales_ymd_min\")\n",
    ").sort(col.customer_id)\n",
    "df.head(3)\n",
    "```\n",
    "</details>\n",
    "<br>\n",
    "\n",
    "**確認**"
   ]
  },
  {
   "cell_type": "code",
   "execution_count": null,
   "id": "7b84eb99-906c-47a2-94a9-2eab9e331ac8",
   "metadata": {
    "deletable": false,
    "editable": false,
    "frozen": false,
    "jupyter": {
     "source_hidden": true
    }
   },
   "outputs": [],
   "source": [
    "# このセルを実行してください\n",
    "_ans = df_receipt.group_by(col.customer_id).agg(\n",
    "    sales_ymd_max=col.sales_ymd.max(),\n",
    "    sales_ymd_min=col.sales_ymd.min(),\n",
    ").filter(\n",
    "    pl.col(\"sales_ymd_max\") != pl.col(\"sales_ymd_min\")\n",
    ").sort(col.customer_id)\n",
    "try:\n",
    "    assert _ans.equals(df)\n",
    "except (AssertionError, NameError):\n",
    "    print(\"\\x1b[31mNG\\x1b[39m\")\n",
    "    display(Markdown(\"**期待する結果**\"))\n",
    "    display(_ans.head(3))\n",
    "else:\n",
    "    print(\"\\x1b[32mOK\\x1b[39m\")"
   ]
  },
  {
   "cell_type": "markdown",
   "id": "5134021f-468b-4cb2-a9d2-ad526e8376fd",
   "metadata": {
    "deletable": true,
    "editable": true,
    "frozen": false
   },
   "source": [
    "---"
   ]
  },
  {
   "cell_type": "markdown",
   "id": "8600274f-ee40-4920-87db-8ba33746b843",
   "metadata": {
    "deletable": false,
    "editable": false,
    "frozen": true
   },
   "source": [
    "### `問題N12`\n",
    "\n",
    "レシート明細データ（`df_receipt`）に対し、次の要件で作成し、変数`df`に入れてください。そして、`df`の先頭の3行を表示してください。\n",
    "\n",
    "* 顧客ID（`customer_id`）が`\"Z\"`から始まるものは非会員を表すため、除外すること\n",
    "* 顧客ID（`customer_id`）ごとに以下を選択（`maintain_order=True`をつけること）\n",
    "  * 売上金額（`amount`）の合計\n",
    "* `amount`が全顧客の平均以上でフィルタリング\n",
    "\n",
    "**解答欄**"
   ]
  },
  {
   "cell_type": "code",
   "execution_count": null,
   "id": "c2e8890f-ddf6-4347-846b-ba82023777c5",
   "metadata": {
    "deletable": true,
    "editable": true,
    "frozen": false
   },
   "outputs": [],
   "source": [
    "# ここから解答を作成してください\n"
   ]
  },
  {
   "cell_type": "markdown",
   "id": "c3553050-1772-437f-b192-5d6d8f81251a",
   "metadata": {
    "deletable": false,
    "editable": false,
    "frozen": true
   },
   "source": [
    "<details><summary>解答例</summary>\n",
    "<br>\n",
    "\n",
    "```python\n",
    "df = (\n",
    "    df_receipt.filter(col.customer_id.str.starts_with(\"Z\").not_())\n",
    "    .group_by(col.customer_id, maintain_order=True)\n",
    "    .agg(col.amount.sum())\n",
    "    .filter(col.amount >= col.amount.mean())\n",
    ")\n",
    "df.head(3)\n",
    "```\n",
    "</details>\n",
    "<br>\n",
    "\n",
    "**確認**"
   ]
  },
  {
   "cell_type": "code",
   "execution_count": null,
   "id": "a9125c3f-37c8-4f3a-bc5b-fbdcea760812",
   "metadata": {
    "deletable": false,
    "editable": false,
    "frozen": false,
    "jupyter": {
     "source_hidden": true
    }
   },
   "outputs": [],
   "source": [
    "# このセルを実行してください\n",
    "_ans = (\n",
    "    df_receipt.filter(col.customer_id.str.starts_with(\"Z\").not_())\n",
    "    .group_by(col.customer_id, maintain_order=True)\n",
    "    .agg(col.amount.sum())\n",
    "    .filter(col.amount >= col.amount.mean())\n",
    ")\n",
    "try:\n",
    "    assert _ans.equals(df)\n",
    "except (AssertionError, NameError):\n",
    "    print(\"\\x1b[31mNG\\x1b[39m\")\n",
    "    display(Markdown(\"**期待する結果**\"))\n",
    "    display(_ans.head(3))\n",
    "else:\n",
    "    print(\"\\x1b[32mOK\\x1b[39m\")"
   ]
  },
  {
   "cell_type": "markdown",
   "id": "1e234a29-9016-4dcd-b221-2908170f4b4b",
   "metadata": {
    "deletable": true,
    "editable": true,
    "frozen": false
   },
   "source": [
    "---"
   ]
  },
  {
   "cell_type": "markdown",
   "id": "70c33046-c529-4e06-9bb0-5181a7f0a603",
   "metadata": {
    "deletable": false,
    "editable": false,
    "frozen": true
   },
   "source": [
    "### `問題N14`\n",
    "\n",
    "顧客データ（`df_customer`）に対し、次の要件で作成し、変数`df`に入れてください。そして、`df`の先頭の3行を表示してください。\n",
    "\n",
    "* 性別コード（`gender_cd`）が女性（`\"1\"`）であるものを対象とすること\n",
    "* 以下の列があること\n",
    "  * 顧客ID（`customer_id`）\n",
    "  * レシート明細データ（`df_receipt`）の顧客ごとの売上金額（`amount`）の合計\n",
    "    * 売上実績がない顧客については売上金額を0とすること\n",
    "\n",
    "**解答欄**"
   ]
  },
  {
   "cell_type": "code",
   "execution_count": null,
   "id": "2aaa3385-d887-406f-a798-d408eb365ebc",
   "metadata": {
    "deletable": true,
    "editable": true,
    "frozen": false
   },
   "outputs": [],
   "source": [
    "# ここから解答を作成してください\n"
   ]
  },
  {
   "cell_type": "markdown",
   "id": "df9c9774-665c-4375-bca9-38acd79aac66",
   "metadata": {
    "deletable": false,
    "editable": false,
    "frozen": true
   },
   "source": [
    "<details><summary>解答例</summary>\n",
    "<br>\n",
    "\n",
    "```python\n",
    "df = (\n",
    "    df_customer.filter(col.gender_cd == \"1\")\n",
    "    .join(\n",
    "        df_receipt.group_by(col.customer_id).agg(col.amount.sum()),\n",
    "        on=col.customer_id,\n",
    "        how=\"left\",\n",
    "    )\n",
    "    .select(col.customer_id, col.amount)\n",
    "    .fill_null(0)\n",
    ")\n",
    "df.head(3)\n",
    "```\n",
    "</details>\n",
    "<br>\n",
    "\n",
    "**確認**"
   ]
  },
  {
   "cell_type": "code",
   "execution_count": null,
   "id": "40373323-7e22-4337-8d30-61906897ef09",
   "metadata": {
    "deletable": false,
    "editable": false,
    "frozen": false,
    "jupyter": {
     "source_hidden": true
    }
   },
   "outputs": [],
   "source": [
    "# このセルを実行してください\n",
    "_ans = (\n",
    "    df_customer.filter(col.gender_cd == \"1\")\n",
    "    .join(\n",
    "        df_receipt.group_by(col.customer_id).agg(col.amount.sum()),\n",
    "        on=col.customer_id,\n",
    "        how=\"left\",\n",
    "    )\n",
    "    .select(col.customer_id, col.amount)\n",
    "    .fill_null(0)\n",
    ")\n",
    "try:\n",
    "    assert _ans.equals(df)\n",
    "except (AssertionError, NameError):\n",
    "    print(\"\\x1b[31mNG\\x1b[39m\")\n",
    "    display(Markdown(\"**期待する結果**\"))\n",
    "    display(_ans.head(3))\n",
    "else:\n",
    "    print(\"\\x1b[32mOK\\x1b[39m\")"
   ]
  },
  {
   "cell_type": "markdown",
   "id": "8f235ebf-aaea-49af-bc4b-737f6791e68f",
   "metadata": {
    "deletable": true,
    "editable": true,
    "frozen": false
   },
   "source": [
    "---"
   ]
  },
  {
   "cell_type": "markdown",
   "id": "40b7c53d-139a-4045-b149-cadd40a243df",
   "metadata": {
    "deletable": false,
    "editable": false,
    "frozen": true
   },
   "source": [
    "### `問題N16`\n",
    "\n",
    "レシート明細データ（`df_receipt`）に対し、次の要件で作成し、変数`df`に入れてください。そして、`df`の先頭の3行を表示してください。\n",
    "\n",
    "* 日付（`sales_ymd`）ごとに以下を選択\n",
    "  * 売上金額（`amount`）の合計\n",
    "* 以下の列を追加\n",
    "  * 列名を`amount_diff`とし、前回売上があった日からの売上金額の差とすること\n",
    "\n",
    "**解答欄**"
   ]
  },
  {
   "cell_type": "code",
   "execution_count": null,
   "id": "adc2fd0c-d809-45b2-8c76-c5b051f3da0c",
   "metadata": {
    "deletable": true,
    "editable": true,
    "frozen": false
   },
   "outputs": [],
   "source": [
    "# ここから解答を作成してください\n"
   ]
  },
  {
   "cell_type": "markdown",
   "id": "e6ff1e10-52a2-43c9-9dac-a17c85d56afe",
   "metadata": {
    "deletable": false,
    "editable": false,
    "frozen": true
   },
   "source": [
    "<details><summary>解答例</summary>\n",
    "<br>\n",
    "\n",
    "```python\n",
    "df = (\n",
    "    df_receipt.group_by(col.sales_ymd)\n",
    "    .agg(col.amount.sum())\n",
    "    .sort(col.sales_ymd)\n",
    "    .with_columns(amount_diff=col.amount.diff())\n",
    ")\n",
    "df.head(3)\n",
    "```\n",
    "「前回売上があった日」を計算するためには、`sales_ymd`でソートしないといけません。\n",
    "</details>\n",
    "<br>\n",
    "\n",
    "**確認**"
   ]
  },
  {
   "cell_type": "code",
   "execution_count": null,
   "id": "df93350b-1c69-4f77-86df-a2cee792a171",
   "metadata": {
    "deletable": false,
    "editable": false,
    "frozen": false,
    "jupyter": {
     "source_hidden": true
    }
   },
   "outputs": [],
   "source": [
    "# このセルを実行してください\n",
    "_ans = (\n",
    "    df_receipt.group_by(col.sales_ymd)\n",
    "    .agg(col.amount.sum())\n",
    "    .sort(col.sales_ymd)\n",
    "    .with_columns(amount_diff=col.amount.diff())\n",
    ")\n",
    "try:\n",
    "    assert _ans.equals(df)\n",
    "except (AssertionError, NameError):\n",
    "    print(\"\\x1b[31mNG\\x1b[39m\")\n",
    "    display(Markdown(\"**期待する結果**\"))\n",
    "    display(_ans.head(3))\n",
    "else:\n",
    "    print(\"\\x1b[32mOK\\x1b[39m\")"
   ]
  },
  {
   "cell_type": "markdown",
   "id": "5db543c6-c87a-4f4a-99c3-93f7fcf60719",
   "metadata": {
    "deletable": true,
    "editable": true,
    "frozen": false
   },
   "source": [
    "---"
   ]
  },
  {
   "cell_type": "markdown",
   "id": "c2bbae93-7be0-4fe6-82c7-cd55556ff78b",
   "metadata": {
    "deletable": false,
    "editable": false,
    "frozen": true
   },
   "source": [
    "### `問題N18`\n",
    "\n",
    "レシート明細データ（`df_receipt`）に対し、次の要件で作成し、変数`df`に入れてください。そして、`df`の先頭の3行を表示してください。\n",
    "\n",
    "* 日付（`sales_ymd`）ごとに以下を選択\n",
    "  * 売上金額（`amount`）の合計\n",
    "* 以下の列を追加\n",
    "  * 列名を`prev_ymd`とし、前回売上があった日\n",
    "  * 列名を`amount_diff`とし、前回売上があった日からの売上金額の差とすること\n",
    "\n",
    "**解答欄**"
   ]
  },
  {
   "cell_type": "code",
   "execution_count": null,
   "id": "6b27700b-f5dd-4750-aaa6-b297e33dcae3",
   "metadata": {
    "deletable": true,
    "editable": true,
    "frozen": false
   },
   "outputs": [],
   "source": [
    "# ここから解答を作成してください\n"
   ]
  },
  {
   "cell_type": "markdown",
   "id": "94f0eb11-5be3-4905-b947-a111dc95a1fc",
   "metadata": {
    "deletable": false,
    "editable": false,
    "frozen": true
   },
   "source": [
    "<details><summary>解答例</summary>\n",
    "<br>\n",
    "\n",
    "```python\n",
    "df = (\n",
    "    df_receipt.group_by(col.sales_ymd)\n",
    "    .agg(col.amount.sum())\n",
    "    .sort(col.sales_ymd)\n",
    "    .with_columns(prev_ymd=col.sales_ymd.shift(), amount_diff=col.amount.diff())\n",
    ")\n",
    "df.head(3)\n",
    "```\n",
    "</details>\n",
    "<br>\n",
    "\n",
    "**確認**"
   ]
  },
  {
   "cell_type": "code",
   "execution_count": null,
   "id": "385c4a2f-616d-4f43-a4f5-6170d9b75db9",
   "metadata": {
    "deletable": false,
    "editable": false,
    "frozen": false,
    "jupyter": {
     "source_hidden": true
    }
   },
   "outputs": [],
   "source": [
    "# このセルを実行してください\n",
    "_ans = (\n",
    "    df_receipt.group_by(col.sales_ymd)\n",
    "    .agg(col.amount.sum())\n",
    "    .sort(col.sales_ymd)\n",
    "    .with_columns(prev_ymd=col.sales_ymd.shift(), amount_diff=col.amount.diff())\n",
    ")\n",
    "try:\n",
    "    assert _ans.equals(df)\n",
    "except (AssertionError, NameError):\n",
    "    print(\"\\x1b[31mNG\\x1b[39m\")\n",
    "    display(Markdown(\"**期待する結果**\"))\n",
    "    display(_ans.head(3))\n",
    "else:\n",
    "    print(\"\\x1b[32mOK\\x1b[39m\")"
   ]
  },
  {
   "cell_type": "markdown",
   "id": "f515fe36-47b2-4fc6-b69a-5205d3cd8f8b",
   "metadata": {
    "deletable": true,
    "editable": true,
    "frozen": false
   },
   "source": [
    "---"
   ]
  },
  {
   "cell_type": "markdown",
   "id": "2598aa47-3915-4653-88de-1c223c72ce6a",
   "metadata": {
    "deletable": false,
    "editable": false,
    "frozen": true
   },
   "source": [
    "### `問題N20`\n",
    "\n",
    "次の要件で作成し、変数`df`に入れてください。そして、`df`の先頭の3行を表示してください。\n",
    "\n",
    "* レシート明細データ（`df_receipt`）を顧客データ（`df_customer`）と、顧客ID（`customer_id`）をキーに結合すること\n",
    "* 列名を`era`とし、年齢（`age`）から年代を計算すること（10代は`10`とすること）\n",
    "* 以下のピボットテーブルを作成すること\n",
    "  * 列: `gender`\n",
    "  * インデックス: `era`\n",
    "  * 値: `amount`の合計\n",
    "  * 列名をソートすること\n",
    "* 年代順にソートすること\n",
    "\n",
    "**解答欄**"
   ]
  },
  {
   "cell_type": "code",
   "execution_count": null,
   "id": "52866230-6911-4565-9bd9-bf24ec7da8f3",
   "metadata": {
    "deletable": true,
    "editable": true,
    "frozen": false
   },
   "outputs": [],
   "source": [
    "# ここから解答を作成してください\n"
   ]
  },
  {
   "cell_type": "markdown",
   "id": "dda40da0-06ab-45f1-98fe-ba720c752367",
   "metadata": {
    "deletable": false,
    "editable": false,
    "frozen": true
   },
   "source": [
    "<details><summary>解答例</summary>\n",
    "<br>\n",
    "\n",
    "```python\n",
    "df = (\n",
    "    df_customer.join(df_receipt, on=col.customer_id)\n",
    "    .with_columns(era=col.age // 10 * 10)\n",
    "    .pivot(\n",
    "        \"gender\",\n",
    "        index=\"era\",\n",
    "        values=\"amount\",\n",
    "        aggregate_function=\"sum\",\n",
    "        sort_columns=True,\n",
    "    )\n",
    "    .sort(\"era\")\n",
    ")\n",
    "df.head(3)\n",
    "```\n",
    "</details>\n",
    "<br>\n",
    "\n",
    "**確認**"
   ]
  },
  {
   "cell_type": "code",
   "execution_count": null,
   "id": "f4739d5d-49d7-4a85-a796-76974f23cc8d",
   "metadata": {
    "deletable": false,
    "editable": false,
    "frozen": false,
    "jupyter": {
     "source_hidden": true
    }
   },
   "outputs": [],
   "source": [
    "# このセルを実行してください\n",
    "_ans = (\n",
    "    df_customer.join(df_receipt, on=col.customer_id)\n",
    "    .with_columns(era=col.age // 10 * 10)\n",
    "    .pivot(\n",
    "        \"gender\",\n",
    "        index=\"era\",\n",
    "        values=\"amount\",\n",
    "        aggregate_function=\"sum\",\n",
    "        sort_columns=True,\n",
    "    )\n",
    "    .sort(\"era\")\n",
    ")\n",
    "try:\n",
    "    assert _ans.equals(df)\n",
    "except (AssertionError, NameError):\n",
    "    print(\"\\x1b[31mNG\\x1b[39m\")\n",
    "    display(Markdown(\"**期待する結果**\"))\n",
    "    display(_ans.head(3))\n",
    "else:\n",
    "    print(\"\\x1b[32mOK\\x1b[39m\")"
   ]
  },
  {
   "cell_type": "markdown",
   "id": "6d3b2ff9-4ec9-4d8a-89be-a309ad57c3f2",
   "metadata": {
    "deletable": true,
    "editable": true,
    "frozen": false
   },
   "source": [
    "---"
   ]
  },
  {
   "cell_type": "markdown",
   "id": "78748275-45de-405c-9686-77e74272e0f0",
   "metadata": {
    "deletable": false,
    "editable": false,
    "frozen": true
   },
   "source": [
    "### `問題N22`\n",
    "\n",
    "次の要件で作成し、変数`df`に入れてください。そして、`df`の先頭の3行を表示してください。\n",
    "\n",
    "* レシート明細データ（`df_receipt`）を顧客データ（`df_customer`）と、顧客ID（`customer_id`）をキーに結合すること\n",
    "* 列名を`era`とし、年齢（`age`）から年代を計算すること（10代は`10`とすること）\n",
    "* 以下のピボットテーブルを作成すること\n",
    "  * 列: `gender`。ただし、`_dc`を使って、\"unknown\"、\"female\"、\"male\"に変換すること\n",
    "  * インデックス: `era`\n",
    "  * 値: `amount`の合計\n",
    "  * 列名をソートすること\n",
    "* 年代順にソートすること\n",
    "\n",
    "**解答欄**"
   ]
  },
  {
   "cell_type": "code",
   "execution_count": null,
   "id": "fba5b678-b862-4d88-b2f2-fe5119aa8bb4",
   "metadata": {
    "deletable": true,
    "editable": true,
    "frozen": false
   },
   "outputs": [],
   "source": [
    "_dc = {\"不明\": \"unknown\", \"女性\": \"female\", \"男性\": \"male\"}\n",
    "\n",
    "# ここから解答を作成してください\n"
   ]
  },
  {
   "cell_type": "markdown",
   "id": "eb1af688-26ff-444e-97ca-272ee841d668",
   "metadata": {
    "deletable": false,
    "editable": false,
    "frozen": true
   },
   "source": [
    "<details><summary>解答例</summary>\n",
    "<br>\n",
    "\n",
    "```python\n",
    "df = (\n",
    "    df_customer.join(df_receipt, on=col.customer_id)\n",
    "    .with_columns(col.gender.replace_strict(_dc), era=col.age // 10 * 10)\n",
    "    .pivot(\n",
    "        \"gender\",\n",
    "        index=\"era\",\n",
    "        values=\"amount\",\n",
    "        aggregate_function=\"sum\",\n",
    "        sort_columns=True,\n",
    "    )\n",
    "    .sort(\"era\")\n",
    ")\n",
    "df.head(3)\n",
    "```\n",
    "<br>\n",
    "\n",
    "**別解**\n",
    "```python\n",
    "df = (\n",
    "    df_customer.join(df_receipt, on=col.customer_id)\n",
    "    .with_columns(col.gender.replace_strict(_dc), era=col.age // 10 * 10)\n",
    "    .group_by(\"era\", col.gender).agg(col.amount.sum())\n",
    "    .pivot(\n",
    "        \"gender\",\n",
    "        index=\"era\",\n",
    "        values=\"amount\",\n",
    "        sort_columns=True,\n",
    "    )\n",
    "    .sort(\"era\")\n",
    ")\n",
    "```\n",
    "</details>\n",
    "<br>\n",
    "\n",
    "**確認**"
   ]
  },
  {
   "cell_type": "code",
   "execution_count": null,
   "id": "d0780e02-a60a-4a2b-a736-d0a6e0ba6ee1",
   "metadata": {
    "deletable": false,
    "editable": false,
    "frozen": false,
    "jupyter": {
     "source_hidden": true
    }
   },
   "outputs": [],
   "source": [
    "# このセルを実行してください\n",
    "try:\n",
    "    _ans = (\n",
    "        df_customer.join(df_receipt, on=col.customer_id)\n",
    "        .with_columns(col.gender.replace_strict(_dc), era=col.age // 10 * 10)\n",
    "        .pivot(\n",
    "            \"gender\",\n",
    "            index=\"era\",\n",
    "            values=\"amount\",\n",
    "            aggregate_function=\"sum\",\n",
    "            sort_columns=True,\n",
    "        )\n",
    "        .sort(\"era\")\n",
    "    )\n",
    "    assert _ans.equals(df)\n",
    "except (AssertionError, NameError):\n",
    "    print(\"\\x1b[31mNG\\x1b[39m\")\n",
    "    display(Markdown(\"**期待する結果**\"))\n",
    "    display(_ans.head(3))\n",
    "else:\n",
    "    print(\"\\x1b[32mOK\\x1b[39m\")"
   ]
  },
  {
   "cell_type": "markdown",
   "id": "495c94e6-f3ae-4d80-81de-5e0d9465ceaa",
   "metadata": {
    "deletable": true,
    "editable": true,
    "frozen": false
   },
   "source": [
    "---"
   ]
  },
  {
   "cell_type": "markdown",
   "id": "0fdbad89-0b57-4eef-9c0d-033eee65b0bc",
   "metadata": {
    "deletable": false,
    "editable": false,
    "frozen": true
   },
   "source": [
    "### `問題N24`\n",
    "\n",
    "時間割の一部のデータ（`_df_table`）は横持ちのデータです。これを次のように縦持ちに変換し、変数`df`に入れてください。そして、`df`を表示してください。\n",
    "\n",
    "**期待する結果**\n",
    "\n",
    "<div style=\"background: white;\"><small>shape: (6, 3)</small>\n",
    "<table border=\"1\" style=\"margin-left: 0;\"><thead>\n",
    "<thead><tr><th>時間</th><th>曜日</th><th>教科</th></tr><tr><td>i64</td><td>str</td><td>str</td></tr>\n",
    "</thead><tbody>\n",
    "<tr><td>1</td><td>&quot;月&quot;</td><td>&quot;国&quot;</td></tr><tr><td>2</td><td>&quot;月&quot;</td><td>&quot;数&quot;</td>\n",
    "</tr><tr><td>3</td><td>&quot;月&quot;</td><td>&quot;社&quot;</td></tr><tr><td>1</td><td>&quot;火&quot;</td><td>&quot;理&quot;</td></tr>\n",
    "<tr><td>2</td><td>&quot;火&quot;</td><td>&quot;音&quot;</td></tr><tr><td>3</td><td>&quot;火&quot;</td><td>&quot;体&quot;</td></tr>\n",
    "</tbody></table></div>\n",
    "\n",
    "**解答欄**"
   ]
  },
  {
   "cell_type": "code",
   "execution_count": null,
   "id": "c2989ce6-d28a-496f-9ae5-6707f7d3b695",
   "metadata": {
    "deletable": true,
    "editable": true,
    "frozen": false
   },
   "outputs": [],
   "source": [
    "_df_table = pl.DataFrame(\n",
    "    {\n",
    "        \"時間\": [1, 2, 3],\n",
    "        \"月\": [\"国\", \"数\", \"社\"],\n",
    "        \"火\": [\"理\", \"音\", \"体\"],\n",
    "    }\n",
    ")\n",
    "\n",
    "# ここから解答を作成してください\n"
   ]
  },
  {
   "cell_type": "markdown",
   "id": "dcd95f9b-ec61-4e93-a18d-abff69c6484a",
   "metadata": {
    "deletable": false,
    "editable": false,
    "frozen": true
   },
   "source": [
    "<details><summary>解答例</summary>\n",
    "<br>\n",
    "\n",
    "```python\n",
    "df = _df_table.unpivot(index=\"時間\", variable_name=\"曜日\", value_name=\"教科\")\n",
    "df\n",
    "```\n",
    "</details>\n",
    "<br>\n",
    "\n",
    "**確認**"
   ]
  },
  {
   "cell_type": "code",
   "execution_count": null,
   "id": "2e63a26f-e4ab-4de9-9b00-b96d8acfb283",
   "metadata": {
    "deletable": false,
    "editable": false,
    "frozen": false,
    "jupyter": {
     "source_hidden": true
    }
   },
   "outputs": [],
   "source": [
    "# このセルを実行してください\n",
    "try:\n",
    "    _ans = _df_table.unpivot(index=\"時間\", variable_name=\"曜日\", value_name=\"教科\")\n",
    "    assert _ans.equals(df)\n",
    "except (AssertionError, NameError):\n",
    "    print(\"\\x1b[31mNG\\x1b[39m\")\n",
    "    display(Markdown(\"**期待する結果**\"))\n",
    "    display(_ans)\n",
    "else:\n",
    "    print(\"\\x1b[32mOK\\x1b[39m\")"
   ]
  },
  {
   "cell_type": "markdown",
   "id": "18cf0d88-945b-4c9f-99db-f6105a646941",
   "metadata": {
    "deletable": true,
    "editable": true,
    "frozen": false
   },
   "source": [
    "---"
   ]
  },
  {
   "cell_type": "markdown",
   "id": "fe249ac2-ea58-494f-b225-0335833cd022",
   "metadata": {
    "deletable": false,
    "editable": false,
    "frozen": true
   },
   "source": [
    "### `問題N26`\n",
    "\n",
    "顧客データ（`df_customer`）に対し、次の要件で作成し、変数`df`に入れてください。そして、`df`の先頭の3行を表示してください。\n",
    "\n",
    "* 出力する列\n",
    "  * 顧客ID（`customer_id`）\n",
    "  * 住所（`address`）\n",
    "  * 住所（`address`）\n",
    "    * 列名を`prefecture`とし、都道府県名を抜き出すこと\n",
    "\n",
    "**解答欄**"
   ]
  },
  {
   "cell_type": "code",
   "execution_count": null,
   "id": "ea74ae69-fbe6-453e-aebb-ef5114f1cbdc",
   "metadata": {
    "deletable": true,
    "editable": true,
    "frozen": false
   },
   "outputs": [],
   "source": [
    "# ここから解答を作成してください\n"
   ]
  },
  {
   "cell_type": "markdown",
   "id": "75e5b15e-ce54-4a84-b806-06ef521a3409",
   "metadata": {
    "deletable": false,
    "editable": false,
    "frozen": true
   },
   "source": [
    "<details><summary>解答例</summary>\n",
    "<br>\n",
    "\n",
    "```python\n",
    "df = df_customer.select(\n",
    "    col.customer_id,\n",
    "    col.address,\n",
    "    prefecture=col.address.str.extract(\"(...?[都道府県])\"),\n",
    ")\n",
    "df.head(3)\n",
    "```\n",
    "</details>\n",
    "<br>\n",
    "\n",
    "**確認**"
   ]
  },
  {
   "cell_type": "code",
   "execution_count": null,
   "id": "282e9f50-887e-49c4-a990-57190f6684a1",
   "metadata": {
    "deletable": false,
    "editable": false,
    "frozen": false,
    "jupyter": {
     "source_hidden": true
    }
   },
   "outputs": [],
   "source": [
    "# このセルを実行してください\n",
    "_ans = df_customer.select(\n",
    "    col.customer_id,\n",
    "    col.address,\n",
    "    prefecture=col.address.str.extract(\"(...?[都道府県])\"),\n",
    ")\n",
    "try:\n",
    "    assert _ans.equals(df)\n",
    "except (AssertionError, NameError):\n",
    "    print(\"\\x1b[31mNG\\x1b[39m\")\n",
    "    display(Markdown(\"**期待する結果**\"))\n",
    "    display(_ans.head(3))\n",
    "else:\n",
    "    print(\"\\x1b[32mOK\\x1b[39m\")"
   ]
  },
  {
   "cell_type": "markdown",
   "id": "32d6b35b-44e3-4453-8c2b-07f671d63a73",
   "metadata": {
    "deletable": true,
    "editable": true,
    "frozen": false
   },
   "source": [
    "---"
   ]
  },
  {
   "cell_type": "markdown",
   "id": "464a3a86-d9fb-4341-ad84-eac967ec9b07",
   "metadata": {
    "deletable": false,
    "editable": false,
    "frozen": true
   },
   "source": [
    "### `問題N28`\n",
    "\n",
    "レシート明細データ（`df_receipt`）に対し、次の要件で作成し、変数`df`に入れてください。そして、`df`の先頭の3行を表示してください。\n",
    "\n",
    "* 非会員を除くこと（非会員は、顧客IDが`\"Z\"`で始まる）\n",
    "* 顧客IDごとに以下の列\n",
    "  * 顧客ID（`customer_id`）\n",
    "  * 売上金額（`amount`）\n",
    "    * 合計\n",
    "  * 売上金額（`amount`）\n",
    "    * 列名を`std_amount`とし、売上金額合計を平均0、標準偏差1に標準化すること\n",
    "* 顧客IDでソートすること\n",
    "\n",
    "**解答欄**"
   ]
  },
  {
   "cell_type": "code",
   "execution_count": null,
   "id": "48779cd4-7793-4bcb-875c-d2d1f1070746",
   "metadata": {
    "deletable": true,
    "editable": true,
    "frozen": false
   },
   "outputs": [],
   "source": [
    "# ここから解答を作成してください\n"
   ]
  },
  {
   "cell_type": "markdown",
   "id": "23e330f2-80b9-4a8d-aa14-384b30e466af",
   "metadata": {
    "deletable": false,
    "editable": false,
    "frozen": true
   },
   "source": [
    "<details><summary>解答例</summary>\n",
    "<br>\n",
    "\n",
    "```python\n",
    "df = (\n",
    "    df_receipt.filter(col.customer_id.str.starts_with(\"Z\").not_())\n",
    "    .group_by(col.customer_id)\n",
    "    .agg(col.amount.sum())\n",
    "    .with_columns(\n",
    "        std_amount=(col.amount - col.amount.mean()) / col.amount.std()\n",
    "    )\n",
    "    .sort(col.customer_id)\n",
    ")\n",
    "df.head(3)\n",
    "```\n",
    "</details>\n",
    "<br>\n",
    "\n",
    "**確認**"
   ]
  },
  {
   "cell_type": "code",
   "execution_count": null,
   "id": "b43ef04d-5561-44a7-91f9-b3c88edb1f9e",
   "metadata": {
    "deletable": false,
    "editable": false,
    "frozen": false,
    "jupyter": {
     "source_hidden": true
    }
   },
   "outputs": [],
   "source": [
    "# このセルを実行してください\n",
    "_ans = (\n",
    "    df_receipt.filter(col.customer_id.str.starts_with(\"Z\").not_())\n",
    "    .group_by(col.customer_id)\n",
    "    .agg(col.amount.sum())\n",
    "    .with_columns(\n",
    "        std_amount=(col.amount - col.amount.mean()) / col.amount.std()\n",
    "    )\n",
    "    .sort(col.customer_id)\n",
    ")\n",
    "try:\n",
    "    assert_frame_equal(_ans, df)\n",
    "except (AssertionError, NameError):\n",
    "    print(\"\\x1b[31mNG\\x1b[39m\")\n",
    "    display(Markdown(\"**期待する結果**\"))\n",
    "    display(_ans.head(3))\n",
    "else:\n",
    "    print(\"\\x1b[32mOK\\x1b[39m\")"
   ]
  },
  {
   "cell_type": "markdown",
   "id": "021db05f-54fd-4b50-a57b-5a49d8d8beff",
   "metadata": {
    "deletable": true,
    "editable": true,
    "frozen": false
   },
   "source": [
    "---"
   ]
  },
  {
   "cell_type": "markdown",
   "id": "555229d9-cdc7-4e98-9ecd-916db8c31ccb",
   "metadata": {
    "deletable": false,
    "editable": false,
    "frozen": true
   },
   "source": [
    "### `問題N30`\n",
    "\n",
    "レシート明細データ（`df_receipt`）と商品データ（`df_product`）をキー`product_cd`で結合して次の要件で作成し、変数`df`に入れてください。そして、`df`の先頭の3行を表示してください。\n",
    "\n",
    "* 出力する列（顧客ごと）\n",
    "  * 顧客ID（`customer_id`）\n",
    "  * 売上金額（`amount`）を合計し、列名を`sum_all`とすること\n",
    "  * 次の条件で売上金額（`amount`）を合計し、列名を`sum_07`とすること\n",
    "    * カテゴリ大区分コード（`category_major_cd`）が`\"07\"`（瓶詰缶詰）のみ\n",
    "  * 列名を`sales_rate`とし、`sum_07`の`sum_all`に対する比を計算すること\n",
    "* `sales_rate`が0を除くこと\n",
    "* 顧客IDでソートすること\n",
    "\n",
    "**解答欄**"
   ]
  },
  {
   "cell_type": "code",
   "execution_count": null,
   "id": "5dfa4c11-8d58-4c46-8bc1-3b5771feb3b5",
   "metadata": {
    "deletable": true,
    "editable": true,
    "frozen": false
   },
   "outputs": [],
   "source": [
    "# ここから解答を作成してください\n"
   ]
  },
  {
   "cell_type": "markdown",
   "id": "7da459ed-2e7a-4a06-8e04-282f631ae89e",
   "metadata": {
    "deletable": false,
    "editable": false,
    "frozen": true
   },
   "source": [
    "<details><summary>解答例</summary>\n",
    "<br>\n",
    "\n",
    "```python\n",
    "df = (\n",
    "    df_receipt.join(df_product, on=col.product_cd)\n",
    "    .group_by(col.customer_id)\n",
    "    .agg(\n",
    "        sum_all=col.amount.sum(),\n",
    "        sum_07=col.amount.filter(col.category_major_cd == \"07\").sum(),\n",
    "    )\n",
    "    .with_columns(sales_rate=pl.col(\"sum_07\") / pl.col(\"sum_all\"))\n",
    "    .filter(pl.col(\"sales_rate\") > 0)\n",
    "    .sort(col.customer_id)\n",
    ")\n",
    "df.head(3)\n",
    "```\n",
    "</details>\n",
    "<br>\n",
    "\n",
    "**確認**"
   ]
  },
  {
   "cell_type": "code",
   "execution_count": null,
   "id": "07866344-5bd3-4efc-a04b-7aae5ddfc3b8",
   "metadata": {
    "deletable": false,
    "editable": false,
    "frozen": false,
    "jupyter": {
     "source_hidden": true
    }
   },
   "outputs": [],
   "source": [
    "# このセルを実行してください\n",
    "_ans = (\n",
    "    df_receipt.join(df_product, on=col.product_cd)\n",
    "    .group_by(col.customer_id)\n",
    "    .agg(\n",
    "        sum_all=col.amount.sum(),\n",
    "        sum_07=col.amount.filter(col.category_major_cd == \"07\").sum(),\n",
    "    )\n",
    "    .with_columns(sales_rate=pl.col(\"sum_07\") / pl.col(\"sum_all\"))\n",
    "    .filter(pl.col(\"sales_rate\") > 0)\n",
    "    .sort(col.customer_id)\n",
    ")\n",
    "try:\n",
    "    assert _ans.equals(df)\n",
    "except (AssertionError, NameError):\n",
    "    print(\"\\x1b[31mNG\\x1b[39m\")\n",
    "    display(Markdown(\"**期待する結果**\"))\n",
    "    display(_ans.head(3))\n",
    "else:\n",
    "    print(\"\\x1b[32mOK\\x1b[39m\")"
   ]
  },
  {
   "cell_type": "markdown",
   "id": "8420b96d-af5d-421c-8437-5b3cd835e020",
   "metadata": {
    "deletable": true,
    "editable": true,
    "frozen": false
   },
   "source": [
    "---"
   ]
  },
  {
   "cell_type": "markdown",
   "id": "3b58df59-bed5-4375-949e-b5c0d594e635",
   "metadata": {
    "deletable": false,
    "editable": false,
    "frozen": true
   },
   "source": [
    "### `問題N32`\n",
    "\n",
    "レシート明細データ（`df_receipt`）と顧客データ（`df_customer`）を結合し、次の要件で作成し、変数`df`に入れてください。そして、`df`の先頭の3行を表示してください。\n",
    "\n",
    "* 出力する列\n",
    "  * 顧客ID（`customer_id`）\n",
    "  * 売上日（`sales_ymd`）\n",
    "    * 整数型を日付型に変換すること\n",
    "  * 会員申込日（`application_date`）\n",
    "    * 文字列を日付型に変換すること\n",
    "  * 列名を`elapsed_days`とし、会員申込日から売上日までの経過日数を整数で計算すること\n",
    "\n",
    "**解答欄**"
   ]
  },
  {
   "cell_type": "code",
   "execution_count": null,
   "id": "e5f501cd-5d1c-4e72-9a36-1413a968f3e7",
   "metadata": {
    "deletable": true,
    "editable": true,
    "frozen": false
   },
   "outputs": [],
   "source": [
    "# ここから解答を作成してください\n"
   ]
  },
  {
   "cell_type": "markdown",
   "id": "e36d65d2-d6ea-4028-8a7b-f5d5faf58533",
   "metadata": {
    "deletable": false,
    "editable": false,
    "frozen": true
   },
   "source": [
    "<details><summary>解答例</summary>\n",
    "<br>\n",
    "\n",
    "```python\n",
    "df = (\n",
    "    df_receipt.join(df_customer, on=col.customer_id)\n",
    "    .select(\n",
    "        col.customer_id,\n",
    "        col.sales_ymd.cast(pl.Utf8).str.to_date(\"%Y%m%d\"),\n",
    "        col.application_date.str.to_date(\"%Y%m%d\"),\n",
    "    )\n",
    "    .with_columns(\n",
    "        elapsed_days=(col.sales_ymd - col.application_date).dt.total_days()\n",
    "    )\n",
    ")\n",
    "df.head(3)\n",
    "```\n",
    "</details>\n",
    "<br>\n",
    "\n",
    "**確認**"
   ]
  },
  {
   "cell_type": "code",
   "execution_count": null,
   "id": "1fa340c1-6d33-429b-ba7d-46e387a6b068",
   "metadata": {
    "deletable": false,
    "editable": false,
    "frozen": false,
    "jupyter": {
     "source_hidden": true
    }
   },
   "outputs": [],
   "source": [
    "# このセルを実行してください\n",
    "_ans = (\n",
    "    df_receipt.join(df_customer, on=col.customer_id)\n",
    "    .select(\n",
    "        col.customer_id,\n",
    "        col.sales_ymd.cast(pl.Utf8).str.to_date(\"%Y%m%d\"),\n",
    "        col.application_date.str.to_date(\"%Y%m%d\"),\n",
    "    )\n",
    "    .with_columns(\n",
    "        elapsed_days=(col.sales_ymd - col.application_date).dt.total_days()\n",
    "    )\n",
    ")\n",
    "try:\n",
    "    assert _ans.equals(df)\n",
    "except (AssertionError, NameError):\n",
    "    print(\"\\x1b[31mNG\\x1b[39m\")\n",
    "    display(Markdown(\"**期待する結果**\"))\n",
    "    display(_ans.head(3))\n",
    "else:\n",
    "    print(\"\\x1b[32mOK\\x1b[39m\")"
   ]
  },
  {
   "cell_type": "markdown",
   "id": "c8f3703d-f501-4838-86ff-89603975ac0c",
   "metadata": {
    "deletable": true,
    "editable": true,
    "frozen": false
   },
   "source": [
    "---"
   ]
  },
  {
   "cell_type": "markdown",
   "id": "45870d71-d0d1-4e8a-bdf3-206a11206fac",
   "metadata": {
    "deletable": false,
    "editable": false,
    "frozen": true
   },
   "source": [
    "### `問題N34`\n",
    "\n",
    "レシート明細データ（`df_receipt`）に対し、次の要件で作成し、変数`df`に入れてください。そして、`df`の先頭の3行を表示してください。\n",
    "\n",
    "* 出力する列\n",
    "  * 売上日（`sales_ymd`）\n",
    "  * 売上日（`sales_ymd`）\n",
    "    * 列名を`monday`とし、売上日の週の月曜日とすること\n",
    "  * 売上日（`sales_ymd`）\n",
    "    * 列名を`elapsed_days`とし、`monday`からの経過日数の整数とすること\n",
    "\n",
    "**解答欄**"
   ]
  },
  {
   "cell_type": "code",
   "execution_count": null,
   "id": "2780b9c8-d0f7-4ef4-abaf-4a8778637a24",
   "metadata": {
    "deletable": true,
    "editable": true,
    "frozen": false
   },
   "outputs": [],
   "source": [
    "# ここから解答を作成してください\n"
   ]
  },
  {
   "cell_type": "markdown",
   "id": "1c87a31b-cc48-4031-a79a-1639ff699429",
   "metadata": {
    "deletable": false,
    "editable": false,
    "frozen": true
   },
   "source": [
    "<details><summary>解答例</summary>\n",
    "<br>\n",
    "\n",
    "```python\n",
    "df = df_receipt.select(\n",
    "    col.sales_ymd.cast(pl.Utf8).str.to_date(\"%Y%m%d\")\n",
    ").with_columns(\n",
    "    monday=col.sales_ymd.dt.truncate(\"1w\"),\n",
    "    elapsed_days=col.sales_ymd.dt.weekday() - 1,\n",
    ")\n",
    "df.head(3)\n",
    "```\n",
    "</details>\n",
    "<br>\n",
    "\n",
    "**確認**"
   ]
  },
  {
   "cell_type": "code",
   "execution_count": null,
   "id": "b2dd7dc2-e447-4a61-b974-2c67a84f0f5b",
   "metadata": {
    "deletable": false,
    "editable": false,
    "frozen": false,
    "jupyter": {
     "source_hidden": true
    }
   },
   "outputs": [],
   "source": [
    "# このセルを実行してください\n",
    "_ans = df_receipt.select(\n",
    "    col.sales_ymd.cast(pl.Utf8).str.to_date(\"%Y%m%d\")\n",
    ").with_columns(\n",
    "    monday=col.sales_ymd.dt.truncate(\"1w\"),\n",
    "    elapsed_days=col.sales_ymd.dt.weekday() - 1,\n",
    ")\n",
    "try:\n",
    "    assert _ans.equals(df)\n",
    "except (AssertionError, NameError):\n",
    "    print(\"\\x1b[31mNG\\x1b[39m\")\n",
    "    display(Markdown(\"**期待する結果**\"))\n",
    "    display(_ans.head(3))\n",
    "else:\n",
    "    print(\"\\x1b[32mOK\\x1b[39m\")"
   ]
  },
  {
   "cell_type": "markdown",
   "id": "d7f433f3-41ee-44a5-b077-c677b110ac14",
   "metadata": {
    "deletable": true,
    "editable": true,
    "frozen": false
   },
   "source": [
    "---"
   ]
  },
  {
   "cell_type": "markdown",
   "id": "7f7f6db8-38f8-4a07-b16a-c46fc4cab471",
   "metadata": {
    "deletable": false,
    "editable": false,
    "frozen": true
   },
   "source": [
    "### `問題N36`\n",
    "\n",
    "作成されている`_df_customer_geocode`を使って、次の要件で新しくデータを作成し、変数`df`に入れてください。そして、`df`の先頭の3行を表示してください。\n",
    "\n",
    "* 店舗データ（`df_store`）と以下のように結合すること\n",
    "  * `_df_customer_geocode`のキーを`application_store_cd`とすること\n",
    "  * 店舗データのキーを`store_cd`とすること\n",
    "* 出力する列\n",
    "  * 顧客ID（`customer_id`）\n",
    "  * 列名を`customer_address`とし、顧客の住所（`address`）\n",
    "  * 列名を`store_address`とし、店舗の住所（`address_right`）\n",
    "  * 列名を`distance`とし、顧客の住所と店舗の住所間の距離（km）\n",
    "    * 距離は、式`_distance`を使うこと\n",
    "\n",
    "**解答欄**"
   ]
  },
  {
   "cell_type": "code",
   "execution_count": null,
   "id": "9c7bf7d6-0e73-4a7d-86da-a28c367586fa",
   "metadata": {
    "deletable": true,
    "editable": true,
    "frozen": false
   },
   "outputs": [],
   "source": [
    "_df_customer_geocode = df_customer.join(\n",
    "    df_geocode.group_by(col.postal_cd, maintain_order=True).agg(\n",
    "        col.longitude.mean(), col.latitude.mean()\n",
    "    ),\n",
    "    on=col.postal_cd,\n",
    ")\n",
    "\n",
    "_distance = (\n",
    "    (col.latitude.radians().sin() * pl.col(\"latitude_right\").radians().sin())\n",
    "    + (col.latitude.radians().cos() * pl.col(\"latitude_right\").radians().cos())\n",
    "    * (col.longitude - pl.col(\"longitude_right\")).radians().cos()\n",
    ").arccos() * 6371\n",
    "\n",
    "# ここから解答を作成してください\n"
   ]
  },
  {
   "cell_type": "markdown",
   "id": "6e27f6c5-966b-445c-9eeb-351dfe5784c2",
   "metadata": {
    "deletable": false,
    "editable": false,
    "frozen": true
   },
   "source": [
    "<details><summary>解答例</summary>\n",
    "<br>\n",
    "\n",
    "```python\n",
    "df = _df_customer_geocode.join(\n",
    "    df_store, left_on=col.application_store_cd, right_on=col.store_cd\n",
    ").select(\n",
    "    col.customer_id,\n",
    "    customer_address=col.address,\n",
    "    store_address=pl.col(\"address_right\"),\n",
    "    distance=_distance,\n",
    ")\n",
    "df.head(3)\n",
    "```\n",
    "</details>\n",
    "<br>\n",
    "\n",
    "**確認**"
   ]
  },
  {
   "cell_type": "code",
   "execution_count": null,
   "id": "f3eae003-4648-4bf4-9215-61db306f0bce",
   "metadata": {
    "deletable": false,
    "editable": false,
    "frozen": false,
    "jupyter": {
     "source_hidden": true
    }
   },
   "outputs": [],
   "source": [
    "# このセルを実行してください\n",
    "try:\n",
    "    _ans = _df_customer_geocode.join(\n",
    "        df_store, left_on=col.application_store_cd, right_on=col.store_cd\n",
    "    ).select(\n",
    "        col.customer_id,\n",
    "        customer_address=col.address,\n",
    "        store_address=pl.col(\"address_right\"),\n",
    "        distance=_distance,\n",
    "    )\n",
    "    assert _ans.equals(df)\n",
    "except (AssertionError, NameError):\n",
    "    print(\"\\x1b[31mNG\\x1b[39m\")\n",
    "    display(Markdown(\"**期待する結果**\"))\n",
    "    display(_ans.head(3))\n",
    "else:\n",
    "    print(\"\\x1b[32mOK\\x1b[39m\")"
   ]
  },
  {
   "cell_type": "markdown",
   "id": "a79c94b1-9c54-4b3d-8643-71eb0062e2df",
   "metadata": {
    "deletable": true,
    "editable": true,
    "frozen": false
   },
   "source": [
    "---"
   ]
  },
  {
   "cell_type": "markdown",
   "id": "5dfd4b7d-cf67-4160-8bca-4c2f8c7656f6",
   "metadata": {
    "deletable": false,
    "editable": false,
    "frozen": true
   },
   "source": [
    "### `問題N38`\n",
    "\n",
    "顧客データ（`df_customer`）に対し、次の要件で作成し、変数`df`に入れてください。そして、`df`の先頭の3行を表示してください。\n",
    "\n",
    "* レシート明細データ（`df_receipt`）の以下と顧客ID（`customer_id`）をキーに結合すること\n",
    "  * 顧客ID（`customer_id`）ごとの売上金額（`amount`）合計\n",
    "  * 左外部結合とすること\n",
    "* 出力する列\n",
    "  * 顧客ID（`customer_id`）\n",
    "  * 名前（`customer_name`）\n",
    "  * 売上金額（`amount`）\n",
    "  * 郵便番号（`postal_cd`）\n",
    "* 名前と郵便番号が同じ顧客は同一顧客とみなして1顧客1レコードとなるように名寄せすること\n",
    "  * 同一顧客に対しては売上金額合計が最も高いものを残すこと\n",
    "    * 売上金額合計が同一の顧客については顧客IDの番号が小さいものを残すこと\n",
    "\n",
    "**解答欄**"
   ]
  },
  {
   "cell_type": "code",
   "execution_count": null,
   "id": "ee20aac4-70d0-4c70-9748-6e9a72d7e482",
   "metadata": {
    "deletable": true,
    "editable": true,
    "frozen": false
   },
   "outputs": [],
   "source": [
    "# ここから解答を作成してください\n"
   ]
  },
  {
   "cell_type": "markdown",
   "id": "8a7fc0fc-3b84-41da-83cc-32a1ec4e0758",
   "metadata": {
    "deletable": false,
    "editable": false,
    "frozen": true
   },
   "source": [
    "<details><summary>解答例</summary>\n",
    "<br>\n",
    "\n",
    "```python\n",
    "df = (\n",
    "    df_customer.join(\n",
    "        df_receipt.group_by(col.customer_id).agg(col.amount.sum()),\n",
    "        on=col.customer_id,\n",
    "        how=\"left\",\n",
    "    )\n",
    "    .select(cs.starts_with(\"customer\"), col.amount.fill_null(0), col.postal_cd)\n",
    "    .sort([col.amount, col.customer_id], descending=[True, False])\n",
    "    .unique([col.customer_name, col.postal_cd], maintain_order=True)\n",
    ")\n",
    "df.head(3)\n",
    "```\n",
    "</details>\n",
    "<br>\n",
    "\n",
    "**確認**"
   ]
  },
  {
   "cell_type": "code",
   "execution_count": null,
   "id": "f6b8b201-b97b-41d2-aee0-9394f5f2a4af",
   "metadata": {
    "deletable": false,
    "editable": false,
    "frozen": false,
    "jupyter": {
     "source_hidden": true
    }
   },
   "outputs": [],
   "source": [
    "# このセルを実行してください\n",
    "_ans = (\n",
    "    df_customer.join(\n",
    "        df_receipt.group_by(col.customer_id).agg(col.amount.sum()),\n",
    "        on=col.customer_id,\n",
    "        how=\"left\",\n",
    "    )\n",
    "    .select(cs.starts_with(\"customer\"), col.amount.fill_null(0), col.postal_cd)\n",
    "    .sort([col.amount, col.customer_id], descending=[True, False])\n",
    "    .unique([col.customer_name, col.postal_cd], maintain_order=True)\n",
    ")\n",
    "try:\n",
    "    assert _ans.equals(df)\n",
    "except (AssertionError, NameError):\n",
    "    print(\"\\x1b[31mNG\\x1b[39m\")\n",
    "    display(Markdown(\"**期待する結果**\"))\n",
    "    display(_ans.head(3))\n",
    "else:\n",
    "    print(\"\\x1b[32mOK\\x1b[39m\")"
   ]
  },
  {
   "cell_type": "markdown",
   "id": "dbe218d5-7299-41c7-a457-5e038cb57ba5",
   "metadata": {
    "deletable": true,
    "editable": true,
    "frozen": false
   },
   "source": [
    "---"
   ]
  },
  {
   "cell_type": "markdown",
   "id": "8149c9ef-4e94-4dd4-b998-3abb2e4d324b",
   "metadata": {
    "deletable": false,
    "editable": false,
    "frozen": true
   },
   "source": [
    "### `問題N40`\n",
    "\n",
    "商品データ（`df_product`）に対し、次の要件で作成し、変数`df`に入れてください。そして、`df`の先頭の3行を表示してください。\n",
    "\n",
    "* 単価（`unit_price`）と原価（`unit_cost`）の欠損値について、各商品のカテゴリ小区分コード（`category_small_cd`）ごとに算出した中央値で補完すること\n",
    "\n",
    "**解答欄**"
   ]
  },
  {
   "cell_type": "code",
   "execution_count": null,
   "id": "3586edbe-83fe-47e1-9d7e-3289ebb9f79a",
   "metadata": {
    "deletable": true,
    "editable": true,
    "frozen": false
   },
   "outputs": [],
   "source": [
    "# ここから解答を作成してください\n"
   ]
  },
  {
   "cell_type": "markdown",
   "id": "b2e0237f-1b04-4a3e-8056-2cd5302c632c",
   "metadata": {
    "deletable": false,
    "editable": false,
    "frozen": true
   },
   "source": [
    "<details><summary>解答例</summary>\n",
    "<br>\n",
    "\n",
    "```python\n",
    "df = df_product.with_columns(\n",
    "    col.unit_price.fill_null(col.unit_price.median().over(col.category_small_cd)),\n",
    "    col.unit_cost.fill_null(col.unit_cost.median().over(col.category_small_cd)),\n",
    ")\n",
    "df.head(3)\n",
    "```\n",
    "</details>\n",
    "<br>\n",
    "\n",
    "**確認**"
   ]
  },
  {
   "cell_type": "code",
   "execution_count": null,
   "id": "e66eb54d-ad94-4e73-b4bb-163127ce714d",
   "metadata": {
    "deletable": false,
    "editable": false,
    "frozen": false,
    "jupyter": {
     "source_hidden": true
    }
   },
   "outputs": [],
   "source": [
    "# このセルを実行してください\n",
    "_ans = df_product.with_columns(\n",
    "    col.unit_price.fill_null(col.unit_price.median().over(col.category_small_cd)),\n",
    "    col.unit_cost.fill_null(col.unit_cost.median().over(col.category_small_cd)),\n",
    ")\n",
    "try:\n",
    "    assert _ans.equals(df)\n",
    "except (AssertionError, NameError):\n",
    "    print(\"\\x1b[31mNG\\x1b[39m\")\n",
    "    display(Markdown(\"**期待する結果**\"))\n",
    "    display(_ans.head(3))\n",
    "else:\n",
    "    print(\"\\x1b[32mOK\\x1b[39m\")"
   ]
  },
  {
   "cell_type": "markdown",
   "id": "3c3b4dcf-208e-4bca-bec4-777ae7f15a36",
   "metadata": {
    "deletable": true,
    "editable": true,
    "frozen": false
   },
   "source": [
    "---"
   ]
  },
  {
   "cell_type": "markdown",
   "id": "0d078e76-54ae-4c3c-99cc-2ef75ead1cac",
   "metadata": {
    "deletable": false,
    "editable": false,
    "frozen": true
   },
   "source": [
    "### `問題N42`\n",
    "\n",
    "`_df`に対し、次の要件で作成し、変数`df`に入れてください。そして、`df`を表示してください。\n",
    "\n",
    "* 以下の列を追加すること\n",
    "  * 列`a`と列`b`の小さい方を求め、列名を`min`とすること\n",
    "  * 列`a`と列`b`の大きい方を求め、列名を`max`とすること\n",
    "\n",
    "**解答欄**"
   ]
  },
  {
   "cell_type": "code",
   "execution_count": null,
   "id": "d84f7560-3445-4ac8-a2e5-77c3f8108aa2",
   "metadata": {
    "deletable": true,
    "editable": true,
    "frozen": false
   },
   "outputs": [],
   "source": [
    "_df = pl.DataFrame(\n",
    "    {\n",
    "        \"a\": [0, 1, 2],\n",
    "        \"b\": [1, 2, 0],\n",
    "    }\n",
    ")\n",
    "# ここから解答を作成してください\n"
   ]
  },
  {
   "cell_type": "markdown",
   "id": "896ec60e-6ac3-4234-ac92-17ae3f7362f5",
   "metadata": {
    "deletable": false,
    "editable": false,
    "frozen": true
   },
   "source": [
    "<details><summary>解答例</summary>\n",
    "<br>\n",
    "\n",
    "```python\n",
    "ab = pl.col(\"a\", \"b\")\n",
    "df = _df.with_columns(\n",
    "    min=pl.min_horizontal(ab),\n",
    "    max=pl.max_horizontal(ab),\n",
    ")\n",
    "df\n",
    "```\n",
    "</details>\n",
    "<br>\n",
    "\n",
    "**確認**"
   ]
  },
  {
   "cell_type": "code",
   "execution_count": null,
   "id": "006c1569-b697-466d-b5a9-a49d1b5bd57d",
   "metadata": {
    "deletable": false,
    "editable": false,
    "frozen": false,
    "jupyter": {
     "source_hidden": true
    }
   },
   "outputs": [],
   "source": [
    "# このセルを実行してください\n",
    "ab = pl.col(\"a\", \"b\")\n",
    "try:\n",
    "    _ans = _df.with_columns(\n",
    "        min=pl.min_horizontal(ab),\n",
    "        max=pl.max_horizontal(ab),\n",
    "    )\n",
    "    assert _ans.equals(df)\n",
    "except (AssertionError, NameError, pl.exceptions.ColumnNotFoundError):\n",
    "    print(\"\\x1b[31mNG\\x1b[39m\")\n",
    "    display(Markdown(\"**期待する結果**\"))\n",
    "    display(_ans)\n",
    "else:\n",
    "    print(\"\\x1b[32mOK\\x1b[39m\")"
   ]
  },
  {
   "cell_type": "markdown",
   "id": "dfe41b3e-a9e6-4030-bea6-ed54a536c6d8",
   "metadata": {
    "deletable": true,
    "editable": true,
    "frozen": false
   },
   "source": [
    "---"
   ]
  },
  {
   "cell_type": "markdown",
   "id": "bbb1aff4-a3db-423b-b7bf-5d728c91d205",
   "metadata": {
    "deletable": false,
    "editable": false,
    "frozen": true
   },
   "source": [
    "お疲れさまでした"
   ]
  }
 ],
 "metadata": {
  "kernelspec": {
   "display_name": "Python 3 (ipykernel)",
   "language": "python",
   "name": "python3"
  },
  "language_info": {
   "codemirror_mode": {
    "name": "ipython",
    "version": 3
   },
   "file_extension": ".py",
   "mimetype": "text/x-python",
   "name": "python",
   "nbconvert_exporter": "python",
   "pygments_lexer": "ipython3",
   "version": "3.12.5"
  }
 },
 "nbformat": 4,
 "nbformat_minor": 5
}
